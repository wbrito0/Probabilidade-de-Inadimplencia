{
 "cells": [
  {
   "cell_type": "markdown",
   "id": "9e5e4016",
   "metadata": {
    "id": "9e5e4016"
   },
   "source": [
    "## Inicio"
   ]
  },
  {
   "cell_type": "code",
   "execution_count": 1,
   "id": "50bf6a98",
   "metadata": {
    "executionInfo": {
     "elapsed": 648,
     "status": "ok",
     "timestamp": 1751836637955,
     "user": {
      "displayName": "WESLEY DE BRITO",
      "userId": "08430531657947538891"
     },
     "user_tz": 180
    },
    "id": "50bf6a98"
   },
   "outputs": [],
   "source": [
    "# import\n",
    "import pandas as pd\n",
    "import numpy as np\n",
    "import sklearn\n",
    "import matplotlib\n",
    "import tensorflow\n",
    "import plotly"
   ]
  },
  {
   "cell_type": "code",
   "execution_count": null,
   "id": "-A3aEtDMmjUk",
   "metadata": {
    "colab": {
     "base_uri": "https://localhost:8080/"
    },
    "executionInfo": {
     "elapsed": 19,
     "status": "ok",
     "timestamp": 1751836699365,
     "user": {
      "displayName": "WESLEY DE BRITO",
      "userId": "08430531657947538891"
     },
     "user_tz": 180
    },
    "id": "-A3aEtDMmjUk",
    "outputId": "e7b6cfad-fa88-40b8-ce6c-90f8d85b52b8"
   },
   "outputs": [
    {
     "name": "stdout",
     "output_type": "stream",
     "text": [
      "matplotlib==3.7.5\n",
      "tensorflow==2.18.0\n",
      "plotly==5.24.1\n",
      "pd==2.2.2\n",
      "np==1.26.4\n",
      "sklearn==1.4.2\n"
     ]
    }
   ],
   "source": [
    "\n",
    "# python==3.12.10\n",
    "# matplotlib==3.7.5\n",
    "# tensorflow==2.18.0\n",
    "# plotly==5.24.1\n",
    "# pandas==2.2.2\n",
    "# numpy==1.26.4\n",
    "# scikit-learn==1.4.2\n",
    "\n",
    "print(f'matplotlib=={matplotlib.__version__}')\n",
    "print(f'tensorflow=={tensorflow.__version__}')\n",
    "print(f'plotly=={plotly.__version__}')\n",
    "print(f'pd=={pd.__version__}')\n",
    "print(f'np=={np.__version__}')\n",
    "print(f'sklearn=={sklearn.__version__}')"
   ]
  },
  {
   "cell_type": "markdown",
   "id": "0be939b1",
   "metadata": {
    "id": "0be939b1"
   },
   "source": [
    "## Tratamento das bases"
   ]
  },
  {
   "cell_type": "markdown",
   "id": "c8ea989a",
   "metadata": {},
   "source": [
    "Nos tratamentos da `base_cadastral` e `base_info` eu adotei o racional de substituir os valores nulos, devido ao fato de que irei ultilizar os valos das duas bases para enriquecer a `base_pagamentos`. <br>\n",
    "Excluir informações nessa etapa iria prejudicar tratamentos futuros."
   ]
  },
  {
   "cell_type": "markdown",
   "id": "30efffbe",
   "metadata": {
    "id": "30efffbe"
   },
   "source": [
    "### Tratando `base_cadastral`"
   ]
  },
  {
   "cell_type": "markdown",
   "id": "7a40b0af",
   "metadata": {},
   "source": [
    "#### Resumo do tratamento\n",
    "Nos blocos a seguir, realizei as seguintes tarefas:\n",
    "- Tratamento dos valores NaN na colunas `FLAG_PF`, transformandos os valores em 1 ou 0\n",
    "- Subistitui os valores nulos nas colunas `PORTE`,`SEGMENTO_INDUSTRIAL`,`DOMINIO_EMAIL` pela `MODA` (valores mais frequentes)"
   ]
  },
  {
   "cell_type": "markdown",
   "id": "9817e5d5",
   "metadata": {
    "id": "9817e5d5"
   },
   "source": [
    "##### Leitura"
   ]
  },
  {
   "cell_type": "code",
   "execution_count": null,
   "id": "60363cda",
   "metadata": {
    "colab": {
     "base_uri": "https://localhost:8080/",
     "height": 0
    },
    "executionInfo": {
     "elapsed": 57,
     "status": "ok",
     "timestamp": 1751837917673,
     "user": {
      "displayName": "WESLEY DE BRITO",
      "userId": "08430531657947538891"
     },
     "user_tz": 180
    },
    "id": "60363cda",
    "outputId": "71ee1ea5-de9e-41cb-fbe8-73ce770fd183"
   },
   "outputs": [
    {
     "name": "stdout",
     "output_type": "stream",
     "text": [
      "<class 'pandas.core.frame.DataFrame'>\n",
      "RangeIndex: 1315 entries, 0 to 1314\n",
      "Data columns (total 8 columns):\n",
      " #   Column               Non-Null Count  Dtype \n",
      "---  ------               --------------  ----- \n",
      " 0   ID_CLIENTE           1315 non-null   int64 \n",
      " 1   DATA_CADASTRO        1315 non-null   object\n",
      " 2   DDD                  1078 non-null   object\n",
      " 3   FLAG_PF              66 non-null     object\n",
      " 4   SEGMENTO_INDUSTRIAL  1232 non-null   object\n",
      " 5   DOMINIO_EMAIL        1285 non-null   object\n",
      " 6   PORTE                1274 non-null   object\n",
      " 7   CEP_2_DIG            1315 non-null   object\n",
      "dtypes: int64(1), object(7)\n",
      "memory usage: 82.3+ KB\n",
      "None\n",
      "ID_CLIENTE                0\n",
      "DATA_CADASTRO             0\n",
      "DDD                     237\n",
      "FLAG_PF                1249\n",
      "SEGMENTO_INDUSTRIAL      83\n",
      "DOMINIO_EMAIL            30\n",
      "PORTE                    41\n",
      "CEP_2_DIG                 0\n",
      "dtype: int64\n"
     ]
    },
    {
     "data": {
      "text/html": [
       "<div>\n",
       "<style scoped>\n",
       "    .dataframe tbody tr th:only-of-type {\n",
       "        vertical-align: middle;\n",
       "    }\n",
       "\n",
       "    .dataframe tbody tr th {\n",
       "        vertical-align: top;\n",
       "    }\n",
       "\n",
       "    .dataframe thead th {\n",
       "        text-align: right;\n",
       "    }\n",
       "</style>\n",
       "<table border=\"1\" class=\"dataframe\">\n",
       "  <thead>\n",
       "    <tr style=\"text-align: right;\">\n",
       "      <th></th>\n",
       "      <th>ID_CLIENTE</th>\n",
       "      <th>DATA_CADASTRO</th>\n",
       "      <th>DDD</th>\n",
       "      <th>FLAG_PF</th>\n",
       "      <th>SEGMENTO_INDUSTRIAL</th>\n",
       "      <th>DOMINIO_EMAIL</th>\n",
       "      <th>PORTE</th>\n",
       "      <th>CEP_2_DIG</th>\n",
       "    </tr>\n",
       "  </thead>\n",
       "  <tbody>\n",
       "    <tr>\n",
       "      <th>0</th>\n",
       "      <td>1661240395903230676</td>\n",
       "      <td>2013-08-22</td>\n",
       "      <td>99</td>\n",
       "      <td>NaN</td>\n",
       "      <td>Serviços</td>\n",
       "      <td>YAHOO</td>\n",
       "      <td>PEQUENO</td>\n",
       "      <td>65</td>\n",
       "    </tr>\n",
       "    <tr>\n",
       "      <th>1</th>\n",
       "      <td>8274986328479596038</td>\n",
       "      <td>2017-01-25</td>\n",
       "      <td>31</td>\n",
       "      <td>NaN</td>\n",
       "      <td>Comércio</td>\n",
       "      <td>YAHOO</td>\n",
       "      <td>MEDIO</td>\n",
       "      <td>77</td>\n",
       "    </tr>\n",
       "  </tbody>\n",
       "</table>\n",
       "</div>"
      ],
      "text/plain": [
       "            ID_CLIENTE DATA_CADASTRO DDD FLAG_PF SEGMENTO_INDUSTRIAL  \\\n",
       "0  1661240395903230676    2013-08-22  99     NaN            Serviços   \n",
       "1  8274986328479596038    2017-01-25  31     NaN            Comércio   \n",
       "\n",
       "  DOMINIO_EMAIL    PORTE CEP_2_DIG  \n",
       "0         YAHOO  PEQUENO        65  \n",
       "1         YAHOO    MEDIO        77  "
      ]
     },
     "metadata": {},
     "output_type": "display_data"
    }
   ],
   "source": [
    "base_cadastral = pd.read_csv('data/base_cadastral.csv', sep= ';')\n",
    "print(base_cadastral.info())\n",
    "print(base_cadastral.isnull().sum())\n",
    "display(base_cadastral.head(2))"
   ]
  },
  {
   "cell_type": "markdown",
   "id": "3be43ce1",
   "metadata": {
    "id": "3be43ce1"
   },
   "source": [
    "##### Ajustando valores `Null` da coluna `FLAG_PF`, transformando em 1 ou 0"
   ]
  },
  {
   "cell_type": "code",
   "execution_count": 4,
   "id": "85d94461",
   "metadata": {
    "colab": {
     "base_uri": "https://localhost:8080/",
     "height": 0
    },
    "executionInfo": {
     "elapsed": 21,
     "status": "ok",
     "timestamp": 1751837918895,
     "user": {
      "displayName": "WESLEY DE BRITO",
      "userId": "08430531657947538891"
     },
     "user_tz": 180
    },
    "id": "85d94461",
    "outputId": "4d711701-af13-4ff3-8f30-2245891e8dfa"
   },
   "outputs": [
    {
     "data": {
      "text/plain": [
       "FLAG_PF\n",
       "X    66\n",
       "Name: count, dtype: int64"
      ]
     },
     "execution_count": 4,
     "metadata": {},
     "output_type": "execute_result"
    }
   ],
   "source": [
    "# Temos 1249\n",
    "base_cadastral['FLAG_PF'].value_counts()"
   ]
  },
  {
   "cell_type": "code",
   "execution_count": 5,
   "id": "3ddfe085",
   "metadata": {
    "colab": {
     "base_uri": "https://localhost:8080/",
     "height": 0
    },
    "executionInfo": {
     "elapsed": 21,
     "status": "ok",
     "timestamp": 1751837918917,
     "user": {
      "displayName": "WESLEY DE BRITO",
      "userId": "08430531657947538891"
     },
     "user_tz": 180
    },
    "id": "3ddfe085",
    "outputId": "c84649dc-f09f-405a-8b00-185f9800ce4e"
   },
   "outputs": [
    {
     "data": {
      "text/plain": [
       "FLAG_PF\n",
       "0    1249\n",
       "1      66\n",
       "Name: count, dtype: int64"
      ]
     },
     "execution_count": 5,
     "metadata": {},
     "output_type": "execute_result"
    }
   ],
   "source": [
    "# tranformando os valores X e NaN em 1 ou 0 \n",
    "base_cadastral['FLAG_PF']=(base_cadastral['FLAG_PF']== \"X\").astype(int)\n",
    "base_cadastral['FLAG_PF'].value_counts()"
   ]
  },
  {
   "cell_type": "markdown",
   "id": "6fedd5f3",
   "metadata": {
    "id": "6fedd5f3"
   },
   "source": [
    "##### Ajustando valores `Null` da coluna `PORTE`, transformando em valores que mais aparecem"
   ]
  },
  {
   "cell_type": "code",
   "execution_count": 6,
   "id": "0288cf40",
   "metadata": {
    "colab": {
     "base_uri": "https://localhost:8080/"
    },
    "executionInfo": {
     "elapsed": 51,
     "status": "ok",
     "timestamp": 1751837920145,
     "user": {
      "displayName": "WESLEY DE BRITO",
      "userId": "08430531657947538891"
     },
     "user_tz": 180
    },
    "id": "0288cf40",
    "outputId": "08fee24a-f9f4-4fc2-8b62-eb2b0e9b91a6"
   },
   "outputs": [
    {
     "name": "stdout",
     "output_type": "stream",
     "text": [
      "PORTE\n",
      "MEDIO      522\n",
      "GRANDE     480\n",
      "PEQUENO    272\n",
      "Name: count, dtype: int64\n"
     ]
    }
   ],
   "source": [
    "# temos 41 valores NaN\n",
    "print(base_cadastral['PORTE'].value_counts())"
   ]
  },
  {
   "cell_type": "code",
   "execution_count": 7,
   "id": "42a99dda",
   "metadata": {
    "colab": {
     "base_uri": "https://localhost:8080/",
     "height": 0
    },
    "executionInfo": {
     "elapsed": 35,
     "status": "ok",
     "timestamp": 1751837920192,
     "user": {
      "displayName": "WESLEY DE BRITO",
      "userId": "08430531657947538891"
     },
     "user_tz": 180
    },
    "id": "42a99dda",
    "outputId": "f9486f98-45ec-4bf8-e431-2cd7b40c2ee9"
   },
   "outputs": [
    {
     "data": {
      "text/html": [
       "<div>\n",
       "<style scoped>\n",
       "    .dataframe tbody tr th:only-of-type {\n",
       "        vertical-align: middle;\n",
       "    }\n",
       "\n",
       "    .dataframe tbody tr th {\n",
       "        vertical-align: top;\n",
       "    }\n",
       "\n",
       "    .dataframe thead th {\n",
       "        text-align: right;\n",
       "    }\n",
       "</style>\n",
       "<table border=\"1\" class=\"dataframe\">\n",
       "  <thead>\n",
       "    <tr style=\"text-align: right;\">\n",
       "      <th></th>\n",
       "      <th>ID_CLIENTE</th>\n",
       "      <th>DATA_CADASTRO</th>\n",
       "      <th>DDD</th>\n",
       "      <th>FLAG_PF</th>\n",
       "      <th>SEGMENTO_INDUSTRIAL</th>\n",
       "      <th>DOMINIO_EMAIL</th>\n",
       "      <th>PORTE</th>\n",
       "      <th>CEP_2_DIG</th>\n",
       "    </tr>\n",
       "  </thead>\n",
       "  <tbody>\n",
       "    <tr>\n",
       "      <th>21</th>\n",
       "      <td>5301988619224057921</td>\n",
       "      <td>2016-02-24</td>\n",
       "      <td>67</td>\n",
       "      <td>0</td>\n",
       "      <td>Indústria</td>\n",
       "      <td>GMAIL</td>\n",
       "      <td>NaN</td>\n",
       "      <td>79</td>\n",
       "    </tr>\n",
       "    <tr>\n",
       "      <th>51</th>\n",
       "      <td>8729164666041467296</td>\n",
       "      <td>2014-03-13</td>\n",
       "      <td>71</td>\n",
       "      <td>0</td>\n",
       "      <td>Serviços</td>\n",
       "      <td>GMAIL</td>\n",
       "      <td>NaN</td>\n",
       "      <td>41</td>\n",
       "    </tr>\n",
       "  </tbody>\n",
       "</table>\n",
       "</div>"
      ],
      "text/plain": [
       "             ID_CLIENTE DATA_CADASTRO DDD  FLAG_PF SEGMENTO_INDUSTRIAL  \\\n",
       "21  5301988619224057921    2016-02-24  67        0           Indústria   \n",
       "51  8729164666041467296    2014-03-13  71        0            Serviços   \n",
       "\n",
       "   DOMINIO_EMAIL PORTE CEP_2_DIG  \n",
       "21         GMAIL   NaN        79  \n",
       "51         GMAIL   NaN        41  "
      ]
     },
     "execution_count": 7,
     "metadata": {},
     "output_type": "execute_result"
    }
   ],
   "source": [
    "base_cadastral.loc[base_cadastral['PORTE'].isna()].head(2)"
   ]
  },
  {
   "cell_type": "code",
   "execution_count": 8,
   "id": "cff36d40",
   "metadata": {
    "colab": {
     "base_uri": "https://localhost:8080/"
    },
    "executionInfo": {
     "elapsed": 35,
     "status": "ok",
     "timestamp": 1751837995927,
     "user": {
      "displayName": "WESLEY DE BRITO",
      "userId": "08430531657947538891"
     },
     "user_tz": 180
    },
    "id": "cff36d40",
    "outputId": "e5bced3f-24ba-4b23-93eb-fac4502b3a2c"
   },
   "outputs": [
    {
     "name": "stdout",
     "output_type": "stream",
     "text": [
      "PORTE\n",
      "MEDIO      563\n",
      "GRANDE     480\n",
      "PEQUENO    272\n",
      "Name: count, dtype: int64\n"
     ]
    }
   ],
   "source": [
    "base_cadastral.loc[base_cadastral['PORTE'].isna(), 'PORTE'] = 'MEDIO'\n",
    "print(base_cadastral['PORTE'].value_counts())"
   ]
  },
  {
   "cell_type": "markdown",
   "id": "970d1bef",
   "metadata": {
    "id": "970d1bef"
   },
   "source": [
    "##### Ajustando valores `Null` da coluna `SEGMENTO_INDUSTRIAL`, transformando em valores que mais aparecem"
   ]
  },
  {
   "cell_type": "code",
   "execution_count": 9,
   "id": "d30edaae",
   "metadata": {
    "colab": {
     "base_uri": "https://localhost:8080/",
     "height": 0
    },
    "executionInfo": {
     "elapsed": 45,
     "status": "ok",
     "timestamp": 1751837925998,
     "user": {
      "displayName": "WESLEY DE BRITO",
      "userId": "08430531657947538891"
     },
     "user_tz": 180
    },
    "id": "d30edaae",
    "outputId": "62fb638a-f682-453f-f1d0-3aa5358137ed"
   },
   "outputs": [
    {
     "data": {
      "text/plain": [
       "SEGMENTO_INDUSTRIAL\n",
       "Serviços     503\n",
       "Comércio     431\n",
       "Indústria    298\n",
       "Name: count, dtype: int64"
      ]
     },
     "execution_count": 9,
     "metadata": {},
     "output_type": "execute_result"
    }
   ],
   "source": [
    "# Temos 83 NULL\n",
    "base_cadastral['SEGMENTO_INDUSTRIAL'].value_counts()"
   ]
  },
  {
   "cell_type": "code",
   "execution_count": 10,
   "id": "a3b1f2be",
   "metadata": {
    "colab": {
     "base_uri": "https://localhost:8080/",
     "height": 0
    },
    "executionInfo": {
     "elapsed": 6,
     "status": "ok",
     "timestamp": 1751837926007,
     "user": {
      "displayName": "WESLEY DE BRITO",
      "userId": "08430531657947538891"
     },
     "user_tz": 180
    },
    "id": "a3b1f2be",
    "outputId": "2f8e1b5a-4a99-46db-de02-52b1cda3f029"
   },
   "outputs": [
    {
     "data": {
      "text/html": [
       "<div>\n",
       "<style scoped>\n",
       "    .dataframe tbody tr th:only-of-type {\n",
       "        vertical-align: middle;\n",
       "    }\n",
       "\n",
       "    .dataframe tbody tr th {\n",
       "        vertical-align: top;\n",
       "    }\n",
       "\n",
       "    .dataframe thead th {\n",
       "        text-align: right;\n",
       "    }\n",
       "</style>\n",
       "<table border=\"1\" class=\"dataframe\">\n",
       "  <thead>\n",
       "    <tr style=\"text-align: right;\">\n",
       "      <th></th>\n",
       "      <th>ID_CLIENTE</th>\n",
       "      <th>DATA_CADASTRO</th>\n",
       "      <th>DDD</th>\n",
       "      <th>FLAG_PF</th>\n",
       "      <th>SEGMENTO_INDUSTRIAL</th>\n",
       "      <th>DOMINIO_EMAIL</th>\n",
       "      <th>PORTE</th>\n",
       "      <th>CEP_2_DIG</th>\n",
       "    </tr>\n",
       "  </thead>\n",
       "  <tbody>\n",
       "    <tr>\n",
       "      <th>11</th>\n",
       "      <td>3118152790263512426</td>\n",
       "      <td>2000-08-15</td>\n",
       "      <td>21</td>\n",
       "      <td>0</td>\n",
       "      <td>NaN</td>\n",
       "      <td>OUTLOOK</td>\n",
       "      <td>MEDIO</td>\n",
       "      <td>22</td>\n",
       "    </tr>\n",
       "    <tr>\n",
       "      <th>19</th>\n",
       "      <td>314309872114206760</td>\n",
       "      <td>2011-02-14</td>\n",
       "      <td>41</td>\n",
       "      <td>0</td>\n",
       "      <td>NaN</td>\n",
       "      <td>YAHOO</td>\n",
       "      <td>GRANDE</td>\n",
       "      <td>82</td>\n",
       "    </tr>\n",
       "  </tbody>\n",
       "</table>\n",
       "</div>"
      ],
      "text/plain": [
       "             ID_CLIENTE DATA_CADASTRO DDD  FLAG_PF SEGMENTO_INDUSTRIAL  \\\n",
       "11  3118152790263512426    2000-08-15  21        0                 NaN   \n",
       "19   314309872114206760    2011-02-14  41        0                 NaN   \n",
       "\n",
       "   DOMINIO_EMAIL   PORTE CEP_2_DIG  \n",
       "11       OUTLOOK   MEDIO        22  \n",
       "19         YAHOO  GRANDE        82  "
      ]
     },
     "execution_count": 10,
     "metadata": {},
     "output_type": "execute_result"
    }
   ],
   "source": [
    "base_cadastral.loc[base_cadastral['SEGMENTO_INDUSTRIAL'].isna()].head(2)"
   ]
  },
  {
   "cell_type": "code",
   "execution_count": 11,
   "id": "0d0fa987",
   "metadata": {
    "colab": {
     "base_uri": "https://localhost:8080/"
    },
    "executionInfo": {
     "elapsed": 24,
     "status": "ok",
     "timestamp": 1751837926032,
     "user": {
      "displayName": "WESLEY DE BRITO",
      "userId": "08430531657947538891"
     },
     "user_tz": 180
    },
    "id": "0d0fa987",
    "outputId": "3b255b15-3a16-48c0-ee74-c620708bfaf9"
   },
   "outputs": [
    {
     "name": "stdout",
     "output_type": "stream",
     "text": [
      "SEGMENTO_INDUSTRIAL\n",
      "Serviços     586\n",
      "Comércio     431\n",
      "Indústria    298\n",
      "Name: count, dtype: int64\n"
     ]
    }
   ],
   "source": [
    "base_cadastral.loc[base_cadastral['SEGMENTO_INDUSTRIAL'].isna(), 'SEGMENTO_INDUSTRIAL'] = 'Serviços'\n",
    "print(base_cadastral['SEGMENTO_INDUSTRIAL'].value_counts())"
   ]
  },
  {
   "cell_type": "markdown",
   "id": "bf001dc2",
   "metadata": {
    "id": "bf001dc2"
   },
   "source": [
    "##### Ajustando valores `Null` da coluna `DOMINIO_EMAIL`, transformando em valores que mais aparecem"
   ]
  },
  {
   "cell_type": "code",
   "execution_count": 12,
   "id": "ed03fba6",
   "metadata": {
    "colab": {
     "base_uri": "https://localhost:8080/"
    },
    "executionInfo": {
     "elapsed": 23,
     "status": "ok",
     "timestamp": 1751837930055,
     "user": {
      "displayName": "WESLEY DE BRITO",
      "userId": "08430531657947538891"
     },
     "user_tz": 180
    },
    "id": "ed03fba6",
    "outputId": "a9d87905-f7d1-4fd4-bc08-c7b60719bb78"
   },
   "outputs": [
    {
     "name": "stdout",
     "output_type": "stream",
     "text": [
      "DOMINIO_EMAIL\n",
      "YAHOO      392\n",
      "GMAIL      390\n",
      "HOTMAIL    323\n",
      "AOL         74\n",
      "OUTLOOK     72\n",
      "BOL         34\n",
      "Name: count, dtype: int64\n"
     ]
    }
   ],
   "source": [
    "# Temos 83 NULL\n",
    "print(base_cadastral['DOMINIO_EMAIL'].value_counts())"
   ]
  },
  {
   "cell_type": "code",
   "execution_count": 13,
   "id": "2521c5e3",
   "metadata": {
    "colab": {
     "base_uri": "https://localhost:8080/"
    },
    "executionInfo": {
     "elapsed": 7,
     "status": "ok",
     "timestamp": 1751837930065,
     "user": {
      "displayName": "WESLEY DE BRITO",
      "userId": "08430531657947538891"
     },
     "user_tz": 180
    },
    "id": "2521c5e3",
    "outputId": "2fc1b6e7-5802-47ab-8155-9621aa848338"
   },
   "outputs": [
    {
     "name": "stdout",
     "output_type": "stream",
     "text": [
      "DOMINIO_EMAIL\n",
      "YAHOO      422\n",
      "GMAIL      390\n",
      "HOTMAIL    323\n",
      "AOL         74\n",
      "OUTLOOK     72\n",
      "BOL         34\n",
      "Name: count, dtype: int64\n"
     ]
    }
   ],
   "source": [
    "\n",
    "base_cadastral.loc[base_cadastral['DOMINIO_EMAIL'].isna(),'DOMINIO_EMAIL'] = \"YAHOO\"\n",
    "print(base_cadastral['DOMINIO_EMAIL'].value_counts())"
   ]
  },
  {
   "cell_type": "markdown",
   "id": "FFw0wfwLoiRf",
   "metadata": {
    "id": "FFw0wfwLoiRf"
   },
   "source": [
    "### Tratando `base_info`"
   ]
  },
  {
   "cell_type": "markdown",
   "id": "f95ac1dc",
   "metadata": {},
   "source": [
    "#### Resumo do tratamento\n",
    "Nos blocos a seguir, realizei as seguintes tarefas:\n",
    "- Merge para enriquecer o dataframe `base_info` com as informações de `PORTE` da`base_cadastral`.\n",
    "- Na coluna `PORTE` havia empresas que não estavam na `base_cadastral`, eu sobstituir os valores faltantes pela `MODA`.\n",
    "- As colunas `NO_FUNCIONARIOS`, `RENDA_MES_ANTERIOR_media` e `NO_FUNCIONARIOS_media` substitui pela `MÉDIA` de cada `PORTE`"
   ]
  },
  {
   "cell_type": "markdown",
   "id": "0a9a3712",
   "metadata": {},
   "source": [
    "##### Leitura"
   ]
  },
  {
   "cell_type": "code",
   "execution_count": null,
   "id": "vKqURws1orK1",
   "metadata": {
    "colab": {
     "base_uri": "https://localhost:8080/",
     "height": 407
    },
    "executionInfo": {
     "elapsed": 69,
     "status": "ok",
     "timestamp": 1751848204652,
     "user": {
      "displayName": "WESLEY DE BRITO",
      "userId": "08430531657947538891"
     },
     "user_tz": 180
    },
    "id": "vKqURws1orK1",
    "outputId": "7d9937a0-961f-47d4-e184-4df62f4b453a"
   },
   "outputs": [
    {
     "name": "stdout",
     "output_type": "stream",
     "text": [
      "<class 'pandas.core.frame.DataFrame'>\n",
      "RangeIndex: 24401 entries, 0 to 24400\n",
      "Data columns (total 4 columns):\n",
      " #   Column              Non-Null Count  Dtype  \n",
      "---  ------              --------------  -----  \n",
      " 0   ID_CLIENTE          24401 non-null  int64  \n",
      " 1   SAFRA_REF           24401 non-null  object \n",
      " 2   RENDA_MES_ANTERIOR  23684 non-null  float64\n",
      " 3   NO_FUNCIONARIOS     23149 non-null  float64\n",
      "dtypes: float64(2), int64(1), object(1)\n",
      "memory usage: 762.7+ KB\n",
      "None\n",
      "ID_CLIENTE               0\n",
      "SAFRA_REF                0\n",
      "RENDA_MES_ANTERIOR     717\n",
      "NO_FUNCIONARIOS       1252\n",
      "dtype: int64\n"
     ]
    },
    {
     "data": {
      "text/html": [
       "<div>\n",
       "<style scoped>\n",
       "    .dataframe tbody tr th:only-of-type {\n",
       "        vertical-align: middle;\n",
       "    }\n",
       "\n",
       "    .dataframe tbody tr th {\n",
       "        vertical-align: top;\n",
       "    }\n",
       "\n",
       "    .dataframe thead th {\n",
       "        text-align: right;\n",
       "    }\n",
       "</style>\n",
       "<table border=\"1\" class=\"dataframe\">\n",
       "  <thead>\n",
       "    <tr style=\"text-align: right;\">\n",
       "      <th></th>\n",
       "      <th>ID_CLIENTE</th>\n",
       "      <th>SAFRA_REF</th>\n",
       "      <th>RENDA_MES_ANTERIOR</th>\n",
       "      <th>NO_FUNCIONARIOS</th>\n",
       "    </tr>\n",
       "  </thead>\n",
       "  <tbody>\n",
       "    <tr>\n",
       "      <th>0</th>\n",
       "      <td>1661240395903230676</td>\n",
       "      <td>2018-09</td>\n",
       "      <td>16913.0</td>\n",
       "      <td>NaN</td>\n",
       "    </tr>\n",
       "    <tr>\n",
       "      <th>1</th>\n",
       "      <td>8274986328479596038</td>\n",
       "      <td>2018-09</td>\n",
       "      <td>106430.0</td>\n",
       "      <td>141.0</td>\n",
       "    </tr>\n",
       "  </tbody>\n",
       "</table>\n",
       "</div>"
      ],
      "text/plain": [
       "            ID_CLIENTE SAFRA_REF  RENDA_MES_ANTERIOR  NO_FUNCIONARIOS\n",
       "0  1661240395903230676   2018-09             16913.0              NaN\n",
       "1  8274986328479596038   2018-09            106430.0            141.0"
      ]
     },
     "metadata": {},
     "output_type": "display_data"
    }
   ],
   "source": [
    "base_info = pd.read_csv('data/base_info.csv', sep=';')\n",
    "print(base_info.info())\n",
    "print(base_info.isnull().sum())\n",
    "display(base_info.head(2))"
   ]
  },
  {
   "cell_type": "markdown",
   "id": "f2e57309",
   "metadata": {},
   "source": [
    "##### Merge para ajudar a substituir valores nulos"
   ]
  },
  {
   "cell_type": "code",
   "execution_count": 15,
   "id": "GmLKQ-6HpZpO",
   "metadata": {
    "colab": {
     "base_uri": "https://localhost:8080/",
     "height": 112
    },
    "executionInfo": {
     "elapsed": 46,
     "status": "ok",
     "timestamp": 1751837952792,
     "user": {
      "displayName": "WESLEY DE BRITO",
      "userId": "08430531657947538891"
     },
     "user_tz": 180
    },
    "id": "GmLKQ-6HpZpO",
    "outputId": "597a7bb9-1402-44a8-8a1d-138c2f18a2f8"
   },
   "outputs": [
    {
     "data": {
      "text/plain": [
       "ID_CLIENTE               0\n",
       "SAFRA_REF                0\n",
       "RENDA_MES_ANTERIOR     717\n",
       "NO_FUNCIONARIOS       1252\n",
       "PORTE                   30\n",
       "dtype: int64"
      ]
     },
     "metadata": {},
     "output_type": "display_data"
    },
    {
     "data": {
      "text/html": [
       "<div>\n",
       "<style scoped>\n",
       "    .dataframe tbody tr th:only-of-type {\n",
       "        vertical-align: middle;\n",
       "    }\n",
       "\n",
       "    .dataframe tbody tr th {\n",
       "        vertical-align: top;\n",
       "    }\n",
       "\n",
       "    .dataframe thead th {\n",
       "        text-align: right;\n",
       "    }\n",
       "</style>\n",
       "<table border=\"1\" class=\"dataframe\">\n",
       "  <thead>\n",
       "    <tr style=\"text-align: right;\">\n",
       "      <th></th>\n",
       "      <th>ID_CLIENTE</th>\n",
       "      <th>SAFRA_REF</th>\n",
       "      <th>RENDA_MES_ANTERIOR</th>\n",
       "      <th>NO_FUNCIONARIOS</th>\n",
       "      <th>PORTE</th>\n",
       "    </tr>\n",
       "  </thead>\n",
       "  <tbody>\n",
       "    <tr>\n",
       "      <th>0</th>\n",
       "      <td>1661240395903230676</td>\n",
       "      <td>2018-09</td>\n",
       "      <td>16913.0</td>\n",
       "      <td>NaN</td>\n",
       "      <td>PEQUENO</td>\n",
       "    </tr>\n",
       "    <tr>\n",
       "      <th>1</th>\n",
       "      <td>8274986328479596038</td>\n",
       "      <td>2018-09</td>\n",
       "      <td>106430.0</td>\n",
       "      <td>141.0</td>\n",
       "      <td>MEDIO</td>\n",
       "    </tr>\n",
       "  </tbody>\n",
       "</table>\n",
       "</div>"
      ],
      "text/plain": [
       "            ID_CLIENTE SAFRA_REF  RENDA_MES_ANTERIOR  NO_FUNCIONARIOS    PORTE\n",
       "0  1661240395903230676   2018-09             16913.0              NaN  PEQUENO\n",
       "1  8274986328479596038   2018-09            106430.0            141.0    MEDIO"
      ]
     },
     "metadata": {},
     "output_type": "display_data"
    }
   ],
   "source": [
    "base_info_merged = base_info.merge(base_cadastral[['PORTE', 'ID_CLIENTE']], how ='left', on = 'ID_CLIENTE')\n",
    "display(base_info_merged.isnull().sum())\n",
    "display(base_info_merged.head(2))"
   ]
  },
  {
   "cell_type": "markdown",
   "id": "3a5dd3a4",
   "metadata": {},
   "source": [
    "Empresas sem informação de `NO_FUNCIONARIOS`, `PORTE`, `RENDA_MES_ANTERIOR_media`, `NO_FUNCIONARIOS_media` não estão na `base_cadastral`"
   ]
  },
  {
   "cell_type": "code",
   "execution_count": 16,
   "id": "edf45a2c",
   "metadata": {},
   "outputs": [
    {
     "data": {
      "text/html": [
       "<div>\n",
       "<style scoped>\n",
       "    .dataframe tbody tr th:only-of-type {\n",
       "        vertical-align: middle;\n",
       "    }\n",
       "\n",
       "    .dataframe tbody tr th {\n",
       "        vertical-align: top;\n",
       "    }\n",
       "\n",
       "    .dataframe thead th {\n",
       "        text-align: right;\n",
       "    }\n",
       "</style>\n",
       "<table border=\"1\" class=\"dataframe\">\n",
       "  <thead>\n",
       "    <tr style=\"text-align: right;\">\n",
       "      <th></th>\n",
       "      <th>ID_CLIENTE</th>\n",
       "      <th>DATA_CADASTRO</th>\n",
       "      <th>DDD</th>\n",
       "      <th>FLAG_PF</th>\n",
       "      <th>SEGMENTO_INDUSTRIAL</th>\n",
       "      <th>DOMINIO_EMAIL</th>\n",
       "      <th>PORTE</th>\n",
       "      <th>CEP_2_DIG</th>\n",
       "    </tr>\n",
       "  </thead>\n",
       "  <tbody>\n",
       "  </tbody>\n",
       "</table>\n",
       "</div>"
      ],
      "text/plain": [
       "Empty DataFrame\n",
       "Columns: [ID_CLIENTE, DATA_CADASTRO, DDD, FLAG_PF, SEGMENTO_INDUSTRIAL, DOMINIO_EMAIL, PORTE, CEP_2_DIG]\n",
       "Index: []"
      ]
     },
     "execution_count": 16,
     "metadata": {},
     "output_type": "execute_result"
    }
   ],
   "source": [
    "# confirmando se os clientes sem info de porte não estão na base cadastral\n",
    "base_cadastral.loc[base_cadastral.ID_CLIENTE.isin(base_info_merged.loc[base_info_merged.PORTE.isnull(), 'ID_CLIENTE'])]"
   ]
  },
  {
   "cell_type": "markdown",
   "id": "acdda7cc",
   "metadata": {},
   "source": [
    "##### Criando um DataFrame com as médias para substituir os valores nulos.\n",
    "- Na coluna `PORTE` vou substituir pela `MODA`.\n",
    "- As colunas `NO_FUNCIONARIOS`, `RENDA_MES_ANTERIOR_media` e `NO_FUNCIONARIOS_media` substituirei pela `MÉDIA` de cada `PORTE`\n",
    "- Transformação de variaveis numericas em categoricas.\n"
   ]
  },
  {
   "cell_type": "code",
   "execution_count": 17,
   "id": "qIK3FnkepZY2",
   "metadata": {
    "colab": {
     "base_uri": "https://localhost:8080/"
    },
    "executionInfo": {
     "elapsed": 48,
     "status": "ok",
     "timestamp": 1751848016748,
     "user": {
      "displayName": "WESLEY DE BRITO",
      "userId": "08430531657947538891"
     },
     "user_tz": 180
    },
    "id": "qIK3FnkepZY2",
    "outputId": "34b70d7c-8300-4a1f-ad5a-a8fe7e678cf3"
   },
   "outputs": [],
   "source": [
    "# Agrupando por ID_CLIENTE e calcula a média das colunas RENDA_MES_ANTERIOR e NO_FUNCIONARIOS de cada cliente\n",
    "medias_por_cliente = base_info_merged.groupby(['ID_CLIENTE','PORTE']).agg({\n",
    "    'RENDA_MES_ANTERIOR': 'mean',\n",
    "    'NO_FUNCIONARIOS': 'mean'\n",
    "}).reset_index().sort_values('ID_CLIENTE')"
   ]
  },
  {
   "cell_type": "code",
   "execution_count": 18,
   "id": "1340cfc6",
   "metadata": {},
   "outputs": [
    {
     "name": "stdout",
     "output_type": "stream",
     "text": [
      "ID_CLIENTE            0\n",
      "PORTE                 0\n",
      "RENDA_MES_ANTERIOR    0\n",
      "NO_FUNCIONARIOS       0\n",
      "dtype: int64\n"
     ]
    }
   ],
   "source": [
    "colunas = ['RENDA_MES_ANTERIOR', 'NO_FUNCIONARIOS']\n",
    "\n",
    "# preenchendo nulos com a média do grupo PORTE\n",
    "for coluna in colunas:\n",
    "    medias = medias_por_cliente.groupby('PORTE')[coluna].transform('mean')\n",
    "    medias_por_cliente[coluna] = medias_por_cliente[coluna].fillna(medias)\n",
    "print(medias_por_cliente.isnull().sum())"
   ]
  },
  {
   "cell_type": "code",
   "execution_count": 19,
   "id": "hlQpW8LbpZMJ",
   "metadata": {
    "colab": {
     "base_uri": "https://localhost:8080/",
     "height": 269
    },
    "executionInfo": {
     "elapsed": 82,
     "status": "ok",
     "timestamp": 1751846518917,
     "user": {
      "displayName": "WESLEY DE BRITO",
      "userId": "08430531657947538891"
     },
     "user_tz": 180
    },
    "id": "hlQpW8LbpZMJ",
    "outputId": "6abab859-15a2-4f07-fa3b-976d9ba03ea4"
   },
   "outputs": [
    {
     "name": "stdout",
     "output_type": "stream",
     "text": [
      "(24401, 7)\n",
      "ID_CLIENTE                     0\n",
      "SAFRA_REF                      0\n",
      "RENDA_MES_ANTERIOR           717\n",
      "NO_FUNCIONARIOS             1252\n",
      "PORTE                         30\n",
      "RENDA_MES_ANTERIOR_media       0\n",
      "NO_FUNCIONARIOS_media          0\n",
      "dtype: int64\n"
     ]
    },
    {
     "data": {
      "text/html": [
       "<div>\n",
       "<style scoped>\n",
       "    .dataframe tbody tr th:only-of-type {\n",
       "        vertical-align: middle;\n",
       "    }\n",
       "\n",
       "    .dataframe tbody tr th {\n",
       "        vertical-align: top;\n",
       "    }\n",
       "\n",
       "    .dataframe thead th {\n",
       "        text-align: right;\n",
       "    }\n",
       "</style>\n",
       "<table border=\"1\" class=\"dataframe\">\n",
       "  <thead>\n",
       "    <tr style=\"text-align: right;\">\n",
       "      <th></th>\n",
       "      <th>ID_CLIENTE</th>\n",
       "      <th>SAFRA_REF</th>\n",
       "      <th>RENDA_MES_ANTERIOR</th>\n",
       "      <th>NO_FUNCIONARIOS</th>\n",
       "      <th>PORTE</th>\n",
       "      <th>RENDA_MES_ANTERIOR_media</th>\n",
       "      <th>NO_FUNCIONARIOS_media</th>\n",
       "    </tr>\n",
       "  </thead>\n",
       "  <tbody>\n",
       "    <tr>\n",
       "      <th>0</th>\n",
       "      <td>1661240395903230676</td>\n",
       "      <td>2018-09</td>\n",
       "      <td>16913.0</td>\n",
       "      <td>NaN</td>\n",
       "      <td>PEQUENO</td>\n",
       "      <td>290074.138889</td>\n",
       "      <td>99.727273</td>\n",
       "    </tr>\n",
       "    <tr>\n",
       "      <th>1</th>\n",
       "      <td>8274986328479596038</td>\n",
       "      <td>2018-09</td>\n",
       "      <td>106430.0</td>\n",
       "      <td>141.0</td>\n",
       "      <td>MEDIO</td>\n",
       "      <td>172686.545455</td>\n",
       "      <td>144.636364</td>\n",
       "    </tr>\n",
       "  </tbody>\n",
       "</table>\n",
       "</div>"
      ],
      "text/plain": [
       "            ID_CLIENTE SAFRA_REF  RENDA_MES_ANTERIOR  NO_FUNCIONARIOS  \\\n",
       "0  1661240395903230676   2018-09             16913.0              NaN   \n",
       "1  8274986328479596038   2018-09            106430.0            141.0   \n",
       "\n",
       "     PORTE  RENDA_MES_ANTERIOR_media  NO_FUNCIONARIOS_media  \n",
       "0  PEQUENO             290074.138889              99.727273  \n",
       "1    MEDIO             172686.545455             144.636364  "
      ]
     },
     "execution_count": 19,
     "metadata": {},
     "output_type": "execute_result"
    }
   ],
   "source": [
    "merged_base_info = base_info.merge(\n",
    "    medias_por_cliente,\n",
    "    how='left',\n",
    "    on=['ID_CLIENTE'],\n",
    "    suffixes=('', '_media')\n",
    ")\n",
    "\n",
    "merged_base_info['RENDA_MES_ANTERIOR_media'] = merged_base_info['RENDA_MES_ANTERIOR_media'].fillna(merged_base_info['RENDA_MES_ANTERIOR_media'].mean())\n",
    "\n",
    "merged_base_info['NO_FUNCIONARIOS_media'] = merged_base_info['NO_FUNCIONARIOS_media'].fillna(merged_base_info['NO_FUNCIONARIOS_media'].mean())\n",
    "\n",
    "print(merged_base_info.shape)\n",
    "print(merged_base_info.isnull().sum())\n",
    "merged_base_info.head(2)"
   ]
  },
  {
   "cell_type": "code",
   "execution_count": 20,
   "id": "wjTYM4pqMeLT",
   "metadata": {
    "executionInfo": {
     "elapsed": 5,
     "status": "ok",
     "timestamp": 1751846687961,
     "user": {
      "displayName": "WESLEY DE BRITO",
      "userId": "08430531657947538891"
     },
     "user_tz": 180
    },
    "id": "wjTYM4pqMeLT"
   },
   "outputs": [
    {
     "name": "stdout",
     "output_type": "stream",
     "text": [
      "(24401, 7)\n",
      "ID_CLIENTE                  0\n",
      "SAFRA_REF                   0\n",
      "RENDA_MES_ANTERIOR          0\n",
      "NO_FUNCIONARIOS             0\n",
      "PORTE                       0\n",
      "RENDA_MES_ANTERIOR_media    0\n",
      "NO_FUNCIONARIOS_media       0\n",
      "dtype: int64\n"
     ]
    }
   ],
   "source": [
    "merged_base_info['PORTE'] = merged_base_info['PORTE'].fillna(merged_base_info['PORTE'].mode()[0])\n",
    "for coluna in ['RENDA_MES_ANTERIOR', 'NO_FUNCIONARIOS']:\n",
    "    merged_base_info[coluna] = merged_base_info[coluna].fillna(merged_base_info[f'{coluna}_media'])\n",
    "print(merged_base_info.shape)\n",
    "print(merged_base_info.isnull().sum())"
   ]
  },
  {
   "cell_type": "code",
   "execution_count": 21,
   "id": "y2TZY1VENcsa",
   "metadata": {
    "executionInfo": {
     "elapsed": 9,
     "status": "ok",
     "timestamp": 1751847138315,
     "user": {
      "displayName": "WESLEY DE BRITO",
      "userId": "08430531657947538891"
     },
     "user_tz": 180
    },
    "id": "y2TZY1VENcsa"
   },
   "outputs": [],
   "source": [
    "# Atribuindo todos os tratamentos para base_info.\n",
    "base_info = merged_base_info.copy()"
   ]
  },
  {
   "cell_type": "markdown",
   "id": "abP5Kg-n1OLj",
   "metadata": {
    "id": "abP5Kg-n1OLj"
   },
   "source": [
    "## Montando `base_pagamentos_desenvolvimento`"
   ]
  },
  {
   "cell_type": "markdown",
   "id": "b77b67b9",
   "metadata": {},
   "source": [
    "##### Leitura"
   ]
  },
  {
   "cell_type": "code",
   "execution_count": null,
   "id": "zlike4561bIz",
   "metadata": {
    "colab": {
     "base_uri": "https://localhost:8080/",
     "height": 512
    },
    "executionInfo": {
     "elapsed": 331,
     "status": "ok",
     "timestamp": 1751848691604,
     "user": {
      "displayName": "WESLEY DE BRITO",
      "userId": "08430531657947538891"
     },
     "user_tz": 180
    },
    "id": "zlike4561bIz",
    "outputId": "aff59ee5-8d6e-4fa7-dfd9-17b422daf4dc"
   },
   "outputs": [
    {
     "name": "stdout",
     "output_type": "stream",
     "text": [
      "<class 'pandas.core.frame.DataFrame'>\n",
      "RangeIndex: 77414 entries, 0 to 77413\n",
      "Data columns (total 7 columns):\n",
      " #   Column                  Non-Null Count  Dtype  \n",
      "---  ------                  --------------  -----  \n",
      " 0   ID_CLIENTE              77414 non-null  int64  \n",
      " 1   SAFRA_REF               77414 non-null  object \n",
      " 2   DATA_EMISSAO_DOCUMENTO  77414 non-null  object \n",
      " 3   DATA_PAGAMENTO          77414 non-null  object \n",
      " 4   DATA_VENCIMENTO         77414 non-null  object \n",
      " 5   VALOR_A_PAGAR           76244 non-null  float64\n",
      " 6   TAXA                    77414 non-null  float64\n",
      "dtypes: float64(2), int64(1), object(4)\n",
      "memory usage: 4.1+ MB\n",
      "None\n",
      "ID_CLIENTE                   0\n",
      "SAFRA_REF                    0\n",
      "DATA_EMISSAO_DOCUMENTO       0\n",
      "DATA_PAGAMENTO               0\n",
      "DATA_VENCIMENTO              0\n",
      "VALOR_A_PAGAR             1170\n",
      "TAXA                         0\n",
      "dtype: int64\n"
     ]
    },
    {
     "data": {
      "text/html": [
       "<div>\n",
       "<style scoped>\n",
       "    .dataframe tbody tr th:only-of-type {\n",
       "        vertical-align: middle;\n",
       "    }\n",
       "\n",
       "    .dataframe tbody tr th {\n",
       "        vertical-align: top;\n",
       "    }\n",
       "\n",
       "    .dataframe thead th {\n",
       "        text-align: right;\n",
       "    }\n",
       "</style>\n",
       "<table border=\"1\" class=\"dataframe\">\n",
       "  <thead>\n",
       "    <tr style=\"text-align: right;\">\n",
       "      <th></th>\n",
       "      <th>ID_CLIENTE</th>\n",
       "      <th>SAFRA_REF</th>\n",
       "      <th>DATA_EMISSAO_DOCUMENTO</th>\n",
       "      <th>DATA_PAGAMENTO</th>\n",
       "      <th>DATA_VENCIMENTO</th>\n",
       "      <th>VALOR_A_PAGAR</th>\n",
       "      <th>TAXA</th>\n",
       "    </tr>\n",
       "  </thead>\n",
       "  <tbody>\n",
       "    <tr>\n",
       "      <th>0</th>\n",
       "      <td>1661240395903230676</td>\n",
       "      <td>2018-08</td>\n",
       "      <td>2018-08-17</td>\n",
       "      <td>2018-09-06</td>\n",
       "      <td>2018-09-06</td>\n",
       "      <td>35516.41</td>\n",
       "      <td>6.99</td>\n",
       "    </tr>\n",
       "    <tr>\n",
       "      <th>1</th>\n",
       "      <td>1661240395903230676</td>\n",
       "      <td>2018-08</td>\n",
       "      <td>2018-08-19</td>\n",
       "      <td>2018-09-11</td>\n",
       "      <td>2018-09-10</td>\n",
       "      <td>17758.21</td>\n",
       "      <td>6.99</td>\n",
       "    </tr>\n",
       "  </tbody>\n",
       "</table>\n",
       "</div>"
      ],
      "text/plain": [
       "            ID_CLIENTE SAFRA_REF DATA_EMISSAO_DOCUMENTO DATA_PAGAMENTO  \\\n",
       "0  1661240395903230676   2018-08             2018-08-17     2018-09-06   \n",
       "1  1661240395903230676   2018-08             2018-08-19     2018-09-11   \n",
       "\n",
       "  DATA_VENCIMENTO  VALOR_A_PAGAR  TAXA  \n",
       "0      2018-09-06       35516.41  6.99  \n",
       "1      2018-09-10       17758.21  6.99  "
      ]
     },
     "metadata": {},
     "output_type": "display_data"
    }
   ],
   "source": [
    "base_pagamentos_desenvolvimento = pd.read_csv('data/base_pagamentos_desenvolvimento.csv', sep=';')\n",
    "print(base_pagamentos_desenvolvimento.info())\n",
    "print(base_pagamentos_desenvolvimento.isnull().sum())\n",
    "display(base_pagamentos_desenvolvimento.head(2))"
   ]
  },
  {
   "cell_type": "markdown",
   "id": "a98a266e",
   "metadata": {},
   "source": [
    "##### Tratando as colunas para o formata correto de data para gerar cálculos como o indicador de atraso"
   ]
  },
  {
   "cell_type": "code",
   "execution_count": 23,
   "id": "oiDLJvPx8cNt",
   "metadata": {
    "executionInfo": {
     "elapsed": 62,
     "status": "ok",
     "timestamp": 1751848691668,
     "user": {
      "displayName": "WESLEY DE BRITO",
      "userId": "08430531657947538891"
     },
     "user_tz": 180
    },
    "id": "oiDLJvPx8cNt"
   },
   "outputs": [],
   "source": [
    "base_pagamentos_desenvolvimento['DATA_EMISSAO_DOCUMENTO'] = pd.to_datetime(\n",
    "    base_pagamentos_desenvolvimento['DATA_EMISSAO_DOCUMENTO'], errors='coerce')\n",
    "\n",
    "base_pagamentos_desenvolvimento['DATA_PAGAMENTO'] = pd.to_datetime(\n",
    "    base_pagamentos_desenvolvimento['DATA_PAGAMENTO'], errors='coerce')\n",
    "\n",
    "base_pagamentos_desenvolvimento['DATA_VENCIMENTO'] = pd.to_datetime(\n",
    "    base_pagamentos_desenvolvimento['DATA_VENCIMENTO'], errors='coerce')"
   ]
  },
  {
   "cell_type": "code",
   "execution_count": 24,
   "id": "YxNheKoE829E",
   "metadata": {
    "colab": {
     "base_uri": "https://localhost:8080/",
     "height": 276
    },
    "executionInfo": {
     "elapsed": 49,
     "status": "ok",
     "timestamp": 1751848692048,
     "user": {
      "displayName": "WESLEY DE BRITO",
      "userId": "08430531657947538891"
     },
     "user_tz": 180
    },
    "id": "YxNheKoE829E",
    "outputId": "3ac3f2f7-153a-4434-9581-37e516dce3cc"
   },
   "outputs": [
    {
     "data": {
      "text/html": [
       "<div>\n",
       "<style scoped>\n",
       "    .dataframe tbody tr th:only-of-type {\n",
       "        vertical-align: middle;\n",
       "    }\n",
       "\n",
       "    .dataframe tbody tr th {\n",
       "        vertical-align: top;\n",
       "    }\n",
       "\n",
       "    .dataframe thead th {\n",
       "        text-align: right;\n",
       "    }\n",
       "</style>\n",
       "<table border=\"1\" class=\"dataframe\">\n",
       "  <thead>\n",
       "    <tr style=\"text-align: right;\">\n",
       "      <th></th>\n",
       "      <th>ID_CLIENTE</th>\n",
       "      <th>SAFRA_REF</th>\n",
       "      <th>DATA_EMISSAO_DOCUMENTO</th>\n",
       "      <th>DATA_PAGAMENTO</th>\n",
       "      <th>DATA_VENCIMENTO</th>\n",
       "      <th>VALOR_A_PAGAR</th>\n",
       "      <th>TAXA</th>\n",
       "      <th>ATRASADO</th>\n",
       "      <th>PRAZO</th>\n",
       "    </tr>\n",
       "  </thead>\n",
       "  <tbody>\n",
       "    <tr>\n",
       "      <th>0</th>\n",
       "      <td>1661240395903230676</td>\n",
       "      <td>2018-08</td>\n",
       "      <td>2018-08-17</td>\n",
       "      <td>2018-09-06</td>\n",
       "      <td>2018-09-06</td>\n",
       "      <td>35516.41</td>\n",
       "      <td>6.99</td>\n",
       "      <td>0</td>\n",
       "      <td>20</td>\n",
       "    </tr>\n",
       "    <tr>\n",
       "      <th>1</th>\n",
       "      <td>1661240395903230676</td>\n",
       "      <td>2018-08</td>\n",
       "      <td>2018-08-19</td>\n",
       "      <td>2018-09-11</td>\n",
       "      <td>2018-09-10</td>\n",
       "      <td>17758.21</td>\n",
       "      <td>6.99</td>\n",
       "      <td>0</td>\n",
       "      <td>22</td>\n",
       "    </tr>\n",
       "    <tr>\n",
       "      <th>2</th>\n",
       "      <td>1661240395903230676</td>\n",
       "      <td>2018-08</td>\n",
       "      <td>2018-08-26</td>\n",
       "      <td>2018-09-18</td>\n",
       "      <td>2018-09-17</td>\n",
       "      <td>17431.96</td>\n",
       "      <td>6.99</td>\n",
       "      <td>0</td>\n",
       "      <td>22</td>\n",
       "    </tr>\n",
       "    <tr>\n",
       "      <th>3</th>\n",
       "      <td>1661240395903230676</td>\n",
       "      <td>2018-08</td>\n",
       "      <td>2018-08-30</td>\n",
       "      <td>2018-10-11</td>\n",
       "      <td>2018-10-05</td>\n",
       "      <td>1341.00</td>\n",
       "      <td>6.99</td>\n",
       "      <td>1</td>\n",
       "      <td>36</td>\n",
       "    </tr>\n",
       "    <tr>\n",
       "      <th>4</th>\n",
       "      <td>1661240395903230676</td>\n",
       "      <td>2018-08</td>\n",
       "      <td>2018-08-31</td>\n",
       "      <td>2018-09-20</td>\n",
       "      <td>2018-09-20</td>\n",
       "      <td>21309.85</td>\n",
       "      <td>6.99</td>\n",
       "      <td>0</td>\n",
       "      <td>20</td>\n",
       "    </tr>\n",
       "  </tbody>\n",
       "</table>\n",
       "</div>"
      ],
      "text/plain": [
       "            ID_CLIENTE SAFRA_REF DATA_EMISSAO_DOCUMENTO DATA_PAGAMENTO  \\\n",
       "0  1661240395903230676   2018-08             2018-08-17     2018-09-06   \n",
       "1  1661240395903230676   2018-08             2018-08-19     2018-09-11   \n",
       "2  1661240395903230676   2018-08             2018-08-26     2018-09-18   \n",
       "3  1661240395903230676   2018-08             2018-08-30     2018-10-11   \n",
       "4  1661240395903230676   2018-08             2018-08-31     2018-09-20   \n",
       "\n",
       "  DATA_VENCIMENTO  VALOR_A_PAGAR  TAXA  ATRASADO  PRAZO  \n",
       "0      2018-09-06       35516.41  6.99         0     20  \n",
       "1      2018-09-10       17758.21  6.99         0     22  \n",
       "2      2018-09-17       17431.96  6.99         0     22  \n",
       "3      2018-10-05        1341.00  6.99         1     36  \n",
       "4      2018-09-20       21309.85  6.99         0     20  "
      ]
     },
     "metadata": {},
     "output_type": "display_data"
    },
    {
     "name": "stdout",
     "output_type": "stream",
     "text": [
      "ATRASADO\n",
      "0    71978\n",
      "1     5436\n",
      "Name: count, dtype: int64\n"
     ]
    }
   ],
   "source": [
    "base_pagamentos_desenvolvimento['ATRASADO'] = ((base_pagamentos_desenvolvimento['DATA_PAGAMENTO'] - base_pagamentos_desenvolvimento['DATA_VENCIMENTO'] ).dt.days >= 5).astype(int)\n",
    "base_pagamentos_desenvolvimento['PRAZO'] = (base_pagamentos_desenvolvimento['DATA_VENCIMENTO'] - base_pagamentos_desenvolvimento['DATA_EMISSAO_DOCUMENTO']).dt.days\n",
    "display(base_pagamentos_desenvolvimento.head(5))\n",
    "print(base_pagamentos_desenvolvimento['ATRASADO'].value_counts())\n"
   ]
  },
  {
   "cell_type": "code",
   "execution_count": 25,
   "id": "8fb7ff57",
   "metadata": {},
   "outputs": [
    {
     "data": {
      "text/html": [
       "<div>\n",
       "<style scoped>\n",
       "    .dataframe tbody tr th:only-of-type {\n",
       "        vertical-align: middle;\n",
       "    }\n",
       "\n",
       "    .dataframe tbody tr th {\n",
       "        vertical-align: top;\n",
       "    }\n",
       "\n",
       "    .dataframe thead th {\n",
       "        text-align: right;\n",
       "    }\n",
       "</style>\n",
       "<table border=\"1\" class=\"dataframe\">\n",
       "  <thead>\n",
       "    <tr style=\"text-align: right;\">\n",
       "      <th></th>\n",
       "      <th>ID_CLIENTE</th>\n",
       "      <th>DATA_EMISSAO_DOCUMENTO</th>\n",
       "      <th>DATA_PAGAMENTO</th>\n",
       "      <th>DATA_VENCIMENTO</th>\n",
       "      <th>VALOR_A_PAGAR</th>\n",
       "      <th>TAXA</th>\n",
       "      <th>ATRASADO</th>\n",
       "      <th>PRAZO</th>\n",
       "    </tr>\n",
       "  </thead>\n",
       "  <tbody>\n",
       "    <tr>\n",
       "      <th>count</th>\n",
       "      <td>7.741400e+04</td>\n",
       "      <td>77414</td>\n",
       "      <td>77414</td>\n",
       "      <td>77414</td>\n",
       "      <td>7.624400e+04</td>\n",
       "      <td>77414.000000</td>\n",
       "      <td>77414.000000</td>\n",
       "      <td>77414.000000</td>\n",
       "    </tr>\n",
       "    <tr>\n",
       "      <th>mean</th>\n",
       "      <td>4.662270e+18</td>\n",
       "      <td>2020-02-02 21:01:42.400082688</td>\n",
       "      <td>2020-02-26 00:36:28.627380224</td>\n",
       "      <td>2020-02-26 04:43:20.087839232</td>\n",
       "      <td>4.659078e+04</td>\n",
       "      <td>6.789623</td>\n",
       "      <td>0.070220</td>\n",
       "      <td>23.320575</td>\n",
       "    </tr>\n",
       "    <tr>\n",
       "      <th>min</th>\n",
       "      <td>8.784237e+15</td>\n",
       "      <td>2018-08-17 00:00:00</td>\n",
       "      <td>2018-06-19 00:00:00</td>\n",
       "      <td>2017-11-27 00:00:00</td>\n",
       "      <td>1.000000e-01</td>\n",
       "      <td>4.990000</td>\n",
       "      <td>0.000000</td>\n",
       "      <td>-420.000000</td>\n",
       "    </tr>\n",
       "    <tr>\n",
       "      <th>25%</th>\n",
       "      <td>2.369365e+18</td>\n",
       "      <td>2019-05-21 00:00:00</td>\n",
       "      <td>2019-06-13 00:00:00</td>\n",
       "      <td>2019-06-13 00:00:00</td>\n",
       "      <td>1.876536e+04</td>\n",
       "      <td>5.990000</td>\n",
       "      <td>0.000000</td>\n",
       "      <td>16.000000</td>\n",
       "    </tr>\n",
       "    <tr>\n",
       "      <th>50%</th>\n",
       "      <td>4.817817e+18</td>\n",
       "      <td>2020-01-27 00:00:00</td>\n",
       "      <td>2020-02-19 00:00:00</td>\n",
       "      <td>2020-02-18 00:00:00</td>\n",
       "      <td>3.475869e+04</td>\n",
       "      <td>5.990000</td>\n",
       "      <td>0.000000</td>\n",
       "      <td>18.000000</td>\n",
       "    </tr>\n",
       "    <tr>\n",
       "      <th>75%</th>\n",
       "      <td>6.969349e+18</td>\n",
       "      <td>2020-10-27 00:00:00</td>\n",
       "      <td>2020-11-18 00:00:00</td>\n",
       "      <td>2020-11-18 00:00:00</td>\n",
       "      <td>6.093384e+04</td>\n",
       "      <td>6.990000</td>\n",
       "      <td>0.000000</td>\n",
       "      <td>24.000000</td>\n",
       "    </tr>\n",
       "    <tr>\n",
       "      <th>max</th>\n",
       "      <td>9.206031e+18</td>\n",
       "      <td>2021-06-30 00:00:00</td>\n",
       "      <td>2021-11-24 00:00:00</td>\n",
       "      <td>2027-03-31 00:00:00</td>\n",
       "      <td>4.400000e+06</td>\n",
       "      <td>11.990000</td>\n",
       "      <td>1.000000</td>\n",
       "      <td>2677.000000</td>\n",
       "    </tr>\n",
       "    <tr>\n",
       "      <th>std</th>\n",
       "      <td>2.665719e+18</td>\n",
       "      <td>NaN</td>\n",
       "      <td>NaN</td>\n",
       "      <td>NaN</td>\n",
       "      <td>4.643393e+04</td>\n",
       "      <td>1.798225</td>\n",
       "      <td>0.255519</td>\n",
       "      <td>26.137018</td>\n",
       "    </tr>\n",
       "  </tbody>\n",
       "</table>\n",
       "</div>"
      ],
      "text/plain": [
       "         ID_CLIENTE         DATA_EMISSAO_DOCUMENTO  \\\n",
       "count  7.741400e+04                          77414   \n",
       "mean   4.662270e+18  2020-02-02 21:01:42.400082688   \n",
       "min    8.784237e+15            2018-08-17 00:00:00   \n",
       "25%    2.369365e+18            2019-05-21 00:00:00   \n",
       "50%    4.817817e+18            2020-01-27 00:00:00   \n",
       "75%    6.969349e+18            2020-10-27 00:00:00   \n",
       "max    9.206031e+18            2021-06-30 00:00:00   \n",
       "std    2.665719e+18                            NaN   \n",
       "\n",
       "                      DATA_PAGAMENTO                DATA_VENCIMENTO  \\\n",
       "count                          77414                          77414   \n",
       "mean   2020-02-26 00:36:28.627380224  2020-02-26 04:43:20.087839232   \n",
       "min              2018-06-19 00:00:00            2017-11-27 00:00:00   \n",
       "25%              2019-06-13 00:00:00            2019-06-13 00:00:00   \n",
       "50%              2020-02-19 00:00:00            2020-02-18 00:00:00   \n",
       "75%              2020-11-18 00:00:00            2020-11-18 00:00:00   \n",
       "max              2021-11-24 00:00:00            2027-03-31 00:00:00   \n",
       "std                              NaN                            NaN   \n",
       "\n",
       "       VALOR_A_PAGAR          TAXA      ATRASADO         PRAZO  \n",
       "count   7.624400e+04  77414.000000  77414.000000  77414.000000  \n",
       "mean    4.659078e+04      6.789623      0.070220     23.320575  \n",
       "min     1.000000e-01      4.990000      0.000000   -420.000000  \n",
       "25%     1.876536e+04      5.990000      0.000000     16.000000  \n",
       "50%     3.475869e+04      5.990000      0.000000     18.000000  \n",
       "75%     6.093384e+04      6.990000      0.000000     24.000000  \n",
       "max     4.400000e+06     11.990000      1.000000   2677.000000  \n",
       "std     4.643393e+04      1.798225      0.255519     26.137018  "
      ]
     },
     "execution_count": 25,
     "metadata": {},
     "output_type": "execute_result"
    }
   ],
   "source": [
    "base_pagamentos_desenvolvimento.describe()"
   ]
  },
  {
   "cell_type": "code",
   "execution_count": 26,
   "id": "e98283d8",
   "metadata": {},
   "outputs": [
    {
     "data": {
      "text/html": [
       "<div>\n",
       "<style scoped>\n",
       "    .dataframe tbody tr th:only-of-type {\n",
       "        vertical-align: middle;\n",
       "    }\n",
       "\n",
       "    .dataframe tbody tr th {\n",
       "        vertical-align: top;\n",
       "    }\n",
       "\n",
       "    .dataframe thead th {\n",
       "        text-align: right;\n",
       "    }\n",
       "</style>\n",
       "<table border=\"1\" class=\"dataframe\">\n",
       "  <thead>\n",
       "    <tr style=\"text-align: right;\">\n",
       "      <th></th>\n",
       "      <th>ID_CLIENTE</th>\n",
       "      <th>SAFRA_REF</th>\n",
       "      <th>DATA_EMISSAO_DOCUMENTO</th>\n",
       "      <th>DATA_PAGAMENTO</th>\n",
       "      <th>DATA_VENCIMENTO</th>\n",
       "      <th>VALOR_A_PAGAR</th>\n",
       "      <th>TAXA</th>\n",
       "      <th>ATRASADO</th>\n",
       "      <th>PRAZO</th>\n",
       "    </tr>\n",
       "  </thead>\n",
       "  <tbody>\n",
       "    <tr>\n",
       "      <th>1099</th>\n",
       "      <td>1118514612547157551</td>\n",
       "      <td>2018-09</td>\n",
       "      <td>2018-09-02</td>\n",
       "      <td>2018-09-19</td>\n",
       "      <td>2018-08-27</td>\n",
       "      <td>58434.08</td>\n",
       "      <td>6.99</td>\n",
       "      <td>1</td>\n",
       "      <td>-6</td>\n",
       "    </tr>\n",
       "    <tr>\n",
       "      <th>1100</th>\n",
       "      <td>1118514612547157551</td>\n",
       "      <td>2018-09</td>\n",
       "      <td>2018-09-02</td>\n",
       "      <td>2018-09-18</td>\n",
       "      <td>2018-06-20</td>\n",
       "      <td>50000.00</td>\n",
       "      <td>6.99</td>\n",
       "      <td>1</td>\n",
       "      <td>-74</td>\n",
       "    </tr>\n",
       "    <tr>\n",
       "      <th>1101</th>\n",
       "      <td>1118514612547157551</td>\n",
       "      <td>2018-09</td>\n",
       "      <td>2018-09-02</td>\n",
       "      <td>2018-09-19</td>\n",
       "      <td>2018-07-25</td>\n",
       "      <td>58434.08</td>\n",
       "      <td>6.99</td>\n",
       "      <td>1</td>\n",
       "      <td>-39</td>\n",
       "    </tr>\n",
       "    <tr>\n",
       "      <th>1944</th>\n",
       "      <td>1977574645216036803</td>\n",
       "      <td>2018-09</td>\n",
       "      <td>2018-09-13</td>\n",
       "      <td>2018-09-28</td>\n",
       "      <td>2018-08-31</td>\n",
       "      <td>46674.40</td>\n",
       "      <td>5.99</td>\n",
       "      <td>1</td>\n",
       "      <td>-13</td>\n",
       "    </tr>\n",
       "    <tr>\n",
       "      <th>2565</th>\n",
       "      <td>8198518259946944874</td>\n",
       "      <td>2018-10</td>\n",
       "      <td>2018-10-12</td>\n",
       "      <td>2019-05-22</td>\n",
       "      <td>2017-11-27</td>\n",
       "      <td>11878.82</td>\n",
       "      <td>4.99</td>\n",
       "      <td>1</td>\n",
       "      <td>-319</td>\n",
       "    </tr>\n",
       "    <tr>\n",
       "      <th>5009</th>\n",
       "      <td>6020593949794792044</td>\n",
       "      <td>2018-11</td>\n",
       "      <td>2018-11-06</td>\n",
       "      <td>2021-03-23</td>\n",
       "      <td>2018-11-05</td>\n",
       "      <td>278657.56</td>\n",
       "      <td>6.99</td>\n",
       "      <td>1</td>\n",
       "      <td>-1</td>\n",
       "    </tr>\n",
       "    <tr>\n",
       "      <th>5481</th>\n",
       "      <td>8198518259946944874</td>\n",
       "      <td>2018-11</td>\n",
       "      <td>2018-11-13</td>\n",
       "      <td>2018-06-19</td>\n",
       "      <td>2017-12-28</td>\n",
       "      <td>255.43</td>\n",
       "      <td>6.99</td>\n",
       "      <td>1</td>\n",
       "      <td>-320</td>\n",
       "    </tr>\n",
       "    <tr>\n",
       "      <th>8379</th>\n",
       "      <td>8348574220426911086</td>\n",
       "      <td>2019-01</td>\n",
       "      <td>2019-01-03</td>\n",
       "      <td>2019-01-16</td>\n",
       "      <td>2018-12-17</td>\n",
       "      <td>10000.00</td>\n",
       "      <td>6.99</td>\n",
       "      <td>1</td>\n",
       "      <td>-17</td>\n",
       "    </tr>\n",
       "    <tr>\n",
       "      <th>16200</th>\n",
       "      <td>4442205629227031623</td>\n",
       "      <td>2019-03</td>\n",
       "      <td>2019-03-24</td>\n",
       "      <td>2019-06-12</td>\n",
       "      <td>2018-12-07</td>\n",
       "      <td>100000.00</td>\n",
       "      <td>5.99</td>\n",
       "      <td>1</td>\n",
       "      <td>-107</td>\n",
       "    </tr>\n",
       "    <tr>\n",
       "      <th>16201</th>\n",
       "      <td>4442205629227031623</td>\n",
       "      <td>2019-03</td>\n",
       "      <td>2019-03-24</td>\n",
       "      <td>2019-06-14</td>\n",
       "      <td>2018-12-07</td>\n",
       "      <td>63000.00</td>\n",
       "      <td>5.99</td>\n",
       "      <td>1</td>\n",
       "      <td>-107</td>\n",
       "    </tr>\n",
       "    <tr>\n",
       "      <th>18187</th>\n",
       "      <td>660382477567765256</td>\n",
       "      <td>2019-05</td>\n",
       "      <td>2019-05-13</td>\n",
       "      <td>2019-06-06</td>\n",
       "      <td>2019-01-23</td>\n",
       "      <td>52329.33</td>\n",
       "      <td>4.99</td>\n",
       "      <td>1</td>\n",
       "      <td>-110</td>\n",
       "    </tr>\n",
       "    <tr>\n",
       "      <th>18188</th>\n",
       "      <td>660382477567765256</td>\n",
       "      <td>2019-05</td>\n",
       "      <td>2019-05-13</td>\n",
       "      <td>2019-04-23</td>\n",
       "      <td>2019-01-23</td>\n",
       "      <td>600000.00</td>\n",
       "      <td>4.99</td>\n",
       "      <td>1</td>\n",
       "      <td>-110</td>\n",
       "    </tr>\n",
       "    <tr>\n",
       "      <th>25889</th>\n",
       "      <td>8047821974672655407</td>\n",
       "      <td>2019-08</td>\n",
       "      <td>2019-08-12</td>\n",
       "      <td>2019-06-11</td>\n",
       "      <td>2019-06-06</td>\n",
       "      <td>500000.00</td>\n",
       "      <td>6.99</td>\n",
       "      <td>1</td>\n",
       "      <td>-67</td>\n",
       "    </tr>\n",
       "    <tr>\n",
       "      <th>30674</th>\n",
       "      <td>5043004928991692540</td>\n",
       "      <td>2019-10</td>\n",
       "      <td>2019-10-13</td>\n",
       "      <td>2020-10-29</td>\n",
       "      <td>2019-09-25</td>\n",
       "      <td>8299.78</td>\n",
       "      <td>8.99</td>\n",
       "      <td>1</td>\n",
       "      <td>-18</td>\n",
       "    </tr>\n",
       "    <tr>\n",
       "      <th>37827</th>\n",
       "      <td>6693181132429641622</td>\n",
       "      <td>2020-01</td>\n",
       "      <td>2020-01-05</td>\n",
       "      <td>2019-12-26</td>\n",
       "      <td>2019-12-26</td>\n",
       "      <td>88000.00</td>\n",
       "      <td>4.99</td>\n",
       "      <td>0</td>\n",
       "      <td>-10</td>\n",
       "    </tr>\n",
       "    <tr>\n",
       "      <th>39516</th>\n",
       "      <td>7031913170099381454</td>\n",
       "      <td>2020-01</td>\n",
       "      <td>2020-01-26</td>\n",
       "      <td>2019-12-30</td>\n",
       "      <td>2019-11-25</td>\n",
       "      <td>19762.60</td>\n",
       "      <td>4.99</td>\n",
       "      <td>1</td>\n",
       "      <td>-62</td>\n",
       "    </tr>\n",
       "    <tr>\n",
       "      <th>39517</th>\n",
       "      <td>7031913170099381454</td>\n",
       "      <td>2020-01</td>\n",
       "      <td>2020-01-26</td>\n",
       "      <td>2020-03-04</td>\n",
       "      <td>2019-12-25</td>\n",
       "      <td>18513.21</td>\n",
       "      <td>4.99</td>\n",
       "      <td>1</td>\n",
       "      <td>-32</td>\n",
       "    </tr>\n",
       "    <tr>\n",
       "      <th>39518</th>\n",
       "      <td>7031913170099381454</td>\n",
       "      <td>2020-01</td>\n",
       "      <td>2020-01-26</td>\n",
       "      <td>2020-01-25</td>\n",
       "      <td>2019-12-25</td>\n",
       "      <td>19762.60</td>\n",
       "      <td>4.99</td>\n",
       "      <td>1</td>\n",
       "      <td>-32</td>\n",
       "    </tr>\n",
       "    <tr>\n",
       "      <th>43827</th>\n",
       "      <td>1454789421854453615</td>\n",
       "      <td>2020-03</td>\n",
       "      <td>2020-03-30</td>\n",
       "      <td>2020-05-15</td>\n",
       "      <td>2019-07-18</td>\n",
       "      <td>31867.87</td>\n",
       "      <td>6.99</td>\n",
       "      <td>1</td>\n",
       "      <td>-256</td>\n",
       "    </tr>\n",
       "    <tr>\n",
       "      <th>60994</th>\n",
       "      <td>5558533999208199371</td>\n",
       "      <td>2020-12</td>\n",
       "      <td>2020-12-03</td>\n",
       "      <td>2020-12-23</td>\n",
       "      <td>2020-11-25</td>\n",
       "      <td>102424.40</td>\n",
       "      <td>5.99</td>\n",
       "      <td>1</td>\n",
       "      <td>-8</td>\n",
       "    </tr>\n",
       "    <tr>\n",
       "      <th>60995</th>\n",
       "      <td>5558533999208199371</td>\n",
       "      <td>2020-12</td>\n",
       "      <td>2020-12-03</td>\n",
       "      <td>2020-12-09</td>\n",
       "      <td>2020-11-25</td>\n",
       "      <td>103559.44</td>\n",
       "      <td>5.99</td>\n",
       "      <td>1</td>\n",
       "      <td>-8</td>\n",
       "    </tr>\n",
       "    <tr>\n",
       "      <th>60996</th>\n",
       "      <td>5558533999208199371</td>\n",
       "      <td>2020-12</td>\n",
       "      <td>2020-12-03</td>\n",
       "      <td>2020-12-23</td>\n",
       "      <td>2020-11-25</td>\n",
       "      <td>102187.11</td>\n",
       "      <td>5.99</td>\n",
       "      <td>1</td>\n",
       "      <td>-8</td>\n",
       "    </tr>\n",
       "    <tr>\n",
       "      <th>66283</th>\n",
       "      <td>531805620371082364</td>\n",
       "      <td>2021-02</td>\n",
       "      <td>2021-02-01</td>\n",
       "      <td>2021-02-11</td>\n",
       "      <td>2021-01-20</td>\n",
       "      <td>31044.74</td>\n",
       "      <td>5.99</td>\n",
       "      <td>1</td>\n",
       "      <td>-12</td>\n",
       "    </tr>\n",
       "    <tr>\n",
       "      <th>66284</th>\n",
       "      <td>531805620371082364</td>\n",
       "      <td>2021-02</td>\n",
       "      <td>2021-02-04</td>\n",
       "      <td>2021-02-19</td>\n",
       "      <td>2021-01-31</td>\n",
       "      <td>50000.00</td>\n",
       "      <td>5.99</td>\n",
       "      <td>1</td>\n",
       "      <td>-4</td>\n",
       "    </tr>\n",
       "    <tr>\n",
       "      <th>66285</th>\n",
       "      <td>531805620371082364</td>\n",
       "      <td>2021-02</td>\n",
       "      <td>2021-02-04</td>\n",
       "      <td>2021-02-22</td>\n",
       "      <td>2021-01-31</td>\n",
       "      <td>32610.00</td>\n",
       "      <td>5.99</td>\n",
       "      <td>1</td>\n",
       "      <td>-4</td>\n",
       "    </tr>\n",
       "    <tr>\n",
       "      <th>67342</th>\n",
       "      <td>5503073374822479037</td>\n",
       "      <td>2021-03</td>\n",
       "      <td>2021-03-06</td>\n",
       "      <td>2021-09-14</td>\n",
       "      <td>2020-08-31</td>\n",
       "      <td>800000.00</td>\n",
       "      <td>6.99</td>\n",
       "      <td>1</td>\n",
       "      <td>-187</td>\n",
       "    </tr>\n",
       "    <tr>\n",
       "      <th>76154</th>\n",
       "      <td>7061868716439556791</td>\n",
       "      <td>2021-06</td>\n",
       "      <td>2021-06-14</td>\n",
       "      <td>2021-09-24</td>\n",
       "      <td>2020-04-20</td>\n",
       "      <td>2677.12</td>\n",
       "      <td>6.99</td>\n",
       "      <td>1</td>\n",
       "      <td>-420</td>\n",
       "    </tr>\n",
       "  </tbody>\n",
       "</table>\n",
       "</div>"
      ],
      "text/plain": [
       "                ID_CLIENTE SAFRA_REF DATA_EMISSAO_DOCUMENTO DATA_PAGAMENTO  \\\n",
       "1099   1118514612547157551   2018-09             2018-09-02     2018-09-19   \n",
       "1100   1118514612547157551   2018-09             2018-09-02     2018-09-18   \n",
       "1101   1118514612547157551   2018-09             2018-09-02     2018-09-19   \n",
       "1944   1977574645216036803   2018-09             2018-09-13     2018-09-28   \n",
       "2565   8198518259946944874   2018-10             2018-10-12     2019-05-22   \n",
       "5009   6020593949794792044   2018-11             2018-11-06     2021-03-23   \n",
       "5481   8198518259946944874   2018-11             2018-11-13     2018-06-19   \n",
       "8379   8348574220426911086   2019-01             2019-01-03     2019-01-16   \n",
       "16200  4442205629227031623   2019-03             2019-03-24     2019-06-12   \n",
       "16201  4442205629227031623   2019-03             2019-03-24     2019-06-14   \n",
       "18187   660382477567765256   2019-05             2019-05-13     2019-06-06   \n",
       "18188   660382477567765256   2019-05             2019-05-13     2019-04-23   \n",
       "25889  8047821974672655407   2019-08             2019-08-12     2019-06-11   \n",
       "30674  5043004928991692540   2019-10             2019-10-13     2020-10-29   \n",
       "37827  6693181132429641622   2020-01             2020-01-05     2019-12-26   \n",
       "39516  7031913170099381454   2020-01             2020-01-26     2019-12-30   \n",
       "39517  7031913170099381454   2020-01             2020-01-26     2020-03-04   \n",
       "39518  7031913170099381454   2020-01             2020-01-26     2020-01-25   \n",
       "43827  1454789421854453615   2020-03             2020-03-30     2020-05-15   \n",
       "60994  5558533999208199371   2020-12             2020-12-03     2020-12-23   \n",
       "60995  5558533999208199371   2020-12             2020-12-03     2020-12-09   \n",
       "60996  5558533999208199371   2020-12             2020-12-03     2020-12-23   \n",
       "66283   531805620371082364   2021-02             2021-02-01     2021-02-11   \n",
       "66284   531805620371082364   2021-02             2021-02-04     2021-02-19   \n",
       "66285   531805620371082364   2021-02             2021-02-04     2021-02-22   \n",
       "67342  5503073374822479037   2021-03             2021-03-06     2021-09-14   \n",
       "76154  7061868716439556791   2021-06             2021-06-14     2021-09-24   \n",
       "\n",
       "      DATA_VENCIMENTO  VALOR_A_PAGAR  TAXA  ATRASADO  PRAZO  \n",
       "1099       2018-08-27       58434.08  6.99         1     -6  \n",
       "1100       2018-06-20       50000.00  6.99         1    -74  \n",
       "1101       2018-07-25       58434.08  6.99         1    -39  \n",
       "1944       2018-08-31       46674.40  5.99         1    -13  \n",
       "2565       2017-11-27       11878.82  4.99         1   -319  \n",
       "5009       2018-11-05      278657.56  6.99         1     -1  \n",
       "5481       2017-12-28         255.43  6.99         1   -320  \n",
       "8379       2018-12-17       10000.00  6.99         1    -17  \n",
       "16200      2018-12-07      100000.00  5.99         1   -107  \n",
       "16201      2018-12-07       63000.00  5.99         1   -107  \n",
       "18187      2019-01-23       52329.33  4.99         1   -110  \n",
       "18188      2019-01-23      600000.00  4.99         1   -110  \n",
       "25889      2019-06-06      500000.00  6.99         1    -67  \n",
       "30674      2019-09-25        8299.78  8.99         1    -18  \n",
       "37827      2019-12-26       88000.00  4.99         0    -10  \n",
       "39516      2019-11-25       19762.60  4.99         1    -62  \n",
       "39517      2019-12-25       18513.21  4.99         1    -32  \n",
       "39518      2019-12-25       19762.60  4.99         1    -32  \n",
       "43827      2019-07-18       31867.87  6.99         1   -256  \n",
       "60994      2020-11-25      102424.40  5.99         1     -8  \n",
       "60995      2020-11-25      103559.44  5.99         1     -8  \n",
       "60996      2020-11-25      102187.11  5.99         1     -8  \n",
       "66283      2021-01-20       31044.74  5.99         1    -12  \n",
       "66284      2021-01-31       50000.00  5.99         1     -4  \n",
       "66285      2021-01-31       32610.00  5.99         1     -4  \n",
       "67342      2020-08-31      800000.00  6.99         1   -187  \n",
       "76154      2020-04-20        2677.12  6.99         1   -420  "
      ]
     },
     "execution_count": 26,
     "metadata": {},
     "output_type": "execute_result"
    }
   ],
   "source": [
    "# Data de emissão posterior a data de vencimento\n",
    "# acredito que seja alguma regra de negócio, erro ou pegadinha.\n",
    "base_pagamentos_desenvolvimento.loc[base_pagamentos_desenvolvimento['PRAZO']<0]"
   ]
  },
  {
   "cell_type": "code",
   "execution_count": 27,
   "id": "d7c0e197",
   "metadata": {},
   "outputs": [
    {
     "data": {
      "image/png": "[encoded data removed]",
      "text/plain": [
       "<Figure size 640x480 with 1 Axes>"
      ]
     },
     "metadata": {},
     "output_type": "display_data"
    }
   ],
   "source": [
    "import matplotlib.pyplot as plt\n",
    "plt.boxplot(base_pagamentos_desenvolvimento['PRAZO'])\n",
    "\n",
    "plt.show()"
   ]
  },
  {
   "cell_type": "code",
   "execution_count": 28,
   "id": "a226b7d7",
   "metadata": {},
   "outputs": [
    {
     "data": {
      "text/html": [
       "<div>\n",
       "<style scoped>\n",
       "    .dataframe tbody tr th:only-of-type {\n",
       "        vertical-align: middle;\n",
       "    }\n",
       "\n",
       "    .dataframe tbody tr th {\n",
       "        vertical-align: top;\n",
       "    }\n",
       "\n",
       "    .dataframe thead th {\n",
       "        text-align: right;\n",
       "    }\n",
       "</style>\n",
       "<table border=\"1\" class=\"dataframe\">\n",
       "  <thead>\n",
       "    <tr style=\"text-align: right;\">\n",
       "      <th></th>\n",
       "      <th>ID_CLIENTE</th>\n",
       "      <th>SAFRA_REF</th>\n",
       "      <th>DATA_EMISSAO_DOCUMENTO</th>\n",
       "      <th>DATA_PAGAMENTO</th>\n",
       "      <th>DATA_VENCIMENTO</th>\n",
       "      <th>VALOR_A_PAGAR</th>\n",
       "      <th>TAXA</th>\n",
       "      <th>ATRASADO</th>\n",
       "      <th>PRAZO</th>\n",
       "      <th>EMISSAO_X_PAGAMENTO</th>\n",
       "    </tr>\n",
       "  </thead>\n",
       "  <tbody>\n",
       "    <tr>\n",
       "      <th>5481</th>\n",
       "      <td>8198518259946944874</td>\n",
       "      <td>2018-11</td>\n",
       "      <td>2018-11-13</td>\n",
       "      <td>2018-06-19</td>\n",
       "      <td>2017-12-28</td>\n",
       "      <td>255.43</td>\n",
       "      <td>6.99</td>\n",
       "      <td>1</td>\n",
       "      <td>-320</td>\n",
       "      <td>147</td>\n",
       "    </tr>\n",
       "    <tr>\n",
       "      <th>10305</th>\n",
       "      <td>8733525963966339207</td>\n",
       "      <td>2019-01</td>\n",
       "      <td>2019-01-04</td>\n",
       "      <td>2018-12-27</td>\n",
       "      <td>2019-01-21</td>\n",
       "      <td>15143.60</td>\n",
       "      <td>6.99</td>\n",
       "      <td>0</td>\n",
       "      <td>17</td>\n",
       "      <td>8</td>\n",
       "    </tr>\n",
       "    <tr>\n",
       "      <th>15756</th>\n",
       "      <td>2209806355660046187</td>\n",
       "      <td>2019-03</td>\n",
       "      <td>2019-03-24</td>\n",
       "      <td>2019-02-26</td>\n",
       "      <td>2019-04-09</td>\n",
       "      <td>1356.70</td>\n",
       "      <td>11.99</td>\n",
       "      <td>0</td>\n",
       "      <td>16</td>\n",
       "      <td>26</td>\n",
       "    </tr>\n",
       "    <tr>\n",
       "      <th>17888</th>\n",
       "      <td>6056959220685085102</td>\n",
       "      <td>2019-04</td>\n",
       "      <td>2019-04-18</td>\n",
       "      <td>2019-04-12</td>\n",
       "      <td>2019-05-15</td>\n",
       "      <td>1182.00</td>\n",
       "      <td>5.99</td>\n",
       "      <td>0</td>\n",
       "      <td>27</td>\n",
       "      <td>6</td>\n",
       "    </tr>\n",
       "    <tr>\n",
       "      <th>18188</th>\n",
       "      <td>660382477567765256</td>\n",
       "      <td>2019-05</td>\n",
       "      <td>2019-05-13</td>\n",
       "      <td>2019-04-23</td>\n",
       "      <td>2019-01-23</td>\n",
       "      <td>600000.00</td>\n",
       "      <td>4.99</td>\n",
       "      <td>1</td>\n",
       "      <td>-110</td>\n",
       "      <td>20</td>\n",
       "    </tr>\n",
       "    <tr>\n",
       "      <th>25889</th>\n",
       "      <td>8047821974672655407</td>\n",
       "      <td>2019-08</td>\n",
       "      <td>2019-08-12</td>\n",
       "      <td>2019-06-11</td>\n",
       "      <td>2019-06-06</td>\n",
       "      <td>500000.00</td>\n",
       "      <td>6.99</td>\n",
       "      <td>1</td>\n",
       "      <td>-67</td>\n",
       "      <td>62</td>\n",
       "    </tr>\n",
       "    <tr>\n",
       "      <th>32778</th>\n",
       "      <td>8609938720215175911</td>\n",
       "      <td>2019-10</td>\n",
       "      <td>2019-10-29</td>\n",
       "      <td>2019-09-30</td>\n",
       "      <td>2019-11-18</td>\n",
       "      <td>34298.55</td>\n",
       "      <td>5.99</td>\n",
       "      <td>0</td>\n",
       "      <td>20</td>\n",
       "      <td>29</td>\n",
       "    </tr>\n",
       "    <tr>\n",
       "      <th>37827</th>\n",
       "      <td>6693181132429641622</td>\n",
       "      <td>2020-01</td>\n",
       "      <td>2020-01-05</td>\n",
       "      <td>2019-12-26</td>\n",
       "      <td>2019-12-26</td>\n",
       "      <td>88000.00</td>\n",
       "      <td>4.99</td>\n",
       "      <td>0</td>\n",
       "      <td>-10</td>\n",
       "      <td>10</td>\n",
       "    </tr>\n",
       "    <tr>\n",
       "      <th>38057</th>\n",
       "      <td>1292049196559782171</td>\n",
       "      <td>2020-01</td>\n",
       "      <td>2020-01-17</td>\n",
       "      <td>2020-01-07</td>\n",
       "      <td>2020-02-01</td>\n",
       "      <td>327.60</td>\n",
       "      <td>5.99</td>\n",
       "      <td>0</td>\n",
       "      <td>15</td>\n",
       "      <td>10</td>\n",
       "    </tr>\n",
       "    <tr>\n",
       "      <th>38065</th>\n",
       "      <td>1292049196559782171</td>\n",
       "      <td>2020-02</td>\n",
       "      <td>2020-02-11</td>\n",
       "      <td>2020-01-09</td>\n",
       "      <td>2020-02-26</td>\n",
       "      <td>599.13</td>\n",
       "      <td>5.99</td>\n",
       "      <td>0</td>\n",
       "      <td>15</td>\n",
       "      <td>33</td>\n",
       "    </tr>\n",
       "    <tr>\n",
       "      <th>39516</th>\n",
       "      <td>7031913170099381454</td>\n",
       "      <td>2020-01</td>\n",
       "      <td>2020-01-26</td>\n",
       "      <td>2019-12-30</td>\n",
       "      <td>2019-11-25</td>\n",
       "      <td>19762.60</td>\n",
       "      <td>4.99</td>\n",
       "      <td>1</td>\n",
       "      <td>-62</td>\n",
       "      <td>27</td>\n",
       "    </tr>\n",
       "    <tr>\n",
       "      <th>39518</th>\n",
       "      <td>7031913170099381454</td>\n",
       "      <td>2020-01</td>\n",
       "      <td>2020-01-26</td>\n",
       "      <td>2020-01-25</td>\n",
       "      <td>2019-12-25</td>\n",
       "      <td>19762.60</td>\n",
       "      <td>4.99</td>\n",
       "      <td>1</td>\n",
       "      <td>-32</td>\n",
       "      <td>1</td>\n",
       "    </tr>\n",
       "    <tr>\n",
       "      <th>41060</th>\n",
       "      <td>8511588642284189303</td>\n",
       "      <td>2020-02</td>\n",
       "      <td>2020-02-17</td>\n",
       "      <td>2019-07-10</td>\n",
       "      <td>2020-03-03</td>\n",
       "      <td>745.00</td>\n",
       "      <td>5.99</td>\n",
       "      <td>0</td>\n",
       "      <td>15</td>\n",
       "      <td>222</td>\n",
       "    </tr>\n",
       "    <tr>\n",
       "      <th>41923</th>\n",
       "      <td>9205015186723569289</td>\n",
       "      <td>2020-02</td>\n",
       "      <td>2020-02-23</td>\n",
       "      <td>2019-11-21</td>\n",
       "      <td>2020-03-10</td>\n",
       "      <td>11314.80</td>\n",
       "      <td>4.99</td>\n",
       "      <td>0</td>\n",
       "      <td>16</td>\n",
       "      <td>94</td>\n",
       "    </tr>\n",
       "    <tr>\n",
       "      <th>42848</th>\n",
       "      <td>8198518259946944874</td>\n",
       "      <td>2020-03</td>\n",
       "      <td>2020-03-18</td>\n",
       "      <td>2020-03-09</td>\n",
       "      <td>2020-05-11</td>\n",
       "      <td>21516.12</td>\n",
       "      <td>5.99</td>\n",
       "      <td>0</td>\n",
       "      <td>54</td>\n",
       "      <td>9</td>\n",
       "    </tr>\n",
       "    <tr>\n",
       "      <th>43011</th>\n",
       "      <td>984915269987074754</td>\n",
       "      <td>2020-03</td>\n",
       "      <td>2020-03-25</td>\n",
       "      <td>2020-03-23</td>\n",
       "      <td>2020-04-13</td>\n",
       "      <td>60465.90</td>\n",
       "      <td>11.99</td>\n",
       "      <td>0</td>\n",
       "      <td>19</td>\n",
       "      <td>2</td>\n",
       "    </tr>\n",
       "    <tr>\n",
       "      <th>43691</th>\n",
       "      <td>3095408468798675621</td>\n",
       "      <td>2020-03</td>\n",
       "      <td>2020-03-25</td>\n",
       "      <td>2020-03-23</td>\n",
       "      <td>2020-04-14</td>\n",
       "      <td>25081.55</td>\n",
       "      <td>5.99</td>\n",
       "      <td>0</td>\n",
       "      <td>20</td>\n",
       "      <td>2</td>\n",
       "    </tr>\n",
       "    <tr>\n",
       "      <th>43793</th>\n",
       "      <td>1182975716201409626</td>\n",
       "      <td>2020-04</td>\n",
       "      <td>2020-04-03</td>\n",
       "      <td>2020-03-31</td>\n",
       "      <td>2020-04-20</td>\n",
       "      <td>32728.60</td>\n",
       "      <td>6.99</td>\n",
       "      <td>0</td>\n",
       "      <td>17</td>\n",
       "      <td>3</td>\n",
       "    </tr>\n",
       "    <tr>\n",
       "      <th>46231</th>\n",
       "      <td>7325545718770538459</td>\n",
       "      <td>2020-06</td>\n",
       "      <td>2020-06-07</td>\n",
       "      <td>2020-05-31</td>\n",
       "      <td>2020-06-23</td>\n",
       "      <td>13540.35</td>\n",
       "      <td>8.99</td>\n",
       "      <td>0</td>\n",
       "      <td>16</td>\n",
       "      <td>7</td>\n",
       "    </tr>\n",
       "    <tr>\n",
       "      <th>47405</th>\n",
       "      <td>4524147234488547993</td>\n",
       "      <td>2020-05</td>\n",
       "      <td>2020-05-24</td>\n",
       "      <td>2020-05-21</td>\n",
       "      <td>2020-06-10</td>\n",
       "      <td>34477.90</td>\n",
       "      <td>5.99</td>\n",
       "      <td>0</td>\n",
       "      <td>17</td>\n",
       "      <td>3</td>\n",
       "    </tr>\n",
       "    <tr>\n",
       "      <th>47794</th>\n",
       "      <td>6089029916190588614</td>\n",
       "      <td>2020-06</td>\n",
       "      <td>2020-06-01</td>\n",
       "      <td>2020-05-04</td>\n",
       "      <td>2020-06-16</td>\n",
       "      <td>222.60</td>\n",
       "      <td>5.99</td>\n",
       "      <td>0</td>\n",
       "      <td>15</td>\n",
       "      <td>28</td>\n",
       "    </tr>\n",
       "    <tr>\n",
       "      <th>51246</th>\n",
       "      <td>4956614249204803652</td>\n",
       "      <td>2020-07</td>\n",
       "      <td>2020-07-30</td>\n",
       "      <td>2020-07-08</td>\n",
       "      <td>2020-08-14</td>\n",
       "      <td>122.00</td>\n",
       "      <td>5.99</td>\n",
       "      <td>0</td>\n",
       "      <td>15</td>\n",
       "      <td>22</td>\n",
       "    </tr>\n",
       "    <tr>\n",
       "      <th>59661</th>\n",
       "      <td>1156053485989336481</td>\n",
       "      <td>2020-12</td>\n",
       "      <td>2020-12-08</td>\n",
       "      <td>2020-11-30</td>\n",
       "      <td>2021-01-05</td>\n",
       "      <td>499.00</td>\n",
       "      <td>6.99</td>\n",
       "      <td>0</td>\n",
       "      <td>28</td>\n",
       "      <td>8</td>\n",
       "    </tr>\n",
       "    <tr>\n",
       "      <th>64906</th>\n",
       "      <td>7816319470107777265</td>\n",
       "      <td>2021-02</td>\n",
       "      <td>2021-02-10</td>\n",
       "      <td>2021-01-25</td>\n",
       "      <td>2021-02-25</td>\n",
       "      <td>104084.36</td>\n",
       "      <td>5.99</td>\n",
       "      <td>0</td>\n",
       "      <td>15</td>\n",
       "      <td>16</td>\n",
       "    </tr>\n",
       "    <tr>\n",
       "      <th>68710</th>\n",
       "      <td>3391123212703223634</td>\n",
       "      <td>2021-03</td>\n",
       "      <td>2021-03-01</td>\n",
       "      <td>2021-02-16</td>\n",
       "      <td>2021-03-16</td>\n",
       "      <td>552.00</td>\n",
       "      <td>6.99</td>\n",
       "      <td>0</td>\n",
       "      <td>15</td>\n",
       "      <td>13</td>\n",
       "    </tr>\n",
       "    <tr>\n",
       "      <th>74037</th>\n",
       "      <td>6089029916190588614</td>\n",
       "      <td>2021-06</td>\n",
       "      <td>2021-06-07</td>\n",
       "      <td>2020-11-10</td>\n",
       "      <td>2021-06-23</td>\n",
       "      <td>33341.96</td>\n",
       "      <td>5.99</td>\n",
       "      <td>0</td>\n",
       "      <td>16</td>\n",
       "      <td>209</td>\n",
       "    </tr>\n",
       "  </tbody>\n",
       "</table>\n",
       "</div>"
      ],
      "text/plain": [
       "                ID_CLIENTE SAFRA_REF DATA_EMISSAO_DOCUMENTO DATA_PAGAMENTO  \\\n",
       "5481   8198518259946944874   2018-11             2018-11-13     2018-06-19   \n",
       "10305  8733525963966339207   2019-01             2019-01-04     2018-12-27   \n",
       "15756  2209806355660046187   2019-03             2019-03-24     2019-02-26   \n",
       "17888  6056959220685085102   2019-04             2019-04-18     2019-04-12   \n",
       "18188   660382477567765256   2019-05             2019-05-13     2019-04-23   \n",
       "25889  8047821974672655407   2019-08             2019-08-12     2019-06-11   \n",
       "32778  8609938720215175911   2019-10             2019-10-29     2019-09-30   \n",
       "37827  6693181132429641622   2020-01             2020-01-05     2019-12-26   \n",
       "38057  1292049196559782171   2020-01             2020-01-17     2020-01-07   \n",
       "38065  1292049196559782171   2020-02             2020-02-11     2020-01-09   \n",
       "39516  7031913170099381454   2020-01             2020-01-26     2019-12-30   \n",
       "39518  7031913170099381454   2020-01             2020-01-26     2020-01-25   \n",
       "41060  8511588642284189303   2020-02             2020-02-17     2019-07-10   \n",
       "41923  9205015186723569289   2020-02             2020-02-23     2019-11-21   \n",
       "42848  8198518259946944874   2020-03             2020-03-18     2020-03-09   \n",
       "43011   984915269987074754   2020-03             2020-03-25     2020-03-23   \n",
       "43691  3095408468798675621   2020-03             2020-03-25     2020-03-23   \n",
       "43793  1182975716201409626   2020-04             2020-04-03     2020-03-31   \n",
       "46231  7325545718770538459   2020-06             2020-06-07     2020-05-31   \n",
       "47405  4524147234488547993   2020-05             2020-05-24     2020-05-21   \n",
       "47794  6089029916190588614   2020-06             2020-06-01     2020-05-04   \n",
       "51246  4956614249204803652   2020-07             2020-07-30     2020-07-08   \n",
       "59661  1156053485989336481   2020-12             2020-12-08     2020-11-30   \n",
       "64906  7816319470107777265   2021-02             2021-02-10     2021-01-25   \n",
       "68710  3391123212703223634   2021-03             2021-03-01     2021-02-16   \n",
       "74037  6089029916190588614   2021-06             2021-06-07     2020-11-10   \n",
       "\n",
       "      DATA_VENCIMENTO  VALOR_A_PAGAR   TAXA  ATRASADO  PRAZO  \\\n",
       "5481       2017-12-28         255.43   6.99         1   -320   \n",
       "10305      2019-01-21       15143.60   6.99         0     17   \n",
       "15756      2019-04-09        1356.70  11.99         0     16   \n",
       "17888      2019-05-15        1182.00   5.99         0     27   \n",
       "18188      2019-01-23      600000.00   4.99         1   -110   \n",
       "25889      2019-06-06      500000.00   6.99         1    -67   \n",
       "32778      2019-11-18       34298.55   5.99         0     20   \n",
       "37827      2019-12-26       88000.00   4.99         0    -10   \n",
       "38057      2020-02-01         327.60   5.99         0     15   \n",
       "38065      2020-02-26         599.13   5.99         0     15   \n",
       "39516      2019-11-25       19762.60   4.99         1    -62   \n",
       "39518      2019-12-25       19762.60   4.99         1    -32   \n",
       "41060      2020-03-03         745.00   5.99         0     15   \n",
       "41923      2020-03-10       11314.80   4.99         0     16   \n",
       "42848      2020-05-11       21516.12   5.99         0     54   \n",
       "43011      2020-04-13       60465.90  11.99         0     19   \n",
       "43691      2020-04-14       25081.55   5.99         0     20   \n",
       "43793      2020-04-20       32728.60   6.99         0     17   \n",
       "46231      2020-06-23       13540.35   8.99         0     16   \n",
       "47405      2020-06-10       34477.90   5.99         0     17   \n",
       "47794      2020-06-16         222.60   5.99         0     15   \n",
       "51246      2020-08-14         122.00   5.99         0     15   \n",
       "59661      2021-01-05         499.00   6.99         0     28   \n",
       "64906      2021-02-25      104084.36   5.99         0     15   \n",
       "68710      2021-03-16         552.00   6.99         0     15   \n",
       "74037      2021-06-23       33341.96   5.99         0     16   \n",
       "\n",
       "       EMISSAO_X_PAGAMENTO  \n",
       "5481                   147  \n",
       "10305                    8  \n",
       "15756                   26  \n",
       "17888                    6  \n",
       "18188                   20  \n",
       "25889                   62  \n",
       "32778                   29  \n",
       "37827                   10  \n",
       "38057                   10  \n",
       "38065                   33  \n",
       "39516                   27  \n",
       "39518                    1  \n",
       "41060                  222  \n",
       "41923                   94  \n",
       "42848                    9  \n",
       "43011                    2  \n",
       "43691                    2  \n",
       "43793                    3  \n",
       "46231                    7  \n",
       "47405                    3  \n",
       "47794                   28  \n",
       "51246                   22  \n",
       "59661                    8  \n",
       "64906                   16  \n",
       "68710                   13  \n",
       "74037                  209  "
      ]
     },
     "execution_count": 28,
     "metadata": {},
     "output_type": "execute_result"
    }
   ],
   "source": [
    "base_pagamentos_desenvolvimento['EMISSAO_X_PAGAMENTO'] = (base_pagamentos_desenvolvimento['DATA_EMISSAO_DOCUMENTO'] - base_pagamentos_desenvolvimento['DATA_PAGAMENTO']).dt.days\n",
    "# data de pagamento anterior a data de emissão\n",
    "# acredito que seja alguma regra de negócio, erro ou pegadinha.\n",
    "base_pagamentos_desenvolvimento.loc[base_pagamentos_desenvolvimento['EMISSAO_X_PAGAMENTO']>0]"
   ]
  },
  {
   "cell_type": "code",
   "execution_count": 29,
   "id": "be17e0e5",
   "metadata": {},
   "outputs": [
    {
     "data": {
      "image/png": "[encoded data removed]",
      "text/plain": [
       "<Figure size 640x480 with 1 Axes>"
      ]
     },
     "metadata": {},
     "output_type": "display_data"
    }
   ],
   "source": [
    "plt.boxplot(base_pagamentos_desenvolvimento['EMISSAO_X_PAGAMENTO'])\n",
    "\n",
    "plt.show()"
   ]
  },
  {
   "cell_type": "code",
   "execution_count": 30,
   "id": "9868c641",
   "metadata": {},
   "outputs": [],
   "source": [
    "# aplicando a correção dos prazos negativos\n",
    "base_pagamentos_desenvolvimento.loc[base_pagamentos_desenvolvimento['PRAZO']<0, 'PRAZO'] = base_pagamentos_desenvolvimento.loc[base_pagamentos_desenvolvimento['PRAZO']>0, 'PRAZO'].mode()[0]"
   ]
  },
  {
   "cell_type": "markdown",
   "id": "133b7961",
   "metadata": {},
   "source": [
    "##### Criando o indicador se o cliente já atrasou alguma vez"
   ]
  },
  {
   "cell_type": "code",
   "execution_count": 31,
   "id": "995a95d6",
   "metadata": {},
   "outputs": [],
   "source": [
    "historico_atraso = base_pagamentos_desenvolvimento.groupby('ID_CLIENTE').agg({\n",
    "    'ATRASADO': 'max'})"
   ]
  },
  {
   "cell_type": "code",
   "execution_count": 32,
   "id": "507fe5cc",
   "metadata": {},
   "outputs": [],
   "source": [
    "\n",
    "base_pagamentos_desenvolvimento['HISTORICO_ATRASO'] = base_pagamentos_desenvolvimento['ID_CLIENTE'].map(historico_atraso['ATRASADO'])"
   ]
  },
  {
   "cell_type": "markdown",
   "id": "6fbea4e2",
   "metadata": {},
   "source": [
    "##### Merge com o dataframe `base_cadastral` para enriquecer a `base_pagamentos`"
   ]
  },
  {
   "cell_type": "code",
   "execution_count": 33,
   "id": "chiQNXj97DQU",
   "metadata": {
    "colab": {
     "base_uri": "https://localhost:8080/",
     "height": 375
    },
    "executionInfo": {
     "elapsed": 202,
     "status": "ok",
     "timestamp": 1751848692391,
     "user": {
      "displayName": "WESLEY DE BRITO",
      "userId": "08430531657947538891"
     },
     "user_tz": 180
    },
    "id": "chiQNXj97DQU",
    "outputId": "aec3c571-7409-4656-ef66-911fef38deaf"
   },
   "outputs": [
    {
     "name": "stdout",
     "output_type": "stream",
     "text": [
      "(77414, 15)\n",
      "ID_CLIENTE                   0\n",
      "SAFRA_REF                    0\n",
      "DATA_EMISSAO_DOCUMENTO       0\n",
      "DATA_PAGAMENTO               0\n",
      "DATA_VENCIMENTO              0\n",
      "VALOR_A_PAGAR             1170\n",
      "TAXA                         0\n",
      "ATRASADO                     0\n",
      "PRAZO                        0\n",
      "EMISSAO_X_PAGAMENTO          0\n",
      "HISTORICO_ATRASO             0\n",
      "SEGMENTO_INDUSTRIAL          0\n",
      "DOMINIO_EMAIL                0\n",
      "PORTE                        0\n",
      "FLAG_PF                      0\n",
      "dtype: int64\n"
     ]
    },
    {
     "data": {
      "text/html": [
       "<div>\n",
       "<style scoped>\n",
       "    .dataframe tbody tr th:only-of-type {\n",
       "        vertical-align: middle;\n",
       "    }\n",
       "\n",
       "    .dataframe tbody tr th {\n",
       "        vertical-align: top;\n",
       "    }\n",
       "\n",
       "    .dataframe thead th {\n",
       "        text-align: right;\n",
       "    }\n",
       "</style>\n",
       "<table border=\"1\" class=\"dataframe\">\n",
       "  <thead>\n",
       "    <tr style=\"text-align: right;\">\n",
       "      <th></th>\n",
       "      <th>ID_CLIENTE</th>\n",
       "      <th>SAFRA_REF</th>\n",
       "      <th>DATA_EMISSAO_DOCUMENTO</th>\n",
       "      <th>DATA_PAGAMENTO</th>\n",
       "      <th>DATA_VENCIMENTO</th>\n",
       "      <th>VALOR_A_PAGAR</th>\n",
       "      <th>TAXA</th>\n",
       "      <th>ATRASADO</th>\n",
       "      <th>PRAZO</th>\n",
       "      <th>EMISSAO_X_PAGAMENTO</th>\n",
       "      <th>HISTORICO_ATRASO</th>\n",
       "      <th>SEGMENTO_INDUSTRIAL</th>\n",
       "      <th>DOMINIO_EMAIL</th>\n",
       "      <th>PORTE</th>\n",
       "      <th>FLAG_PF</th>\n",
       "    </tr>\n",
       "  </thead>\n",
       "  <tbody>\n",
       "    <tr>\n",
       "      <th>0</th>\n",
       "      <td>1661240395903230676</td>\n",
       "      <td>2018-08</td>\n",
       "      <td>2018-08-17</td>\n",
       "      <td>2018-09-06</td>\n",
       "      <td>2018-09-06</td>\n",
       "      <td>35516.41</td>\n",
       "      <td>6.99</td>\n",
       "      <td>0</td>\n",
       "      <td>20</td>\n",
       "      <td>-20</td>\n",
       "      <td>1</td>\n",
       "      <td>Serviços</td>\n",
       "      <td>YAHOO</td>\n",
       "      <td>PEQUENO</td>\n",
       "      <td>0</td>\n",
       "    </tr>\n",
       "    <tr>\n",
       "      <th>1</th>\n",
       "      <td>1661240395903230676</td>\n",
       "      <td>2018-08</td>\n",
       "      <td>2018-08-19</td>\n",
       "      <td>2018-09-11</td>\n",
       "      <td>2018-09-10</td>\n",
       "      <td>17758.21</td>\n",
       "      <td>6.99</td>\n",
       "      <td>0</td>\n",
       "      <td>22</td>\n",
       "      <td>-23</td>\n",
       "      <td>1</td>\n",
       "      <td>Serviços</td>\n",
       "      <td>YAHOO</td>\n",
       "      <td>PEQUENO</td>\n",
       "      <td>0</td>\n",
       "    </tr>\n",
       "  </tbody>\n",
       "</table>\n",
       "</div>"
      ],
      "text/plain": [
       "            ID_CLIENTE SAFRA_REF DATA_EMISSAO_DOCUMENTO DATA_PAGAMENTO  \\\n",
       "0  1661240395903230676   2018-08             2018-08-17     2018-09-06   \n",
       "1  1661240395903230676   2018-08             2018-08-19     2018-09-11   \n",
       "\n",
       "  DATA_VENCIMENTO  VALOR_A_PAGAR  TAXA  ATRASADO  PRAZO  EMISSAO_X_PAGAMENTO  \\\n",
       "0      2018-09-06       35516.41  6.99         0     20                  -20   \n",
       "1      2018-09-10       17758.21  6.99         0     22                  -23   \n",
       "\n",
       "   HISTORICO_ATRASO SEGMENTO_INDUSTRIAL DOMINIO_EMAIL    PORTE  FLAG_PF  \n",
       "0                 1            Serviços         YAHOO  PEQUENO        0  \n",
       "1                 1            Serviços         YAHOO  PEQUENO        0  "
      ]
     },
     "execution_count": 33,
     "metadata": {},
     "output_type": "execute_result"
    }
   ],
   "source": [
    "merged_base_pagamentos_desenvolvimento = base_pagamentos_desenvolvimento.merge(base_cadastral[['ID_CLIENTE','SEGMENTO_INDUSTRIAL','DOMINIO_EMAIL','PORTE','FLAG_PF']],\n",
    "                                                           how='left', on='ID_CLIENTE')\n",
    "print(merged_base_pagamentos_desenvolvimento.shape)\n",
    "print(merged_base_pagamentos_desenvolvimento.isnull().sum())\n",
    "merged_base_pagamentos_desenvolvimento.head(2)"
   ]
  },
  {
   "cell_type": "markdown",
   "id": "f5084b06",
   "metadata": {},
   "source": [
    "##### Merge com o dataframe `base_info` para enriquecer a `base_pagamentos`"
   ]
  },
  {
   "cell_type": "code",
   "execution_count": 34,
   "id": "GgDqBKaI8bZU",
   "metadata": {
    "colab": {
     "base_uri": "https://localhost:8080/",
     "height": 410
    },
    "executionInfo": {
     "elapsed": 225,
     "status": "ok",
     "timestamp": 1751848694833,
     "user": {
      "displayName": "WESLEY DE BRITO",
      "userId": "08430531657947538891"
     },
     "user_tz": 180
    },
    "id": "GgDqBKaI8bZU",
    "outputId": "43b4abd7-b86d-4daa-97fa-162564936874"
   },
   "outputs": [
    {
     "name": "stdout",
     "output_type": "stream",
     "text": [
      "(77414, 17)\n",
      "ID_CLIENTE                   0\n",
      "SAFRA_REF                    0\n",
      "DATA_EMISSAO_DOCUMENTO       0\n",
      "DATA_PAGAMENTO               0\n",
      "DATA_VENCIMENTO              0\n",
      "VALOR_A_PAGAR             1170\n",
      "TAXA                         0\n",
      "ATRASADO                     0\n",
      "PRAZO                        0\n",
      "EMISSAO_X_PAGAMENTO          0\n",
      "HISTORICO_ATRASO             0\n",
      "SEGMENTO_INDUSTRIAL          0\n",
      "DOMINIO_EMAIL                0\n",
      "PORTE                        0\n",
      "FLAG_PF                      0\n",
      "NO_FUNCIONARIOS              0\n",
      "RENDA_MES_ANTERIOR           0\n",
      "dtype: int64\n"
     ]
    },
    {
     "data": {
      "text/html": [
       "<div>\n",
       "<style scoped>\n",
       "    .dataframe tbody tr th:only-of-type {\n",
       "        vertical-align: middle;\n",
       "    }\n",
       "\n",
       "    .dataframe tbody tr th {\n",
       "        vertical-align: top;\n",
       "    }\n",
       "\n",
       "    .dataframe thead th {\n",
       "        text-align: right;\n",
       "    }\n",
       "</style>\n",
       "<table border=\"1\" class=\"dataframe\">\n",
       "  <thead>\n",
       "    <tr style=\"text-align: right;\">\n",
       "      <th></th>\n",
       "      <th>ID_CLIENTE</th>\n",
       "      <th>SAFRA_REF</th>\n",
       "      <th>DATA_EMISSAO_DOCUMENTO</th>\n",
       "      <th>DATA_PAGAMENTO</th>\n",
       "      <th>DATA_VENCIMENTO</th>\n",
       "      <th>VALOR_A_PAGAR</th>\n",
       "      <th>TAXA</th>\n",
       "      <th>ATRASADO</th>\n",
       "      <th>PRAZO</th>\n",
       "      <th>EMISSAO_X_PAGAMENTO</th>\n",
       "      <th>HISTORICO_ATRASO</th>\n",
       "      <th>SEGMENTO_INDUSTRIAL</th>\n",
       "      <th>DOMINIO_EMAIL</th>\n",
       "      <th>PORTE</th>\n",
       "      <th>FLAG_PF</th>\n",
       "      <th>NO_FUNCIONARIOS</th>\n",
       "      <th>RENDA_MES_ANTERIOR</th>\n",
       "    </tr>\n",
       "  </thead>\n",
       "  <tbody>\n",
       "    <tr>\n",
       "      <th>0</th>\n",
       "      <td>1661240395903230676</td>\n",
       "      <td>2018-08</td>\n",
       "      <td>2018-08-17</td>\n",
       "      <td>2018-09-06</td>\n",
       "      <td>2018-09-06</td>\n",
       "      <td>35516.41</td>\n",
       "      <td>6.99</td>\n",
       "      <td>0</td>\n",
       "      <td>20</td>\n",
       "      <td>-20</td>\n",
       "      <td>1</td>\n",
       "      <td>Serviços</td>\n",
       "      <td>YAHOO</td>\n",
       "      <td>PEQUENO</td>\n",
       "      <td>0</td>\n",
       "      <td>113.078586</td>\n",
       "      <td>285268.89731</td>\n",
       "    </tr>\n",
       "    <tr>\n",
       "      <th>1</th>\n",
       "      <td>1661240395903230676</td>\n",
       "      <td>2018-08</td>\n",
       "      <td>2018-08-19</td>\n",
       "      <td>2018-09-11</td>\n",
       "      <td>2018-09-10</td>\n",
       "      <td>17758.21</td>\n",
       "      <td>6.99</td>\n",
       "      <td>0</td>\n",
       "      <td>22</td>\n",
       "      <td>-23</td>\n",
       "      <td>1</td>\n",
       "      <td>Serviços</td>\n",
       "      <td>YAHOO</td>\n",
       "      <td>PEQUENO</td>\n",
       "      <td>0</td>\n",
       "      <td>113.078586</td>\n",
       "      <td>285268.89731</td>\n",
       "    </tr>\n",
       "  </tbody>\n",
       "</table>\n",
       "</div>"
      ],
      "text/plain": [
       "            ID_CLIENTE SAFRA_REF DATA_EMISSAO_DOCUMENTO DATA_PAGAMENTO  \\\n",
       "0  1661240395903230676   2018-08             2018-08-17     2018-09-06   \n",
       "1  1661240395903230676   2018-08             2018-08-19     2018-09-11   \n",
       "\n",
       "  DATA_VENCIMENTO  VALOR_A_PAGAR  TAXA  ATRASADO  PRAZO  EMISSAO_X_PAGAMENTO  \\\n",
       "0      2018-09-06       35516.41  6.99         0     20                  -20   \n",
       "1      2018-09-10       17758.21  6.99         0     22                  -23   \n",
       "\n",
       "   HISTORICO_ATRASO SEGMENTO_INDUSTRIAL DOMINIO_EMAIL    PORTE  FLAG_PF  \\\n",
       "0                 1            Serviços         YAHOO  PEQUENO        0   \n",
       "1                 1            Serviços         YAHOO  PEQUENO        0   \n",
       "\n",
       "   NO_FUNCIONARIOS  RENDA_MES_ANTERIOR  \n",
       "0       113.078586        285268.89731  \n",
       "1       113.078586        285268.89731  "
      ]
     },
     "execution_count": 34,
     "metadata": {},
     "output_type": "execute_result"
    }
   ],
   "source": [
    "base_pagamentos_desenvolvimento_full = merged_base_pagamentos_desenvolvimento.merge(\n",
    "    base_info[['ID_CLIENTE','SAFRA_REF','NO_FUNCIONARIOS','RENDA_MES_ANTERIOR']],\n",
    "    how='left',\n",
    "    on=['ID_CLIENTE','SAFRA_REF']\n",
    ")\n",
    "\n",
    "colunas = ['RENDA_MES_ANTERIOR', 'NO_FUNCIONARIOS']\n",
    "\n",
    "# preenchendo nulos com a média do grupo PORTE\n",
    "for coluna in colunas:\n",
    "    medias = base_pagamentos_desenvolvimento_full.groupby('PORTE')[coluna].transform('mean')\n",
    "    base_pagamentos_desenvolvimento_full[coluna] = base_pagamentos_desenvolvimento_full[coluna].fillna(medias)\n",
    "\n",
    "\n",
    "print(base_pagamentos_desenvolvimento_full.shape)\n",
    "print(base_pagamentos_desenvolvimento_full.isnull().sum())\n",
    "base_pagamentos_desenvolvimento_full.head(2)"
   ]
  },
  {
   "cell_type": "markdown",
   "id": "123114fe",
   "metadata": {},
   "source": [
    "##### Substituindo os valores nulos da coluna `VALOR_A_PAGAR` pela média de cada porte "
   ]
  },
  {
   "cell_type": "code",
   "execution_count": 35,
   "id": "de38eab8",
   "metadata": {},
   "outputs": [
    {
     "name": "stdout",
     "output_type": "stream",
     "text": [
      "(77414, 17)\n",
      "ID_CLIENTE                0\n",
      "SAFRA_REF                 0\n",
      "DATA_EMISSAO_DOCUMENTO    0\n",
      "DATA_PAGAMENTO            0\n",
      "DATA_VENCIMENTO           0\n",
      "VALOR_A_PAGAR             0\n",
      "TAXA                      0\n",
      "ATRASADO                  0\n",
      "PRAZO                     0\n",
      "EMISSAO_X_PAGAMENTO       0\n",
      "HISTORICO_ATRASO          0\n",
      "SEGMENTO_INDUSTRIAL       0\n",
      "DOMINIO_EMAIL             0\n",
      "PORTE                     0\n",
      "FLAG_PF                   0\n",
      "NO_FUNCIONARIOS           0\n",
      "RENDA_MES_ANTERIOR        0\n",
      "dtype: int64\n"
     ]
    }
   ],
   "source": [
    "base_pagamentos_desenvolvimento_full.loc[(base_pagamentos_desenvolvimento_full['VALOR_A_PAGAR'].isna()) & (base_pagamentos_desenvolvimento_full['PORTE'] == 'GRANDE'), 'VALOR_A_PAGAR'] = base_pagamentos_desenvolvimento_full.loc[base_pagamentos_desenvolvimento_full['PORTE'] == 'GRANDE', 'VALOR_A_PAGAR'].mean()\n",
    "base_pagamentos_desenvolvimento_full.loc[(base_pagamentos_desenvolvimento_full['VALOR_A_PAGAR'].isna()) & (base_pagamentos_desenvolvimento_full['PORTE'] == 'MEDIO'), 'VALOR_A_PAGAR'] = base_pagamentos_desenvolvimento_full.loc[base_pagamentos_desenvolvimento_full['PORTE'] == 'MEDIO', 'VALOR_A_PAGAR'].mean()\n",
    "base_pagamentos_desenvolvimento_full.loc[(base_pagamentos_desenvolvimento_full['VALOR_A_PAGAR'].isna()) & (base_pagamentos_desenvolvimento_full['PORTE'] == 'PEQUENO'), 'VALOR_A_PAGAR'] = base_pagamentos_desenvolvimento_full.loc[base_pagamentos_desenvolvimento_full['PORTE'] == 'PEQUENO', 'VALOR_A_PAGAR'].mean()\n",
    "\n",
    "print(base_pagamentos_desenvolvimento_full.shape)\n",
    "print(base_pagamentos_desenvolvimento_full.isnull().sum())"
   ]
  },
  {
   "cell_type": "markdown",
   "id": "f2c18269",
   "metadata": {},
   "source": [
    "##### Tranformandos as variaveis categoricas em numericas"
   ]
  },
  {
   "cell_type": "markdown",
   "id": "c2092055",
   "metadata": {},
   "source": [
    "Na coluna `PORTE` coloquei em sequencia, pois acredito que quanto maior o porte da empresa melhor.<br>\n",
    "Nas colunas `SEGMENTO_INDUSTRIAL` e `DOMINIO_EMAIL` apliquei o one-hot encoded de simples com o próprio pandas."
   ]
  },
  {
   "cell_type": "code",
   "execution_count": 36,
   "id": "dbc2383c",
   "metadata": {},
   "outputs": [],
   "source": [
    "base_pagamentos_desenvolvimento_full.loc[base_pagamentos_desenvolvimento_full['PORTE']=='PEQUENO','PORTE'] = 0\n",
    "base_pagamentos_desenvolvimento_full.loc[base_pagamentos_desenvolvimento_full['PORTE']=='MEDIO','PORTE'] = 1\n",
    "base_pagamentos_desenvolvimento_full.loc[base_pagamentos_desenvolvimento_full['PORTE']=='GRANDE','PORTE'] = 2\n",
    "base_pagamentos_desenvolvimento_full[['Comércio','Indústria','Serviços']] = pd.get_dummies(base_pagamentos_desenvolvimento_full['SEGMENTO_INDUSTRIAL']).astype(int)\n",
    "base_pagamentos_desenvolvimento_full[['AOL','BOL','GMAIL','HOTMAIL','OUTLOOK','YAHOO']] = pd.get_dummies(base_pagamentos_desenvolvimento_full['DOMINIO_EMAIL']).astype(int)"
   ]
  },
  {
   "cell_type": "markdown",
   "id": "Yu6COF8YU6Q4",
   "metadata": {
    "id": "Yu6COF8YU6Q4"
   },
   "source": [
    "## Preparação da base, criação e teste de modelos"
   ]
  },
  {
   "cell_type": "markdown",
   "id": "588bdc9b",
   "metadata": {},
   "source": [
    "##### Equilibrando os dados"
   ]
  },
  {
   "cell_type": "code",
   "execution_count": 37,
   "id": "b7a6cb5a",
   "metadata": {},
   "outputs": [
    {
     "data": {
      "application/vnd.plotly.v1+json": {
       "config": {
        "plotlyServerURL": "https://plot.ly"
       },
       "data": [
        {
         "coloraxis": "coloraxis",
         "hovertemplate": "x: %{x}<br>y: %{y}<br>color: %{z}<extra></extra>",
         "name": "0",
         "texttemplate": "%{z}",
         "type": "heatmap",
         "x": [
          "PORTE",
          "Comércio",
          "Indústria",
          "Serviços",
          "AOL",
          "BOL",
          "GMAIL",
          "HOTMAIL",
          "OUTLOOK",
          "YAHOO",
          "RENDA_MES_ANTERIOR",
          "NO_FUNCIONARIOS",
          "TAXA",
          "VALOR_A_PAGAR",
          "PRAZO",
          "FLAG_PF",
          "HISTORICO_ATRASO",
          "ATRASADO"
         ],
         "xaxis": "x",
         "y": [
          "PORTE",
          "Comércio",
          "Indústria",
          "Serviços",
          "AOL",
          "BOL",
          "GMAIL",
          "HOTMAIL",
          "OUTLOOK",
          "YAHOO",
          "RENDA_MES_ANTERIOR",
          "NO_FUNCIONARIOS",
          "TAXA",
          "VALOR_A_PAGAR",
          "PRAZO",
          "FLAG_PF",
          "HISTORICO_ATRASO",
          "ATRASADO"
         ],
         "yaxis": "y",
         "z": [
          [
           1,
           0.04,
           -0.05,
           0,
           0,
           -0.02,
           0.01,
           -0.06,
           0.02,
           0.05,
           0.02,
           0.14,
           -0.01,
           -0.03,
           -0.07,
           -0.01,
           -0.03,
           -0.05
          ],
          [
           0.04,
           1,
           -0.39,
           -0.63,
           0.06,
           0.03,
           -0.12,
           -0.02,
           0.02,
           0.09,
           0.01,
           0.05,
           -0.01,
           0.06,
           -0.03,
           -0.04,
           -0.06,
           -0.07
          ],
          [
           -0.05,
           -0.39,
           1,
           -0.46,
           -0.06,
           -0.05,
           0.07,
           -0.07,
           0.01,
           0.03,
           0,
           -0.01,
           0,
           0.01,
           0,
           -0.03,
           0.03,
           0.01
          ],
          [
           0,
           -0.63,
           -0.46,
           1,
           -0.01,
           0.02,
           0.06,
           0.08,
           -0.03,
           -0.11,
           -0.01,
           -0.04,
           0.01,
           -0.06,
           0.03,
           0.06,
           0.04,
           0.06
          ],
          [
           0,
           0.06,
           -0.06,
           -0.01,
           1,
           -0.04,
           -0.15,
           -0.14,
           -0.06,
           -0.18,
           -0.01,
           0.04,
           0,
           0,
           -0.01,
           -0.01,
           -0.06,
           -0.03
          ],
          [
           -0.02,
           0.03,
           -0.05,
           0.02,
           -0.04,
           1,
           -0.1,
           -0.09,
           -0.04,
           -0.11,
           0.01,
           0.04,
           0.01,
           -0.03,
           0,
           0.02,
           0.02,
           0
          ],
          [
           0.01,
           -0.12,
           0.07,
           0.06,
           -0.15,
           -0.1,
           1,
           -0.35,
           -0.16,
           -0.44,
           0.01,
           -0.01,
           0,
           0.01,
           0,
           -0.01,
           -0.07,
           0.01
          ],
          [
           -0.06,
           -0.02,
           -0.07,
           0.08,
           -0.14,
           -0.09,
           -0.35,
           1,
           -0.15,
           -0.4,
           0.01,
           0.02,
           0.02,
           -0.05,
           0.02,
           0.02,
           0.06,
           0.05
          ],
          [
           0.02,
           0.02,
           0.01,
           -0.03,
           -0.06,
           -0.04,
           -0.16,
           -0.15,
           1,
           -0.18,
           0,
           0.01,
           0,
           -0.03,
           0.01,
           0,
           0,
           -0.02
          ],
          [
           0.05,
           0.09,
           0.03,
           -0.11,
           -0.18,
           -0.11,
           -0.44,
           -0.4,
           -0.18,
           1,
           -0.01,
           -0.05,
           -0.01,
           0.06,
           -0.01,
           -0.01,
           0.04,
           -0.03
          ],
          [
           0.02,
           0.01,
           0,
           -0.01,
           -0.01,
           0.01,
           0.01,
           0.01,
           0,
           -0.01,
           1,
           0.02,
           0,
           0,
           -0.01,
           -0.05,
           -0.02,
           -0.07
          ],
          [
           0.14,
           0.05,
           -0.01,
           -0.04,
           0.04,
           0.04,
           -0.01,
           0.02,
           0.01,
           -0.05,
           0.02,
           1,
           0.01,
           0.03,
           0.02,
           -0.24,
           -0.01,
           -0.02
          ],
          [
           -0.01,
           -0.01,
           0,
           0.01,
           0,
           0.01,
           0,
           0.02,
           0,
           -0.01,
           0,
           0.01,
           1,
           -0.01,
           0,
           -0.01,
           0,
           0.01
          ],
          [
           -0.03,
           0.06,
           0.01,
           -0.06,
           0,
           -0.03,
           0.01,
           -0.05,
           -0.03,
           0.06,
           0,
           0.03,
           -0.01,
           1,
           0.09,
           -0.02,
           -0.07,
           -0.09
          ],
          [
           -0.07,
           -0.03,
           0,
           0.03,
           -0.01,
           0,
           0,
           0.02,
           0.01,
           -0.01,
           -0.01,
           0.02,
           0,
           0.09,
           1,
           0.01,
           0.07,
           0.11
          ],
          [
           -0.01,
           -0.04,
           -0.03,
           0.06,
           -0.01,
           0.02,
           -0.01,
           0.02,
           0,
           -0.01,
           -0.05,
           -0.24,
           -0.01,
           -0.02,
           0.01,
           1,
           -0.02,
           0.03
          ],
          [
           -0.03,
           -0.06,
           0.03,
           0.04,
           -0.06,
           0.02,
           -0.07,
           0.06,
           0,
           0.04,
           -0.02,
           -0.01,
           0,
           -0.07,
           0.07,
           -0.02,
           1,
           0.2
          ],
          [
           -0.05,
           -0.07,
           0.01,
           0.06,
           -0.03,
           0,
           0.01,
           0.05,
           -0.02,
           -0.03,
           -0.07,
           -0.02,
           0.01,
           -0.09,
           0.11,
           0.03,
           0.2,
           1
          ]
         ]
        }
       ],
       "layout": {
        "coloraxis": {
         "colorscale": [
          [
           0,
           "rgb(5,48,97)"
          ],
          [
           0.1,
           "rgb(33,102,172)"
          ],
          [
           0.2,
           "rgb(67,147,195)"
          ],
          [
           0.3,
           "rgb(146,197,222)"
          ],
          [
           0.4,
           "rgb(209,229,240)"
          ],
          [
           0.5,
           "rgb(247,247,247)"
          ],
          [
           0.6,
           "rgb(253,219,199)"
          ],
          [
           0.7,
           "rgb(244,165,130)"
          ],
          [
           0.8,
           "rgb(214,96,77)"
          ],
          [
           0.9,
           "rgb(178,24,43)"
          ],
          [
           1,
           "rgb(103,0,31)"
          ]
         ]
        },
        "height": 500,
        "margin": {
         "b": 50,
         "l": 50,
         "r": 50,
         "t": 50
        },
        "template": {
         "data": {
          "bar": [
           {
            "error_x": {
             "color": "#2a3f5f"
            },
            "error_y": {
             "color": "#2a3f5f"
            },
            "marker": {
             "line": {
              "color": "#E5ECF6",
              "width": 0.5
             },
             "pattern": {
              "fillmode": "overlay",
              "size": 10,
              "solidity": 0.2
             }
            },
            "type": "bar"
           }
          ],
          "barpolar": [
           {
            "marker": {
             "line": {
              "color": "#E5ECF6",
              "width": 0.5
             },
             "pattern": {
              "fillmode": "overlay",
              "size": 10,
              "solidity": 0.2
             }
            },
            "type": "barpolar"
           }
          ],
          "carpet": [
           {
            "aaxis": {
             "endlinecolor": "#2a3f5f",
             "gridcolor": "white",
             "linecolor": "white",
             "minorgridcolor": "white",
             "startlinecolor": "#2a3f5f"
            },
            "baxis": {
             "endlinecolor": "#2a3f5f",
             "gridcolor": "white",
             "linecolor": "white",
             "minorgridcolor": "white",
             "startlinecolor": "#2a3f5f"
            },
            "type": "carpet"
           }
          ],
          "choropleth": [
           {
            "colorbar": {
             "outlinewidth": 0,
             "ticks": ""
            },
            "type": "choropleth"
           }
          ],
          "contour": [
           {
            "colorbar": {
             "outlinewidth": 0,
             "ticks": ""
            },
            "colorscale": [
             [
              0,
              "#0d0887"
             ],
             [
              0.1111111111111111,
              "#46039f"
             ],
             [
              0.2222222222222222,
              "#7201a8"
             ],
             [
              0.3333333333333333,
              "#9c179e"
             ],
             [
              0.4444444444444444,
              "#bd3786"
             ],
             [
              0.5555555555555556,
              "#d8576b"
             ],
             [
              0.6666666666666666,
              "#ed7953"
             ],
             [
              0.7777777777777778,
              "#fb9f3a"
             ],
             [
              0.8888888888888888,
              "#fdca26"
             ],
             [
              1,
              "#f0f921"
             ]
            ],
            "type": "contour"
           }
          ],
          "contourcarpet": [
           {
            "colorbar": {
             "outlinewidth": 0,
             "ticks": ""
            },
            "type": "contourcarpet"
           }
          ],
          "heatmap": [
           {
            "colorbar": {
             "outlinewidth": 0,
             "ticks": ""
            },
            "colorscale": [
             [
              0,
              "#0d0887"
             ],
             [
              0.1111111111111111,
              "#46039f"
             ],
             [
              0.2222222222222222,
              "#7201a8"
             ],
             [
              0.3333333333333333,
              "#9c179e"
             ],
             [
              0.4444444444444444,
              "#bd3786"
             ],
             [
              0.5555555555555556,
              "#d8576b"
             ],
             [
              0.6666666666666666,
              "#ed7953"
             ],
             [
              0.7777777777777778,
              "#fb9f3a"
             ],
             [
              0.8888888888888888,
              "#fdca26"
             ],
             [
              1,
              "#f0f921"
             ]
            ],
            "type": "heatmap"
           }
          ],
          "heatmapgl": [
           {
            "colorbar": {
             "outlinewidth": 0,
             "ticks": ""
            },
            "colorscale": [
             [
              0,
              "#0d0887"
             ],
             [
              0.1111111111111111,
              "#46039f"
             ],
             [
              0.2222222222222222,
              "#7201a8"
             ],
             [
              0.3333333333333333,
              "#9c179e"
             ],
             [
              0.4444444444444444,
              "#bd3786"
             ],
             [
              0.5555555555555556,
              "#d8576b"
             ],
             [
              0.6666666666666666,
              "#ed7953"
             ],
             [
              0.7777777777777778,
              "#fb9f3a"
             ],
             [
              0.8888888888888888,
              "#fdca26"
             ],
             [
              1,
              "#f0f921"
             ]
            ],
            "type": "heatmapgl"
           }
          ],
          "histogram": [
           {
            "marker": {
             "pattern": {
              "fillmode": "overlay",
              "size": 10,
              "solidity": 0.2
             }
            },
            "type": "histogram"
           }
          ],
          "histogram2d": [
           {
            "colorbar": {
             "outlinewidth": 0,
             "ticks": ""
            },
            "colorscale": [
             [
              0,
              "#0d0887"
             ],
             [
              0.1111111111111111,
              "#46039f"
             ],
             [
              0.2222222222222222,
              "#7201a8"
             ],
             [
              0.3333333333333333,
              "#9c179e"
             ],
             [
              0.4444444444444444,
              "#bd3786"
             ],
             [
              0.5555555555555556,
              "#d8576b"
             ],
             [
              0.6666666666666666,
              "#ed7953"
             ],
             [
              0.7777777777777778,
              "#fb9f3a"
             ],
             [
              0.8888888888888888,
              "#fdca26"
             ],
             [
              1,
              "#f0f921"
             ]
            ],
            "type": "histogram2d"
           }
          ],
          "histogram2dcontour": [
           {
            "colorbar": {
             "outlinewidth": 0,
             "ticks": ""
            },
            "colorscale": [
             [
              0,
              "#0d0887"
             ],
             [
              0.1111111111111111,
              "#46039f"
             ],
             [
              0.2222222222222222,
              "#7201a8"
             ],
             [
              0.3333333333333333,
              "#9c179e"
             ],
             [
              0.4444444444444444,
              "#bd3786"
             ],
             [
              0.5555555555555556,
              "#d8576b"
             ],
             [
              0.6666666666666666,
              "#ed7953"
             ],
             [
              0.7777777777777778,
              "#fb9f3a"
             ],
             [
              0.8888888888888888,
              "#fdca26"
             ],
             [
              1,
              "#f0f921"
             ]
            ],
            "type": "histogram2dcontour"
           }
          ],
          "mesh3d": [
           {
            "colorbar": {
             "outlinewidth": 0,
             "ticks": ""
            },
            "type": "mesh3d"
           }
          ],
          "parcoords": [
           {
            "line": {
             "colorbar": {
              "outlinewidth": 0,
              "ticks": ""
             }
            },
            "type": "parcoords"
           }
          ],
          "pie": [
           {
            "automargin": true,
            "type": "pie"
           }
          ],
          "scatter": [
           {
            "fillpattern": {
             "fillmode": "overlay",
             "size": 10,
             "solidity": 0.2
            },
            "type": "scatter"
           }
          ],
          "scatter3d": [
           {
            "line": {
             "colorbar": {
              "outlinewidth": 0,
              "ticks": ""
             }
            },
            "marker": {
             "colorbar": {
              "outlinewidth": 0,
              "ticks": ""
             }
            },
            "type": "scatter3d"
           }
          ],
          "scattercarpet": [
           {
            "marker": {
             "colorbar": {
              "outlinewidth": 0,
              "ticks": ""
             }
            },
            "type": "scattercarpet"
           }
          ],
          "scattergeo": [
           {
            "marker": {
             "colorbar": {
              "outlinewidth": 0,
              "ticks": ""
             }
            },
            "type": "scattergeo"
           }
          ],
          "scattergl": [
           {
            "marker": {
             "colorbar": {
              "outlinewidth": 0,
              "ticks": ""
             }
            },
            "type": "scattergl"
           }
          ],
          "scattermapbox": [
           {
            "marker": {
             "colorbar": {
              "outlinewidth": 0,
              "ticks": ""
             }
            },
            "type": "scattermapbox"
           }
          ],
          "scatterpolar": [
           {
            "marker": {
             "colorbar": {
              "outlinewidth": 0,
              "ticks": ""
             }
            },
            "type": "scatterpolar"
           }
          ],
          "scatterpolargl": [
           {
            "marker": {
             "colorbar": {
              "outlinewidth": 0,
              "ticks": ""
             }
            },
            "type": "scatterpolargl"
           }
          ],
          "scatterternary": [
           {
            "marker": {
             "colorbar": {
              "outlinewidth": 0,
              "ticks": ""
             }
            },
            "type": "scatterternary"
           }
          ],
          "surface": [
           {
            "colorbar": {
             "outlinewidth": 0,
             "ticks": ""
            },
            "colorscale": [
             [
              0,
              "#0d0887"
             ],
             [
              0.1111111111111111,
              "#46039f"
             ],
             [
              0.2222222222222222,
              "#7201a8"
             ],
             [
              0.3333333333333333,
              "#9c179e"
             ],
             [
              0.4444444444444444,
              "#bd3786"
             ],
             [
              0.5555555555555556,
              "#d8576b"
             ],
             [
              0.6666666666666666,
              "#ed7953"
             ],
             [
              0.7777777777777778,
              "#fb9f3a"
             ],
             [
              0.8888888888888888,
              "#fdca26"
             ],
             [
              1,
              "#f0f921"
             ]
            ],
            "type": "surface"
           }
          ],
          "table": [
           {
            "cells": {
             "fill": {
              "color": "#EBF0F8"
             },
             "line": {
              "color": "white"
             }
            },
            "header": {
             "fill": {
              "color": "#C8D4E3"
             },
             "line": {
              "color": "white"
             }
            },
            "type": "table"
           }
          ]
         },
         "layout": {
          "annotationdefaults": {
           "arrowcolor": "#2a3f5f",
           "arrowhead": 0,
           "arrowwidth": 1
          },
          "autotypenumbers": "strict",
          "coloraxis": {
           "colorbar": {
            "outlinewidth": 0,
            "ticks": ""
           }
          },
          "colorscale": {
           "diverging": [
            [
             0,
             "#8e0152"
            ],
            [
             0.1,
             "#c51b7d"
            ],
            [
             0.2,
             "#de77ae"
            ],
            [
             0.3,
             "#f1b6da"
            ],
            [
             0.4,
             "#fde0ef"
            ],
            [
             0.5,
             "#f7f7f7"
            ],
            [
             0.6,
             "#e6f5d0"
            ],
            [
             0.7,
             "#b8e186"
            ],
            [
             0.8,
             "#7fbc41"
            ],
            [
             0.9,
             "#4d9221"
            ],
            [
             1,
             "#276419"
            ]
           ],
           "sequential": [
            [
             0,
             "#0d0887"
            ],
            [
             0.1111111111111111,
             "#46039f"
            ],
            [
             0.2222222222222222,
             "#7201a8"
            ],
            [
             0.3333333333333333,
             "#9c179e"
            ],
            [
             0.4444444444444444,
             "#bd3786"
            ],
            [
             0.5555555555555556,
             "#d8576b"
            ],
            [
             0.6666666666666666,
             "#ed7953"
            ],
            [
             0.7777777777777778,
             "#fb9f3a"
            ],
            [
             0.8888888888888888,
             "#fdca26"
            ],
            [
             1,
             "#f0f921"
            ]
           ],
           "sequentialminus": [
            [
             0,
             "#0d0887"
            ],
            [
             0.1111111111111111,
             "#46039f"
            ],
            [
             0.2222222222222222,
             "#7201a8"
            ],
            [
             0.3333333333333333,
             "#9c179e"
            ],
            [
             0.4444444444444444,
             "#bd3786"
            ],
            [
             0.5555555555555556,
             "#d8576b"
            ],
            [
             0.6666666666666666,
             "#ed7953"
            ],
            [
             0.7777777777777778,
             "#fb9f3a"
            ],
            [
             0.8888888888888888,
             "#fdca26"
            ],
            [
             1,
             "#f0f921"
            ]
           ]
          },
          "colorway": [
           "#636efa",
           "#EF553B",
           "#00cc96",
           "#ab63fa",
           "#FFA15A",
           "#19d3f3",
           "#FF6692",
           "#B6E880",
           "#FF97FF",
           "#FECB52"
          ],
          "font": {
           "color": "#2a3f5f"
          },
          "geo": {
           "bgcolor": "white",
           "lakecolor": "white",
           "landcolor": "#E5ECF6",
           "showlakes": true,
           "showland": true,
           "subunitcolor": "white"
          },
          "hoverlabel": {
           "align": "left"
          },
          "hovermode": "closest",
          "mapbox": {
           "style": "light"
          },
          "paper_bgcolor": "white",
          "plot_bgcolor": "#E5ECF6",
          "polar": {
           "angularaxis": {
            "gridcolor": "white",
            "linecolor": "white",
            "ticks": ""
           },
           "bgcolor": "#E5ECF6",
           "radialaxis": {
            "gridcolor": "white",
            "linecolor": "white",
            "ticks": ""
           }
          },
          "scene": {
           "xaxis": {
            "backgroundcolor": "#E5ECF6",
            "gridcolor": "white",
            "gridwidth": 2,
            "linecolor": "white",
            "showbackground": true,
            "ticks": "",
            "zerolinecolor": "white"
           },
           "yaxis": {
            "backgroundcolor": "#E5ECF6",
            "gridcolor": "white",
            "gridwidth": 2,
            "linecolor": "white",
            "showbackground": true,
            "ticks": "",
            "zerolinecolor": "white"
           },
           "zaxis": {
            "backgroundcolor": "#E5ECF6",
            "gridcolor": "white",
            "gridwidth": 2,
            "linecolor": "white",
            "showbackground": true,
            "ticks": "",
            "zerolinecolor": "white"
           }
          },
          "shapedefaults": {
           "line": {
            "color": "#2a3f5f"
           }
          },
          "ternary": {
           "aaxis": {
            "gridcolor": "white",
            "linecolor": "white",
            "ticks": ""
           },
           "baxis": {
            "gridcolor": "white",
            "linecolor": "white",
            "ticks": ""
           },
           "bgcolor": "#E5ECF6",
           "caxis": {
            "gridcolor": "white",
            "linecolor": "white",
            "ticks": ""
           }
          },
          "title": {
           "x": 0.05
          },
          "xaxis": {
           "automargin": true,
           "gridcolor": "white",
           "linecolor": "white",
           "ticks": "",
           "title": {
            "standoff": 15
           },
           "zerolinecolor": "white",
           "zerolinewidth": 2
          },
          "yaxis": {
           "automargin": true,
           "gridcolor": "white",
           "linecolor": "white",
           "ticks": "",
           "title": {
            "standoff": 15
           },
           "zerolinecolor": "white",
           "zerolinewidth": 2
          }
         }
        },
        "title": {
         "text": "Correlação entre os indicadores",
         "x": 0.5,
         "xanchor": "center",
         "y": 0.95,
         "yanchor": "top"
        },
        "width": 1200,
        "xaxis": {
         "anchor": "y",
         "domain": [
          0,
          1
         ]
        },
        "yaxis": {
         "anchor": "x",
         "autorange": "reversed",
         "domain": [
          0,
          1
         ]
        }
       }
      }
     },
     "metadata": {},
     "output_type": "display_data"
    }
   ],
   "source": [
    "colunas = ['PORTE','Comércio','Indústria','Serviços','AOL','BOL','GMAIL','HOTMAIL','OUTLOOK','YAHOO','RENDA_MES_ANTERIOR','NO_FUNCIONARIOS','TAXA','VALOR_A_PAGAR','PRAZO','FLAG_PF','HISTORICO_ATRASO','ATRASADO']\n",
    "\n",
    "import plotly.express as px\n",
    "# Gerando uma matriz de correlação para visualizar as relações entre os indicadores.\n",
    "\n",
    "corr = base_pagamentos_desenvolvimento_full[colunas].corr()\n",
    "\n",
    "fig = px.imshow(\n",
    "    corr.round(2),\n",
    "    text_auto=True,  \n",
    "    aspect='auto', \n",
    "    \n",
    "    color_continuous_scale='RdBu_r',\n",
    "    width=1200, height=500\n",
    "    )\n",
    "\n",
    "fig.update_layout(margin=dict(l=50, r=50, t=50, b=50),\n",
    "                  title=dict(text='Correlação entre os indicadores', y=0.95, x=0.5, xanchor='center', yanchor='top')\n",
    "                  )\n",
    "fig.show()"
   ]
  },
  {
   "cell_type": "code",
   "execution_count": 38,
   "id": "2b24a845",
   "metadata": {},
   "outputs": [
    {
     "name": "stdout",
     "output_type": "stream",
     "text": [
      "ATRASADO\n",
      "0    71978\n",
      "1     5436\n",
      "Name: count, dtype: int64\n"
     ]
    }
   ],
   "source": [
    "print(base_pagamentos_desenvolvimento_full.ATRASADO.value_counts())"
   ]
  },
  {
   "cell_type": "code",
   "execution_count": 39,
   "id": "245be40a",
   "metadata": {},
   "outputs": [],
   "source": [
    "com_atraso = base_pagamentos_desenvolvimento_full[colunas].loc[base_pagamentos_desenvolvimento_full.ATRASADO == 1]\n",
    "sem_atrado = base_pagamentos_desenvolvimento_full[base_pagamentos_desenvolvimento_full['ATRASADO'] == 0][colunas].sample(n=com_atraso.shape[0], random_state=42)\n",
    "equilibrados = pd.concat([com_atraso, sem_atrado], ignore_index=True)"
   ]
  },
  {
   "cell_type": "code",
   "execution_count": 40,
   "id": "cb7d4921",
   "metadata": {},
   "outputs": [
    {
     "name": "stdout",
     "output_type": "stream",
     "text": [
      "ATRASADO\n",
      "1    5436\n",
      "0    5436\n",
      "Name: count, dtype: int64\n"
     ]
    }
   ],
   "source": [
    "# separando variaveis dependentes das independentes\n",
    "independente = equilibrados.ATRASADO.values\n",
    "dependentes = equilibrados[colunas].drop(columns='ATRASADO').values\n",
    "\n",
    "print(equilibrados.ATRASADO.value_counts())"
   ]
  },
  {
   "cell_type": "code",
   "execution_count": 41,
   "id": "3d5413ce",
   "metadata": {},
   "outputs": [
    {
     "data": {
      "application/vnd.plotly.v1+json": {
       "config": {
        "plotlyServerURL": "https://plot.ly"
       },
       "data": [
        {
         "coloraxis": "coloraxis",
         "hovertemplate": "x: %{x}<br>y: %{y}<br>color: %{z}<extra></extra>",
         "name": "0",
         "texttemplate": "%{z}",
         "type": "heatmap",
         "x": [
          "PORTE",
          "Comércio",
          "Indústria",
          "Serviços",
          "AOL",
          "BOL",
          "GMAIL",
          "HOTMAIL",
          "OUTLOOK",
          "YAHOO",
          "RENDA_MES_ANTERIOR",
          "NO_FUNCIONARIOS",
          "TAXA",
          "VALOR_A_PAGAR",
          "PRAZO",
          "FLAG_PF",
          "HISTORICO_ATRASO",
          "ATRASADO"
         ],
         "xaxis": "x",
         "y": [
          "PORTE",
          "Comércio",
          "Indústria",
          "Serviços",
          "AOL",
          "BOL",
          "GMAIL",
          "HOTMAIL",
          "OUTLOOK",
          "YAHOO",
          "RENDA_MES_ANTERIOR",
          "NO_FUNCIONARIOS",
          "TAXA",
          "VALOR_A_PAGAR",
          "PRAZO",
          "FLAG_PF",
          "HISTORICO_ATRASO",
          "ATRASADO"
         ],
         "yaxis": "y",
         "z": [
          [
           1,
           0.05,
           0.03,
           -0.07,
           0.03,
           0,
           0.02,
           -0.12,
           0.08,
           0.04,
           0,
           0.15,
           -0.02,
           0.02,
           -0.1,
           -0.01,
           -0.04,
           -0.09
          ],
          [
           0.05,
           1,
           -0.36,
           -0.61,
           0.07,
           0,
           -0.08,
           -0.03,
           0.03,
           0.07,
           0.04,
           0.06,
           0.01,
           0.07,
           -0.1,
           -0.05,
           -0.1,
           -0.14
          ],
          [
           0.03,
           -0.36,
           1,
           -0.52,
           -0.06,
           -0.06,
           0.16,
           -0.13,
           0.1,
           -0.03,
           -0.01,
           -0.02,
           0.01,
           0,
           0,
           -0.04,
           0.02,
           0.02
          ],
          [
           -0.07,
           -0.61,
           -0.52,
           1,
           -0.01,
           0.05,
           -0.06,
           0.14,
           -0.11,
           -0.03,
           -0.03,
           -0.04,
           -0.01,
           -0.07,
           0.1,
           0.08,
           0.07,
           0.11
          ],
          [
           0.03,
           0.07,
           -0.06,
           -0.01,
           1,
           -0.03,
           -0.14,
           -0.13,
           -0.05,
           -0.15,
           0.01,
           0.04,
           0,
           0.02,
           -0.03,
           -0.01,
           -0.07,
           -0.06
          ],
          [
           0,
           0,
           -0.06,
           0.05,
           -0.03,
           1,
           -0.1,
           -0.1,
           -0.04,
           -0.11,
           -0.01,
           -0.03,
           -0.01,
           -0.02,
           0.02,
           0.02,
           0,
           0
          ],
          [
           0.02,
           -0.08,
           0.16,
           -0.06,
           -0.14,
           -0.1,
           1,
           -0.39,
           -0.15,
           -0.42,
           -0.01,
           -0.09,
           0.02,
           0.01,
           -0.01,
           -0.01,
           -0.04,
           0.02
          ],
          [
           -0.12,
           -0.03,
           -0.13,
           0.14,
           -0.13,
           -0.1,
           -0.39,
           1,
           -0.15,
           -0.42,
           0.04,
           0.09,
           0.01,
           -0.06,
           0.09,
           0.02,
           0.08,
           0.09
          ],
          [
           0.08,
           0.03,
           0.1,
           -0.11,
           -0.05,
           -0.04,
           -0.15,
           -0.15,
           1,
           -0.17,
           -0.02,
           0.06,
           0,
           0.01,
           0.01,
           -0.01,
           0,
           -0.05
          ],
          [
           0.04,
           0.07,
           -0.03,
           -0.03,
           -0.15,
           -0.11,
           -0.42,
           -0.42,
           -0.17,
           1,
           -0.03,
           -0.04,
           -0.02,
           0.05,
           -0.08,
           0,
           -0.01,
           -0.05
          ],
          [
           0,
           0.04,
           -0.01,
           -0.03,
           0.01,
           -0.01,
           -0.01,
           0.04,
           -0.02,
           -0.03,
           1,
           0.03,
           -0.02,
           0.01,
           -0.03,
           -0.07,
           -0.06,
           -0.12
          ],
          [
           0.15,
           0.06,
           -0.02,
           -0.04,
           0.04,
           -0.03,
           -0.09,
           0.09,
           0.06,
           -0.04,
           0.03,
           1,
           0.03,
           0.03,
           0.06,
           -0.35,
           -0.02,
           -0.04
          ],
          [
           -0.02,
           0.01,
           0.01,
           -0.01,
           0,
           -0.01,
           0.02,
           0.01,
           0,
           -0.02,
           -0.02,
           0.03,
           1,
           -0.02,
           0.02,
           -0.02,
           0.01,
           0.02
          ],
          [
           0.02,
           0.07,
           0,
           -0.07,
           0.02,
           -0.02,
           0.01,
           -0.06,
           0.01,
           0.05,
           0.01,
           0.03,
           -0.02,
           1,
           -0.02,
           -0.02,
           -0.07,
           -0.11
          ],
          [
           -0.1,
           -0.1,
           0,
           0.1,
           -0.03,
           0.02,
           -0.01,
           0.09,
           0.01,
           -0.08,
           -0.03,
           0.06,
           0.02,
           -0.02,
           1,
           0.01,
           0.14,
           0.22
          ],
          [
           -0.01,
           -0.05,
           -0.04,
           0.08,
           -0.01,
           0.02,
           -0.01,
           0.02,
           -0.01,
           0,
           -0.07,
           -0.35,
           -0.02,
           -0.02,
           0.01,
           1,
           -0.02,
           0.02
          ],
          [
           -0.04,
           -0.1,
           0.02,
           0.07,
           -0.07,
           0,
           -0.04,
           0.08,
           0,
           -0.01,
           -0.06,
           -0.02,
           0.01,
           -0.07,
           0.14,
           -0.02,
           1,
           0.47
          ],
          [
           -0.09,
           -0.14,
           0.02,
           0.11,
           -0.06,
           0,
           0.02,
           0.09,
           -0.05,
           -0.05,
           -0.12,
           -0.04,
           0.02,
           -0.11,
           0.22,
           0.02,
           0.47,
           1
          ]
         ]
        }
       ],
       "layout": {
        "coloraxis": {
         "colorscale": [
          [
           0,
           "rgb(5,48,97)"
          ],
          [
           0.1,
           "rgb(33,102,172)"
          ],
          [
           0.2,
           "rgb(67,147,195)"
          ],
          [
           0.3,
           "rgb(146,197,222)"
          ],
          [
           0.4,
           "rgb(209,229,240)"
          ],
          [
           0.5,
           "rgb(247,247,247)"
          ],
          [
           0.6,
           "rgb(253,219,199)"
          ],
          [
           0.7,
           "rgb(244,165,130)"
          ],
          [
           0.8,
           "rgb(214,96,77)"
          ],
          [
           0.9,
           "rgb(178,24,43)"
          ],
          [
           1,
           "rgb(103,0,31)"
          ]
         ]
        },
        "height": 500,
        "margin": {
         "b": 50,
         "l": 50,
         "r": 50,
         "t": 50
        },
        "template": {
         "data": {
          "bar": [
           {
            "error_x": {
             "color": "#2a3f5f"
            },
            "error_y": {
             "color": "#2a3f5f"
            },
            "marker": {
             "line": {
              "color": "#E5ECF6",
              "width": 0.5
             },
             "pattern": {
              "fillmode": "overlay",
              "size": 10,
              "solidity": 0.2
             }
            },
            "type": "bar"
           }
          ],
          "barpolar": [
           {
            "marker": {
             "line": {
              "color": "#E5ECF6",
              "width": 0.5
             },
             "pattern": {
              "fillmode": "overlay",
              "size": 10,
              "solidity": 0.2
             }
            },
            "type": "barpolar"
           }
          ],
          "carpet": [
           {
            "aaxis": {
             "endlinecolor": "#2a3f5f",
             "gridcolor": "white",
             "linecolor": "white",
             "minorgridcolor": "white",
             "startlinecolor": "#2a3f5f"
            },
            "baxis": {
             "endlinecolor": "#2a3f5f",
             "gridcolor": "white",
             "linecolor": "white",
             "minorgridcolor": "white",
             "startlinecolor": "#2a3f5f"
            },
            "type": "carpet"
           }
          ],
          "choropleth": [
           {
            "colorbar": {
             "outlinewidth": 0,
             "ticks": ""
            },
            "type": "choropleth"
           }
          ],
          "contour": [
           {
            "colorbar": {
             "outlinewidth": 0,
             "ticks": ""
            },
            "colorscale": [
             [
              0,
              "#0d0887"
             ],
             [
              0.1111111111111111,
              "#46039f"
             ],
             [
              0.2222222222222222,
              "#7201a8"
             ],
             [
              0.3333333333333333,
              "#9c179e"
             ],
             [
              0.4444444444444444,
              "#bd3786"
             ],
             [
              0.5555555555555556,
              "#d8576b"
             ],
             [
              0.6666666666666666,
              "#ed7953"
             ],
             [
              0.7777777777777778,
              "#fb9f3a"
             ],
             [
              0.8888888888888888,
              "#fdca26"
             ],
             [
              1,
              "#f0f921"
             ]
            ],
            "type": "contour"
           }
          ],
          "contourcarpet": [
           {
            "colorbar": {
             "outlinewidth": 0,
             "ticks": ""
            },
            "type": "contourcarpet"
           }
          ],
          "heatmap": [
           {
            "colorbar": {
             "outlinewidth": 0,
             "ticks": ""
            },
            "colorscale": [
             [
              0,
              "#0d0887"
             ],
             [
              0.1111111111111111,
              "#46039f"
             ],
             [
              0.2222222222222222,
              "#7201a8"
             ],
             [
              0.3333333333333333,
              "#9c179e"
             ],
             [
              0.4444444444444444,
              "#bd3786"
             ],
             [
              0.5555555555555556,
              "#d8576b"
             ],
             [
              0.6666666666666666,
              "#ed7953"
             ],
             [
              0.7777777777777778,
              "#fb9f3a"
             ],
             [
              0.8888888888888888,
              "#fdca26"
             ],
             [
              1,
              "#f0f921"
             ]
            ],
            "type": "heatmap"
           }
          ],
          "heatmapgl": [
           {
            "colorbar": {
             "outlinewidth": 0,
             "ticks": ""
            },
            "colorscale": [
             [
              0,
              "#0d0887"
             ],
             [
              0.1111111111111111,
              "#46039f"
             ],
             [
              0.2222222222222222,
              "#7201a8"
             ],
             [
              0.3333333333333333,
              "#9c179e"
             ],
             [
              0.4444444444444444,
              "#bd3786"
             ],
             [
              0.5555555555555556,
              "#d8576b"
             ],
             [
              0.6666666666666666,
              "#ed7953"
             ],
             [
              0.7777777777777778,
              "#fb9f3a"
             ],
             [
              0.8888888888888888,
              "#fdca26"
             ],
             [
              1,
              "#f0f921"
             ]
            ],
            "type": "heatmapgl"
           }
          ],
          "histogram": [
           {
            "marker": {
             "pattern": {
              "fillmode": "overlay",
              "size": 10,
              "solidity": 0.2
             }
            },
            "type": "histogram"
           }
          ],
          "histogram2d": [
           {
            "colorbar": {
             "outlinewidth": 0,
             "ticks": ""
            },
            "colorscale": [
             [
              0,
              "#0d0887"
             ],
             [
              0.1111111111111111,
              "#46039f"
             ],
             [
              0.2222222222222222,
              "#7201a8"
             ],
             [
              0.3333333333333333,
              "#9c179e"
             ],
             [
              0.4444444444444444,
              "#bd3786"
             ],
             [
              0.5555555555555556,
              "#d8576b"
             ],
             [
              0.6666666666666666,
              "#ed7953"
             ],
             [
              0.7777777777777778,
              "#fb9f3a"
             ],
             [
              0.8888888888888888,
              "#fdca26"
             ],
             [
              1,
              "#f0f921"
             ]
            ],
            "type": "histogram2d"
           }
          ],
          "histogram2dcontour": [
           {
            "colorbar": {
             "outlinewidth": 0,
             "ticks": ""
            },
            "colorscale": [
             [
              0,
              "#0d0887"
             ],
             [
              0.1111111111111111,
              "#46039f"
             ],
             [
              0.2222222222222222,
              "#7201a8"
             ],
             [
              0.3333333333333333,
              "#9c179e"
             ],
             [
              0.4444444444444444,
              "#bd3786"
             ],
             [
              0.5555555555555556,
              "#d8576b"
             ],
             [
              0.6666666666666666,
              "#ed7953"
             ],
             [
              0.7777777777777778,
              "#fb9f3a"
             ],
             [
              0.8888888888888888,
              "#fdca26"
             ],
             [
              1,
              "#f0f921"
             ]
            ],
            "type": "histogram2dcontour"
           }
          ],
          "mesh3d": [
           {
            "colorbar": {
             "outlinewidth": 0,
             "ticks": ""
            },
            "type": "mesh3d"
           }
          ],
          "parcoords": [
           {
            "line": {
             "colorbar": {
              "outlinewidth": 0,
              "ticks": ""
             }
            },
            "type": "parcoords"
           }
          ],
          "pie": [
           {
            "automargin": true,
            "type": "pie"
           }
          ],
          "scatter": [
           {
            "fillpattern": {
             "fillmode": "overlay",
             "size": 10,
             "solidity": 0.2
            },
            "type": "scatter"
           }
          ],
          "scatter3d": [
           {
            "line": {
             "colorbar": {
              "outlinewidth": 0,
              "ticks": ""
             }
            },
            "marker": {
             "colorbar": {
              "outlinewidth": 0,
              "ticks": ""
             }
            },
            "type": "scatter3d"
           }
          ],
          "scattercarpet": [
           {
            "marker": {
             "colorbar": {
              "outlinewidth": 0,
              "ticks": ""
             }
            },
            "type": "scattercarpet"
           }
          ],
          "scattergeo": [
           {
            "marker": {
             "colorbar": {
              "outlinewidth": 0,
              "ticks": ""
             }
            },
            "type": "scattergeo"
           }
          ],
          "scattergl": [
           {
            "marker": {
             "colorbar": {
              "outlinewidth": 0,
              "ticks": ""
             }
            },
            "type": "scattergl"
           }
          ],
          "scattermapbox": [
           {
            "marker": {
             "colorbar": {
              "outlinewidth": 0,
              "ticks": ""
             }
            },
            "type": "scattermapbox"
           }
          ],
          "scatterpolar": [
           {
            "marker": {
             "colorbar": {
              "outlinewidth": 0,
              "ticks": ""
             }
            },
            "type": "scatterpolar"
           }
          ],
          "scatterpolargl": [
           {
            "marker": {
             "colorbar": {
              "outlinewidth": 0,
              "ticks": ""
             }
            },
            "type": "scatterpolargl"
           }
          ],
          "scatterternary": [
           {
            "marker": {
             "colorbar": {
              "outlinewidth": 0,
              "ticks": ""
             }
            },
            "type": "scatterternary"
           }
          ],
          "surface": [
           {
            "colorbar": {
             "outlinewidth": 0,
             "ticks": ""
            },
            "colorscale": [
             [
              0,
              "#0d0887"
             ],
             [
              0.1111111111111111,
              "#46039f"
             ],
             [
              0.2222222222222222,
              "#7201a8"
             ],
             [
              0.3333333333333333,
              "#9c179e"
             ],
             [
              0.4444444444444444,
              "#bd3786"
             ],
             [
              0.5555555555555556,
              "#d8576b"
             ],
             [
              0.6666666666666666,
              "#ed7953"
             ],
             [
              0.7777777777777778,
              "#fb9f3a"
             ],
             [
              0.8888888888888888,
              "#fdca26"
             ],
             [
              1,
              "#f0f921"
             ]
            ],
            "type": "surface"
           }
          ],
          "table": [
           {
            "cells": {
             "fill": {
              "color": "#EBF0F8"
             },
             "line": {
              "color": "white"
             }
            },
            "header": {
             "fill": {
              "color": "#C8D4E3"
             },
             "line": {
              "color": "white"
             }
            },
            "type": "table"
           }
          ]
         },
         "layout": {
          "annotationdefaults": {
           "arrowcolor": "#2a3f5f",
           "arrowhead": 0,
           "arrowwidth": 1
          },
          "autotypenumbers": "strict",
          "coloraxis": {
           "colorbar": {
            "outlinewidth": 0,
            "ticks": ""
           }
          },
          "colorscale": {
           "diverging": [
            [
             0,
             "#8e0152"
            ],
            [
             0.1,
             "#c51b7d"
            ],
            [
             0.2,
             "#de77ae"
            ],
            [
             0.3,
             "#f1b6da"
            ],
            [
             0.4,
             "#fde0ef"
            ],
            [
             0.5,
             "#f7f7f7"
            ],
            [
             0.6,
             "#e6f5d0"
            ],
            [
             0.7,
             "#b8e186"
            ],
            [
             0.8,
             "#7fbc41"
            ],
            [
             0.9,
             "#4d9221"
            ],
            [
             1,
             "#276419"
            ]
           ],
           "sequential": [
            [
             0,
             "#0d0887"
            ],
            [
             0.1111111111111111,
             "#46039f"
            ],
            [
             0.2222222222222222,
             "#7201a8"
            ],
            [
             0.3333333333333333,
             "#9c179e"
            ],
            [
             0.4444444444444444,
             "#bd3786"
            ],
            [
             0.5555555555555556,
             "#d8576b"
            ],
            [
             0.6666666666666666,
             "#ed7953"
            ],
            [
             0.7777777777777778,
             "#fb9f3a"
            ],
            [
             0.8888888888888888,
             "#fdca26"
            ],
            [
             1,
             "#f0f921"
            ]
           ],
           "sequentialminus": [
            [
             0,
             "#0d0887"
            ],
            [
             0.1111111111111111,
             "#46039f"
            ],
            [
             0.2222222222222222,
             "#7201a8"
            ],
            [
             0.3333333333333333,
             "#9c179e"
            ],
            [
             0.4444444444444444,
             "#bd3786"
            ],
            [
             0.5555555555555556,
             "#d8576b"
            ],
            [
             0.6666666666666666,
             "#ed7953"
            ],
            [
             0.7777777777777778,
             "#fb9f3a"
            ],
            [
             0.8888888888888888,
             "#fdca26"
            ],
            [
             1,
             "#f0f921"
            ]
           ]
          },
          "colorway": [
           "#636efa",
           "#EF553B",
           "#00cc96",
           "#ab63fa",
           "#FFA15A",
           "#19d3f3",
           "#FF6692",
           "#B6E880",
           "#FF97FF",
           "#FECB52"
          ],
          "font": {
           "color": "#2a3f5f"
          },
          "geo": {
           "bgcolor": "white",
           "lakecolor": "white",
           "landcolor": "#E5ECF6",
           "showlakes": true,
           "showland": true,
           "subunitcolor": "white"
          },
          "hoverlabel": {
           "align": "left"
          },
          "hovermode": "closest",
          "mapbox": {
           "style": "light"
          },
          "paper_bgcolor": "white",
          "plot_bgcolor": "#E5ECF6",
          "polar": {
           "angularaxis": {
            "gridcolor": "white",
            "linecolor": "white",
            "ticks": ""
           },
           "bgcolor": "#E5ECF6",
           "radialaxis": {
            "gridcolor": "white",
            "linecolor": "white",
            "ticks": ""
           }
          },
          "scene": {
           "xaxis": {
            "backgroundcolor": "#E5ECF6",
            "gridcolor": "white",
            "gridwidth": 2,
            "linecolor": "white",
            "showbackground": true,
            "ticks": "",
            "zerolinecolor": "white"
           },
           "yaxis": {
            "backgroundcolor": "#E5ECF6",
            "gridcolor": "white",
            "gridwidth": 2,
            "linecolor": "white",
            "showbackground": true,
            "ticks": "",
            "zerolinecolor": "white"
           },
           "zaxis": {
            "backgroundcolor": "#E5ECF6",
            "gridcolor": "white",
            "gridwidth": 2,
            "linecolor": "white",
            "showbackground": true,
            "ticks": "",
            "zerolinecolor": "white"
           }
          },
          "shapedefaults": {
           "line": {
            "color": "#2a3f5f"
           }
          },
          "ternary": {
           "aaxis": {
            "gridcolor": "white",
            "linecolor": "white",
            "ticks": ""
           },
           "baxis": {
            "gridcolor": "white",
            "linecolor": "white",
            "ticks": ""
           },
           "bgcolor": "#E5ECF6",
           "caxis": {
            "gridcolor": "white",
            "linecolor": "white",
            "ticks": ""
           }
          },
          "title": {
           "x": 0.05
          },
          "xaxis": {
           "automargin": true,
           "gridcolor": "white",
           "linecolor": "white",
           "ticks": "",
           "title": {
            "standoff": 15
           },
           "zerolinecolor": "white",
           "zerolinewidth": 2
          },
          "yaxis": {
           "automargin": true,
           "gridcolor": "white",
           "linecolor": "white",
           "ticks": "",
           "title": {
            "standoff": 15
           },
           "zerolinecolor": "white",
           "zerolinewidth": 2
          }
         }
        },
        "title": {
         "text": "Correlação entre os indicadores",
         "x": 0.5,
         "xanchor": "center",
         "y": 0.95,
         "yanchor": "top"
        },
        "width": 1200,
        "xaxis": {
         "anchor": "y",
         "domain": [
          0,
          1
         ]
        },
        "yaxis": {
         "anchor": "x",
         "autorange": "reversed",
         "domain": [
          0,
          1
         ]
        }
       }
      }
     },
     "metadata": {},
     "output_type": "display_data"
    }
   ],
   "source": [
    "\n",
    "# Gerando uma matriz de correlação para visualizar as relações entre os indicadores.\n",
    "corr = equilibrados[colunas].corr()\n",
    "\n",
    "fig = px.imshow(\n",
    "    corr.round(2),\n",
    "    text_auto=True,  \n",
    "    aspect='auto', \n",
    "    \n",
    "    color_continuous_scale='RdBu_r', \n",
    "    width=1200, height=500\n",
    "    )\n",
    "\n",
    "fig.update_layout(margin=dict(l=50, r=50, t=50, b=50),\n",
    "                  title=dict(text='Correlação entre os indicadores', y=0.95, x=0.5, xanchor='center', yanchor='top')\n",
    "                  )\n",
    "fig.show()"
   ]
  },
  {
   "cell_type": "markdown",
   "id": "eb20dead",
   "metadata": {},
   "source": [
    "##### Dividindo os dados entre treino e teste, e aplicando padronização"
   ]
  },
  {
   "cell_type": "code",
   "execution_count": 42,
   "id": "e93c4866",
   "metadata": {},
   "outputs": [],
   "source": [
    "from sklearn.preprocessing import StandardScaler\n",
    "from sklearn.model_selection import train_test_split\n",
    "\n",
    "x_train, x_test, y_train, y_test = train_test_split(dependentes,independente, test_size=0.4, random_state=42)\n",
    "\n",
    "scaler = StandardScaler()\n",
    "x_train = scaler.fit_transform(x_train)\n",
    "x_test = scaler.transform(x_test)"
   ]
  },
  {
   "cell_type": "markdown",
   "id": "f1e11e8c",
   "metadata": {},
   "source": [
    "##### Testando com modelo de Regressão Logística simples"
   ]
  },
  {
   "cell_type": "code",
   "execution_count": 43,
   "id": "8edd0997",
   "metadata": {},
   "outputs": [
    {
     "name": "stdout",
     "output_type": "stream",
     "text": [
      "              precision    recall  f1-score   support\n",
      "\n",
      "           0       0.81      0.62      0.70      2134\n",
      "           1       0.70      0.86      0.77      2215\n",
      "\n",
      "    accuracy                           0.74      4349\n",
      "   macro avg       0.76      0.74      0.74      4349\n",
      "weighted avg       0.76      0.74      0.74      4349\n",
      "\n",
      "Matriz de Confusão:\n",
      "[[1325  809]\n",
      " [ 309 1906]]\n",
      "AUC-ROC: 0.8242339971354888\n"
     ]
    },
    {
     "data": {
      "image/png": "[encoded data removed]",
      "text/plain": [
       "<Figure size 640x480 with 1 Axes>"
      ]
     },
     "metadata": {},
     "output_type": "display_data"
    }
   ],
   "source": [
    "\n",
    "from sklearn.linear_model import LogisticRegression\n",
    "from sklearn.metrics import classification_report, confusion_matrix\n",
    "from sklearn.metrics import roc_auc_score, roc_curve\n",
    "\n",
    "# Treinando a regressão logística\n",
    "lr_model = LogisticRegression(class_weight='balanced', random_state=42)\n",
    "\n",
    "lr_model.fit(x_train, y_train)\n",
    "\n",
    "# Fazendo previsões\n",
    "probs = lr_model.predict_proba(x_test)[:, 1]  # Probabilidades da classe 1\n",
    "\n",
    "\n",
    "\n",
    "y_pred = (probs >= 0.5).astype(int)\n",
    "print(classification_report(y_test, y_pred))\n",
    "print(\"Matriz de Confusão:\")\n",
    "print(confusion_matrix(y_test, y_pred))\n",
    "auc = roc_auc_score(y_test, probs)\n",
    "print(\"AUC-ROC:\", auc)\n",
    "\n",
    "fpr, tpr, _ = roc_curve(y_test, probs)\n",
    "plt.plot(fpr, tpr, label=f\"AUC = {auc:.3f}\")\n",
    "plt.xlabel(\"Falso positivo\")\n",
    "plt.ylabel(\"Verdadeiro positivo\")\n",
    "plt.title(\"Curva ROC\")\n",
    "plt.legend()\n",
    "plt.show()\n",
    "# Com os dados desbalanceados foram 0.02 de acerto no nosso target\n",
    "# Matriz de Confusão:\n",
    "# [[28790    37]\n",
    "#  [ 2102    37]]\n",
    "\n",
    "# Com class_weight='balanced' foram 0.24 de acerto no nosso target\n",
    "# Matriz de Confusão:\n",
    "# [[17625 11202]\n",
    "#  [  302  1837]]"
   ]
  },
  {
   "cell_type": "markdown",
   "id": "105e3d08",
   "metadata": {},
   "source": [
    "##### Testando com modelo de Floresta aleatória simples"
   ]
  },
  {
   "cell_type": "code",
   "execution_count": 44,
   "id": "415f5aaf",
   "metadata": {},
   "outputs": [
    {
     "name": "stdout",
     "output_type": "stream",
     "text": [
      "              precision    recall  f1-score   support\n",
      "\n",
      "           0       0.87      0.85      0.86      2134\n",
      "           1       0.86      0.87      0.87      2215\n",
      "\n",
      "    accuracy                           0.86      4349\n",
      "   macro avg       0.86      0.86      0.86      4349\n",
      "weighted avg       0.86      0.86      0.86      4349\n",
      "\n",
      "Matriz de Confusão:\n",
      "[[1824  310]\n",
      " [ 278 1937]]\n",
      "AUC-ROC: 0.9336694303346231\n"
     ]
    },
    {
     "data": {
      "image/png": "[encoded data removed]",
      "text/plain": [
       "<Figure size 640x480 with 1 Axes>"
      ]
     },
     "metadata": {},
     "output_type": "display_data"
    }
   ],
   "source": [
    "from sklearn.ensemble import RandomForestClassifier\n",
    "\n",
    "# Cria o modelo com parâmetros padrão\n",
    "modelo_rf = RandomForestClassifier()\n",
    "\n",
    "\n",
    "modelo_rf.fit(x_train, y_train)\n",
    "\n",
    "probs = modelo_rf.predict_proba(x_test)[:, 1]  # Probabilidades da classe 1\n",
    "\n",
    "y_pred = (probs >= 0.5).astype(int)\n",
    "print(classification_report(y_test, y_pred))\n",
    "print(\"Matriz de Confusão:\")\n",
    "print(confusion_matrix(y_test, y_pred))\n",
    "auc = roc_auc_score(y_test, probs)\n",
    "print(\"AUC-ROC:\", auc)\n",
    "\n",
    "fpr, tpr, _ = roc_curve(y_test, probs)\n",
    "plt.plot(fpr, tpr, label=f\"AUC = {auc:.3f}\")\n",
    "plt.xlabel(\"Falso positivo\")\n",
    "plt.ylabel(\"Verdadeiro positivo\")\n",
    "plt.title(\"Curva ROC\")\n",
    "plt.legend()\n",
    "plt.show()\n",
    "# Com class_weight='balanced' foram 0.60 de acerto no nosso target\n",
    "# Matriz de Confusão:\n",
    "# [[28467   360]\n",
    "#  [ 1057  1082]]"
   ]
  },
  {
   "cell_type": "code",
   "execution_count": 45,
   "id": "656034fe",
   "metadata": {},
   "outputs": [
    {
     "data": {
      "text/plain": [
       "{'bootstrap': True,\n",
       " 'ccp_alpha': 0.0,\n",
       " 'class_weight': None,\n",
       " 'criterion': 'gini',\n",
       " 'max_depth': None,\n",
       " 'max_features': 'sqrt',\n",
       " 'max_leaf_nodes': None,\n",
       " 'max_samples': None,\n",
       " 'min_impurity_decrease': 0.0,\n",
       " 'min_samples_leaf': 1,\n",
       " 'min_samples_split': 2,\n",
       " 'min_weight_fraction_leaf': 0.0,\n",
       " 'monotonic_cst': None,\n",
       " 'n_estimators': 100,\n",
       " 'n_jobs': None,\n",
       " 'oob_score': False,\n",
       " 'random_state': None,\n",
       " 'verbose': 0,\n",
       " 'warm_start': False}"
      ]
     },
     "execution_count": 45,
     "metadata": {},
     "output_type": "execute_result"
    }
   ],
   "source": [
    "modelo_rf.get_params()\n",
    "# {'bootstrap': True,\n",
    "#  'ccp_alpha': 0.0,\n",
    "#  'class_weight': None,\n",
    "#  'criterion': 'gini',\n",
    "#  'max_depth': None,\n",
    "#  'max_features': 'sqrt',\n",
    "#  'max_leaf_nodes': None,\n",
    "#  'max_samples': None,\n",
    "#  'min_impurity_decrease': 0.0,\n",
    "#  'min_samples_leaf': 1,\n",
    "#  'min_samples_split': 2,\n",
    "#  'min_weight_fraction_leaf': 0.0,\n",
    "#  'monotonic_cst': None,\n",
    "#  'n_estimators': 100,\n",
    "#  'n_jobs': None,\n",
    "#  'oob_score': False,\n",
    "#  'random_state': None,\n",
    "#  'verbose': 0,\n",
    "#  'warm_start': False}"
   ]
  },
  {
   "cell_type": "markdown",
   "id": "233ea586",
   "metadata": {},
   "source": [
    "##### Testando com modelo de Rede Neural"
   ]
  },
  {
   "cell_type": "code",
   "execution_count": 46,
   "id": "5a0dd80c",
   "metadata": {},
   "outputs": [
    {
     "data": {
      "text/html": [
       "<pre style=\"white-space:pre;overflow-x:auto;line-height:normal;font-family:Menlo,'DejaVu Sans Mono',consolas,'Courier New',monospace\"><span style=\"font-weight: bold\">Model: \"sequential\"</span>\n",
       "</pre>\n"
      ],
      "text/plain": [
       "\u001b[1mModel: \"sequential\"\u001b[0m\n"
      ]
     },
     "metadata": {},
     "output_type": "display_data"
    },
    {
     "data": {
      "text/html": [
       "<pre style=\"white-space:pre;overflow-x:auto;line-height:normal;font-family:Menlo,'DejaVu Sans Mono',consolas,'Courier New',monospace\">┏━━━━━━━━━━━━━━━━━━━━━━━━━━━━━━━━━┳━━━━━━━━━━━━━━━━━━━━━━━━┳━━━━━━━━━━━━━━━┓\n",
       "┃<span style=\"font-weight: bold\"> Layer (type)                    </span>┃<span style=\"font-weight: bold\"> Output Shape           </span>┃<span style=\"font-weight: bold\">       Param # </span>┃\n",
       "┡━━━━━━━━━━━━━━━━━━━━━━━━━━━━━━━━━╇━━━━━━━━━━━━━━━━━━━━━━━━╇━━━━━━━━━━━━━━━┩\n",
       "│ dense (<span style=\"color: #0087ff; text-decoration-color: #0087ff\">Dense</span>)                   │ (<span style=\"color: #00d7ff; text-decoration-color: #00d7ff\">None</span>, <span style=\"color: #00af00; text-decoration-color: #00af00\">64</span>)             │         <span style=\"color: #00af00; text-decoration-color: #00af00\">1,152</span> │\n",
       "├─────────────────────────────────┼────────────────────────┼───────────────┤\n",
       "│ dense_1 (<span style=\"color: #0087ff; text-decoration-color: #0087ff\">Dense</span>)                 │ (<span style=\"color: #00d7ff; text-decoration-color: #00d7ff\">None</span>, <span style=\"color: #00af00; text-decoration-color: #00af00\">128</span>)            │         <span style=\"color: #00af00; text-decoration-color: #00af00\">8,320</span> │\n",
       "├─────────────────────────────────┼────────────────────────┼───────────────┤\n",
       "│ dropout (<span style=\"color: #0087ff; text-decoration-color: #0087ff\">Dropout</span>)               │ (<span style=\"color: #00d7ff; text-decoration-color: #00d7ff\">None</span>, <span style=\"color: #00af00; text-decoration-color: #00af00\">128</span>)            │             <span style=\"color: #00af00; text-decoration-color: #00af00\">0</span> │\n",
       "├─────────────────────────────────┼────────────────────────┼───────────────┤\n",
       "│ dense_2 (<span style=\"color: #0087ff; text-decoration-color: #0087ff\">Dense</span>)                 │ (<span style=\"color: #00d7ff; text-decoration-color: #00d7ff\">None</span>, <span style=\"color: #00af00; text-decoration-color: #00af00\">64</span>)             │         <span style=\"color: #00af00; text-decoration-color: #00af00\">8,256</span> │\n",
       "├─────────────────────────────────┼────────────────────────┼───────────────┤\n",
       "│ dropout_1 (<span style=\"color: #0087ff; text-decoration-color: #0087ff\">Dropout</span>)             │ (<span style=\"color: #00d7ff; text-decoration-color: #00d7ff\">None</span>, <span style=\"color: #00af00; text-decoration-color: #00af00\">64</span>)             │             <span style=\"color: #00af00; text-decoration-color: #00af00\">0</span> │\n",
       "├─────────────────────────────────┼────────────────────────┼───────────────┤\n",
       "│ dense_3 (<span style=\"color: #0087ff; text-decoration-color: #0087ff\">Dense</span>)                 │ (<span style=\"color: #00d7ff; text-decoration-color: #00d7ff\">None</span>, <span style=\"color: #00af00; text-decoration-color: #00af00\">32</span>)             │         <span style=\"color: #00af00; text-decoration-color: #00af00\">2,080</span> │\n",
       "├─────────────────────────────────┼────────────────────────┼───────────────┤\n",
       "│ dropout_2 (<span style=\"color: #0087ff; text-decoration-color: #0087ff\">Dropout</span>)             │ (<span style=\"color: #00d7ff; text-decoration-color: #00d7ff\">None</span>, <span style=\"color: #00af00; text-decoration-color: #00af00\">32</span>)             │             <span style=\"color: #00af00; text-decoration-color: #00af00\">0</span> │\n",
       "├─────────────────────────────────┼────────────────────────┼───────────────┤\n",
       "│ dense_4 (<span style=\"color: #0087ff; text-decoration-color: #0087ff\">Dense</span>)                 │ (<span style=\"color: #00d7ff; text-decoration-color: #00d7ff\">None</span>, <span style=\"color: #00af00; text-decoration-color: #00af00\">1</span>)              │            <span style=\"color: #00af00; text-decoration-color: #00af00\">33</span> │\n",
       "└─────────────────────────────────┴────────────────────────┴───────────────┘\n",
       "</pre>\n"
      ],
      "text/plain": [
       "┏━━━━━━━━━━━━━━━━━━━━━━━━━━━━━━━━━┳━━━━━━━━━━━━━━━━━━━━━━━━┳━━━━━━━━━━━━━━━┓\n",
       "┃\u001b[1m \u001b[0m\u001b[1mLayer (type)                   \u001b[0m\u001b[1m \u001b[0m┃\u001b[1m \u001b[0m\u001b[1mOutput Shape          \u001b[0m\u001b[1m \u001b[0m┃\u001b[1m \u001b[0m\u001b[1m      Param #\u001b[0m\u001b[1m \u001b[0m┃\n",
       "┡━━━━━━━━━━━━━━━━━━━━━━━━━━━━━━━━━╇━━━━━━━━━━━━━━━━━━━━━━━━╇━━━━━━━━━━━━━━━┩\n",
       "│ dense (\u001b[38;5;33mDense\u001b[0m)                   │ (\u001b[38;5;45mNone\u001b[0m, \u001b[38;5;34m64\u001b[0m)             │         \u001b[38;5;34m1,152\u001b[0m │\n",
       "├─────────────────────────────────┼────────────────────────┼───────────────┤\n",
       "│ dense_1 (\u001b[38;5;33mDense\u001b[0m)                 │ (\u001b[38;5;45mNone\u001b[0m, \u001b[38;5;34m128\u001b[0m)            │         \u001b[38;5;34m8,320\u001b[0m │\n",
       "├─────────────────────────────────┼────────────────────────┼───────────────┤\n",
       "│ dropout (\u001b[38;5;33mDropout\u001b[0m)               │ (\u001b[38;5;45mNone\u001b[0m, \u001b[38;5;34m128\u001b[0m)            │             \u001b[38;5;34m0\u001b[0m │\n",
       "├─────────────────────────────────┼────────────────────────┼───────────────┤\n",
       "│ dense_2 (\u001b[38;5;33mDense\u001b[0m)                 │ (\u001b[38;5;45mNone\u001b[0m, \u001b[38;5;34m64\u001b[0m)             │         \u001b[38;5;34m8,256\u001b[0m │\n",
       "├─────────────────────────────────┼────────────────────────┼───────────────┤\n",
       "│ dropout_1 (\u001b[38;5;33mDropout\u001b[0m)             │ (\u001b[38;5;45mNone\u001b[0m, \u001b[38;5;34m64\u001b[0m)             │             \u001b[38;5;34m0\u001b[0m │\n",
       "├─────────────────────────────────┼────────────────────────┼───────────────┤\n",
       "│ dense_3 (\u001b[38;5;33mDense\u001b[0m)                 │ (\u001b[38;5;45mNone\u001b[0m, \u001b[38;5;34m32\u001b[0m)             │         \u001b[38;5;34m2,080\u001b[0m │\n",
       "├─────────────────────────────────┼────────────────────────┼───────────────┤\n",
       "│ dropout_2 (\u001b[38;5;33mDropout\u001b[0m)             │ (\u001b[38;5;45mNone\u001b[0m, \u001b[38;5;34m32\u001b[0m)             │             \u001b[38;5;34m0\u001b[0m │\n",
       "├─────────────────────────────────┼────────────────────────┼───────────────┤\n",
       "│ dense_4 (\u001b[38;5;33mDense\u001b[0m)                 │ (\u001b[38;5;45mNone\u001b[0m, \u001b[38;5;34m1\u001b[0m)              │            \u001b[38;5;34m33\u001b[0m │\n",
       "└─────────────────────────────────┴────────────────────────┴───────────────┘\n"
      ]
     },
     "metadata": {},
     "output_type": "display_data"
    },
    {
     "data": {
      "text/html": [
       "<pre style=\"white-space:pre;overflow-x:auto;line-height:normal;font-family:Menlo,'DejaVu Sans Mono',consolas,'Courier New',monospace\"><span style=\"font-weight: bold\"> Total params: </span><span style=\"color: #00af00; text-decoration-color: #00af00\">19,841</span> (77.50 KB)\n",
       "</pre>\n"
      ],
      "text/plain": [
       "\u001b[1m Total params: \u001b[0m\u001b[38;5;34m19,841\u001b[0m (77.50 KB)\n"
      ]
     },
     "metadata": {},
     "output_type": "display_data"
    },
    {
     "data": {
      "text/html": [
       "<pre style=\"white-space:pre;overflow-x:auto;line-height:normal;font-family:Menlo,'DejaVu Sans Mono',consolas,'Courier New',monospace\"><span style=\"font-weight: bold\"> Trainable params: </span><span style=\"color: #00af00; text-decoration-color: #00af00\">19,841</span> (77.50 KB)\n",
       "</pre>\n"
      ],
      "text/plain": [
       "\u001b[1m Trainable params: \u001b[0m\u001b[38;5;34m19,841\u001b[0m (77.50 KB)\n"
      ]
     },
     "metadata": {},
     "output_type": "display_data"
    },
    {
     "data": {
      "text/html": [
       "<pre style=\"white-space:pre;overflow-x:auto;line-height:normal;font-family:Menlo,'DejaVu Sans Mono',consolas,'Courier New',monospace\"><span style=\"font-weight: bold\"> Non-trainable params: </span><span style=\"color: #00af00; text-decoration-color: #00af00\">0</span> (0.00 B)\n",
       "</pre>\n"
      ],
      "text/plain": [
       "\u001b[1m Non-trainable params: \u001b[0m\u001b[38;5;34m0\u001b[0m (0.00 B)\n"
      ]
     },
     "metadata": {},
     "output_type": "display_data"
    }
   ],
   "source": [
    "\n",
    "from tensorflow.keras.models import Sequential\n",
    "from tensorflow.keras.layers import Input,Dense, Dropout\n",
    "\n",
    "\n",
    "\n",
    "# Criando a rede neural\n",
    "\n",
    "# Camada de entrada\n",
    "rn_model = Sequential()\n",
    "# camada de entrada com o tamanhado da quantidade de variaveis em x_train\n",
    "rn_model.add(Input(shape=(x_train.shape[1],)))  \n",
    "# uma cada densa\n",
    "rn_model.add(Dense(64))\n",
    "\n",
    "# Camadas ocultas com Dropout\n",
    "rn_model.add(Dense(128, activation='relu'))\n",
    "rn_model.add(Dropout(0.3))  # Dropout com taxa de 30%\n",
    "rn_model.add(Dense(64, activation='relu'))\n",
    "rn_model.add(Dropout(0.3))  # Dropout com taxa de 30%\n",
    "rn_model.add(Dense(32, activation='relu'))\n",
    "rn_model.add(Dropout(0.3))  # Dropout com taxa de 30%\n",
    "\n",
    "# Camada de saída \n",
    "rn_model.add(Dense(1, activation='sigmoid'))  # Sigmoid para problemas binários\n",
    "\n",
    "rn_model.compile(optimizer='adam', loss='binary_crossentropy', metrics=['accuracy'])\n",
    "\n",
    "rn_model.summary()"
   ]
  },
  {
   "cell_type": "code",
   "execution_count": 47,
   "id": "f21e76a9",
   "metadata": {},
   "outputs": [
    {
     "name": "stdout",
     "output_type": "stream",
     "text": [
      "\u001b[1m136/136\u001b[0m \u001b[32m━━━━━━━━━━━━━━━━━━━━\u001b[0m\u001b[37m\u001b[0m \u001b[1m0s\u001b[0m 2ms/step\n",
      "              precision    recall  f1-score   support\n",
      "\n",
      "           0       0.85      0.79      0.82      2134\n",
      "           1       0.81      0.86      0.83      2215\n",
      "\n",
      "    accuracy                           0.83      4349\n",
      "   macro avg       0.83      0.82      0.83      4349\n",
      "weighted avg       0.83      0.83      0.83      4349\n",
      "\n",
      "Matriz de Confusão:\n",
      "[[1677  457]\n",
      " [ 301 1914]]\n",
      "AUC-ROC: 0.9020116103672455\n"
     ]
    },
    {
     "data": {
      "image/png": "[encoded data removed]",
      "text/plain": [
       "<Figure size 640x480 with 1 Axes>"
      ]
     },
     "metadata": {},
     "output_type": "display_data"
    }
   ],
   "source": [
    "\n",
    "# coloquei verbose 0 para não printar os treinamentos\n",
    "rn_model.fit(x_train, y_train, epochs=50, batch_size=64, validation_data=(x_test, y_test),verbose=0)\n",
    "\n",
    "# Fazendo previsões em numeros flutuantes\n",
    "probs = rn_model.predict(x_test).flatten() # desse modo que usarei na base_pagamentos_teste\n",
    "\n",
    "# convertendo em binário \n",
    "y_pred = (probs >= 0.5).astype(int)\n",
    "\n",
    "# Avaliando o modelo\n",
    "print(classification_report(y_test, y_pred))\n",
    "print(\"Matriz de Confusão:\")\n",
    "print(confusion_matrix(y_test, y_pred))\n",
    "\n",
    "\n",
    "\n",
    "auc = roc_auc_score(y_test, probs)\n",
    "print(\"AUC-ROC:\", auc)\n",
    "\n",
    "fpr, tpr, _ = roc_curve(y_test, probs)\n",
    "plt.plot(fpr, tpr, label=f\"AUC = {auc:.3f}\")\n",
    "plt.xlabel(\"Falso positivo\")\n",
    "plt.ylabel(\"Verdadeiro positivo\")\n",
    "plt.title(\"Curva ROC\")\n",
    "plt.legend()\n",
    "plt.show()\n",
    "# Com os dados desbalanceados foram 0.48 de acerto no nosso target\n",
    "# Matriz de Confusão:\n",
    "# [[28790    37]\n",
    "#  [ 2102    37]]"
   ]
  },
  {
   "cell_type": "markdown",
   "id": "4c13a955",
   "metadata": {},
   "source": [
    "## Replicando os passos para `base_pagamentos_teste`"
   ]
  },
  {
   "cell_type": "markdown",
   "id": "dc18022f",
   "metadata": {},
   "source": [
    "#### Resumo"
   ]
  },
  {
   "cell_type": "markdown",
   "id": "c3735134",
   "metadata": {},
   "source": [
    "##### Leitura"
   ]
  },
  {
   "cell_type": "code",
   "execution_count": null,
   "id": "74d2e72b",
   "metadata": {},
   "outputs": [
    {
     "name": "stdout",
     "output_type": "stream",
     "text": [
      "<class 'pandas.core.frame.DataFrame'>\n",
      "RangeIndex: 12275 entries, 0 to 12274\n",
      "Data columns (total 6 columns):\n",
      " #   Column                  Non-Null Count  Dtype  \n",
      "---  ------                  --------------  -----  \n",
      " 0   ID_CLIENTE              12275 non-null  int64  \n",
      " 1   SAFRA_REF               12275 non-null  object \n",
      " 2   DATA_EMISSAO_DOCUMENTO  12275 non-null  object \n",
      " 3   DATA_VENCIMENTO         12275 non-null  object \n",
      " 4   VALOR_A_PAGAR           12144 non-null  float64\n",
      " 5   TAXA                    12275 non-null  float64\n",
      "dtypes: float64(2), int64(1), object(3)\n",
      "memory usage: 575.5+ KB\n",
      "None\n",
      "ID_CLIENTE                  0\n",
      "SAFRA_REF                   0\n",
      "DATA_EMISSAO_DOCUMENTO      0\n",
      "DATA_VENCIMENTO             0\n",
      "VALOR_A_PAGAR             131\n",
      "TAXA                        0\n",
      "dtype: int64\n"
     ]
    },
    {
     "data": {
      "text/html": [
       "<div>\n",
       "<style scoped>\n",
       "    .dataframe tbody tr th:only-of-type {\n",
       "        vertical-align: middle;\n",
       "    }\n",
       "\n",
       "    .dataframe tbody tr th {\n",
       "        vertical-align: top;\n",
       "    }\n",
       "\n",
       "    .dataframe thead th {\n",
       "        text-align: right;\n",
       "    }\n",
       "</style>\n",
       "<table border=\"1\" class=\"dataframe\">\n",
       "  <thead>\n",
       "    <tr style=\"text-align: right;\">\n",
       "      <th></th>\n",
       "      <th>ID_CLIENTE</th>\n",
       "      <th>SAFRA_REF</th>\n",
       "      <th>DATA_EMISSAO_DOCUMENTO</th>\n",
       "      <th>DATA_VENCIMENTO</th>\n",
       "      <th>VALOR_A_PAGAR</th>\n",
       "      <th>TAXA</th>\n",
       "    </tr>\n",
       "  </thead>\n",
       "  <tbody>\n",
       "    <tr>\n",
       "      <th>0</th>\n",
       "      <td>5058298901476893676</td>\n",
       "      <td>2021-07</td>\n",
       "      <td>2021-07-14</td>\n",
       "      <td>2021-08-04</td>\n",
       "      <td>11204.75</td>\n",
       "      <td>4.99</td>\n",
       "    </tr>\n",
       "    <tr>\n",
       "      <th>1</th>\n",
       "      <td>274692171162531764</td>\n",
       "      <td>2021-07</td>\n",
       "      <td>2021-07-08</td>\n",
       "      <td>2021-08-23</td>\n",
       "      <td>60718.50</td>\n",
       "      <td>5.99</td>\n",
       "    </tr>\n",
       "  </tbody>\n",
       "</table>\n",
       "</div>"
      ],
      "text/plain": [
       "            ID_CLIENTE SAFRA_REF DATA_EMISSAO_DOCUMENTO DATA_VENCIMENTO  \\\n",
       "0  5058298901476893676   2021-07             2021-07-14      2021-08-04   \n",
       "1   274692171162531764   2021-07             2021-07-08      2021-08-23   \n",
       "\n",
       "   VALOR_A_PAGAR  TAXA  \n",
       "0       11204.75  4.99  \n",
       "1       60718.50  5.99  "
      ]
     },
     "metadata": {},
     "output_type": "display_data"
    }
   ],
   "source": [
    "base_pagamentos_teste = pd.read_csv('data/base_pagamentos_teste.csv', sep=';')\n",
    "print(base_pagamentos_teste.info())\n",
    "print(base_pagamentos_teste.isnull().sum())\n",
    "display(base_pagamentos_teste.head(2))"
   ]
  },
  {
   "cell_type": "markdown",
   "id": "36fb60b4",
   "metadata": {},
   "source": [
    "##### Tratando as colunas para o formata correto de data para gerar cálculos como o indicador de `PRAZO`"
   ]
  },
  {
   "cell_type": "code",
   "execution_count": 49,
   "id": "5a5853b9",
   "metadata": {},
   "outputs": [
    {
     "data": {
      "text/html": [
       "<div>\n",
       "<style scoped>\n",
       "    .dataframe tbody tr th:only-of-type {\n",
       "        vertical-align: middle;\n",
       "    }\n",
       "\n",
       "    .dataframe tbody tr th {\n",
       "        vertical-align: top;\n",
       "    }\n",
       "\n",
       "    .dataframe thead th {\n",
       "        text-align: right;\n",
       "    }\n",
       "</style>\n",
       "<table border=\"1\" class=\"dataframe\">\n",
       "  <thead>\n",
       "    <tr style=\"text-align: right;\">\n",
       "      <th></th>\n",
       "      <th>ID_CLIENTE</th>\n",
       "      <th>SAFRA_REF</th>\n",
       "      <th>DATA_EMISSAO_DOCUMENTO</th>\n",
       "      <th>DATA_VENCIMENTO</th>\n",
       "      <th>VALOR_A_PAGAR</th>\n",
       "      <th>TAXA</th>\n",
       "      <th>PRAZO</th>\n",
       "    </tr>\n",
       "  </thead>\n",
       "  <tbody>\n",
       "    <tr>\n",
       "      <th>0</th>\n",
       "      <td>5058298901476893676</td>\n",
       "      <td>2021-07</td>\n",
       "      <td>2021-07-14</td>\n",
       "      <td>2021-08-04</td>\n",
       "      <td>11204.75</td>\n",
       "      <td>4.99</td>\n",
       "      <td>21</td>\n",
       "    </tr>\n",
       "    <tr>\n",
       "      <th>1</th>\n",
       "      <td>274692171162531764</td>\n",
       "      <td>2021-07</td>\n",
       "      <td>2021-07-08</td>\n",
       "      <td>2021-08-23</td>\n",
       "      <td>60718.50</td>\n",
       "      <td>5.99</td>\n",
       "      <td>46</td>\n",
       "    </tr>\n",
       "    <tr>\n",
       "      <th>2</th>\n",
       "      <td>274692171162531764</td>\n",
       "      <td>2021-07</td>\n",
       "      <td>2021-07-11</td>\n",
       "      <td>2021-08-25</td>\n",
       "      <td>60718.50</td>\n",
       "      <td>5.99</td>\n",
       "      <td>45</td>\n",
       "    </tr>\n",
       "    <tr>\n",
       "      <th>3</th>\n",
       "      <td>274692171162531764</td>\n",
       "      <td>2021-07</td>\n",
       "      <td>2021-07-16</td>\n",
       "      <td>2021-08-30</td>\n",
       "      <td>62250.00</td>\n",
       "      <td>5.99</td>\n",
       "      <td>45</td>\n",
       "    </tr>\n",
       "    <tr>\n",
       "      <th>4</th>\n",
       "      <td>465309249432033993</td>\n",
       "      <td>2021-07</td>\n",
       "      <td>2021-07-05</td>\n",
       "      <td>2021-07-30</td>\n",
       "      <td>26593.95</td>\n",
       "      <td>6.99</td>\n",
       "      <td>25</td>\n",
       "    </tr>\n",
       "  </tbody>\n",
       "</table>\n",
       "</div>"
      ],
      "text/plain": [
       "            ID_CLIENTE SAFRA_REF DATA_EMISSAO_DOCUMENTO DATA_VENCIMENTO  \\\n",
       "0  5058298901476893676   2021-07             2021-07-14      2021-08-04   \n",
       "1   274692171162531764   2021-07             2021-07-08      2021-08-23   \n",
       "2   274692171162531764   2021-07             2021-07-11      2021-08-25   \n",
       "3   274692171162531764   2021-07             2021-07-16      2021-08-30   \n",
       "4   465309249432033993   2021-07             2021-07-05      2021-07-30   \n",
       "\n",
       "   VALOR_A_PAGAR  TAXA  PRAZO  \n",
       "0       11204.75  4.99     21  \n",
       "1       60718.50  5.99     46  \n",
       "2       60718.50  5.99     45  \n",
       "3       62250.00  5.99     45  \n",
       "4       26593.95  6.99     25  "
      ]
     },
     "metadata": {},
     "output_type": "display_data"
    }
   ],
   "source": [
    "base_pagamentos_teste['DATA_EMISSAO_DOCUMENTO'] = pd.to_datetime(\n",
    "    base_pagamentos_teste['DATA_EMISSAO_DOCUMENTO'], errors='coerce')\n",
    "\n",
    "base_pagamentos_teste['DATA_VENCIMENTO'] = pd.to_datetime(\n",
    "    base_pagamentos_teste['DATA_VENCIMENTO'], errors='coerce')\n",
    "\n",
    "base_pagamentos_teste['PRAZO'] = (base_pagamentos_teste['DATA_VENCIMENTO'] - base_pagamentos_teste['DATA_EMISSAO_DOCUMENTO']).dt.days\n",
    "#aplicando a correção dos prazos negativos \n",
    "base_pagamentos_teste.loc[base_pagamentos_teste['PRAZO']<0, 'PRAZO'] = base_pagamentos_teste.loc[base_pagamentos_teste['PRAZO']>0, 'PRAZO'].mode()[0]\n",
    "display(base_pagamentos_teste.head(5))"
   ]
  },
  {
   "cell_type": "markdown",
   "id": "1c85c0ad",
   "metadata": {},
   "source": [
    "##### Merge com o dataframe `base_cadastral` para enriquecer a `base_pagamentos`"
   ]
  },
  {
   "cell_type": "code",
   "execution_count": 50,
   "id": "a0a4f1c1",
   "metadata": {},
   "outputs": [
    {
     "name": "stdout",
     "output_type": "stream",
     "text": [
      "(12275, 11)\n",
      "ID_CLIENTE                  0\n",
      "SAFRA_REF                   0\n",
      "DATA_EMISSAO_DOCUMENTO      0\n",
      "DATA_VENCIMENTO             0\n",
      "VALOR_A_PAGAR             131\n",
      "TAXA                        0\n",
      "PRAZO                       0\n",
      "SEGMENTO_INDUSTRIAL        38\n",
      "DOMINIO_EMAIL              38\n",
      "PORTE                      38\n",
      "FLAG_PF                    38\n",
      "dtype: int64\n"
     ]
    },
    {
     "data": {
      "text/html": [
       "<div>\n",
       "<style scoped>\n",
       "    .dataframe tbody tr th:only-of-type {\n",
       "        vertical-align: middle;\n",
       "    }\n",
       "\n",
       "    .dataframe tbody tr th {\n",
       "        vertical-align: top;\n",
       "    }\n",
       "\n",
       "    .dataframe thead th {\n",
       "        text-align: right;\n",
       "    }\n",
       "</style>\n",
       "<table border=\"1\" class=\"dataframe\">\n",
       "  <thead>\n",
       "    <tr style=\"text-align: right;\">\n",
       "      <th></th>\n",
       "      <th>ID_CLIENTE</th>\n",
       "      <th>SAFRA_REF</th>\n",
       "      <th>DATA_EMISSAO_DOCUMENTO</th>\n",
       "      <th>DATA_VENCIMENTO</th>\n",
       "      <th>VALOR_A_PAGAR</th>\n",
       "      <th>TAXA</th>\n",
       "      <th>PRAZO</th>\n",
       "      <th>SEGMENTO_INDUSTRIAL</th>\n",
       "      <th>DOMINIO_EMAIL</th>\n",
       "      <th>PORTE</th>\n",
       "      <th>FLAG_PF</th>\n",
       "    </tr>\n",
       "  </thead>\n",
       "  <tbody>\n",
       "    <tr>\n",
       "      <th>0</th>\n",
       "      <td>5058298901476893676</td>\n",
       "      <td>2021-07</td>\n",
       "      <td>2021-07-14</td>\n",
       "      <td>2021-08-04</td>\n",
       "      <td>11204.75</td>\n",
       "      <td>4.99</td>\n",
       "      <td>21</td>\n",
       "      <td>Serviços</td>\n",
       "      <td>GMAIL</td>\n",
       "      <td>MEDIO</td>\n",
       "      <td>0.0</td>\n",
       "    </tr>\n",
       "    <tr>\n",
       "      <th>1</th>\n",
       "      <td>274692171162531764</td>\n",
       "      <td>2021-07</td>\n",
       "      <td>2021-07-08</td>\n",
       "      <td>2021-08-23</td>\n",
       "      <td>60718.50</td>\n",
       "      <td>5.99</td>\n",
       "      <td>46</td>\n",
       "      <td>Serviços</td>\n",
       "      <td>GMAIL</td>\n",
       "      <td>PEQUENO</td>\n",
       "      <td>0.0</td>\n",
       "    </tr>\n",
       "  </tbody>\n",
       "</table>\n",
       "</div>"
      ],
      "text/plain": [
       "            ID_CLIENTE SAFRA_REF DATA_EMISSAO_DOCUMENTO DATA_VENCIMENTO  \\\n",
       "0  5058298901476893676   2021-07             2021-07-14      2021-08-04   \n",
       "1   274692171162531764   2021-07             2021-07-08      2021-08-23   \n",
       "\n",
       "   VALOR_A_PAGAR  TAXA  PRAZO SEGMENTO_INDUSTRIAL DOMINIO_EMAIL    PORTE  \\\n",
       "0       11204.75  4.99     21            Serviços         GMAIL    MEDIO   \n",
       "1       60718.50  5.99     46            Serviços         GMAIL  PEQUENO   \n",
       "\n",
       "   FLAG_PF  \n",
       "0      0.0  \n",
       "1      0.0  "
      ]
     },
     "execution_count": 50,
     "metadata": {},
     "output_type": "execute_result"
    }
   ],
   "source": [
    "merged_base_pagamentos_teste = base_pagamentos_teste.merge(base_cadastral[['ID_CLIENTE','SEGMENTO_INDUSTRIAL','DOMINIO_EMAIL','PORTE','FLAG_PF']],\n",
    "                                                           how='left', on='ID_CLIENTE')\n",
    "print(merged_base_pagamentos_teste.shape)\n",
    "print(merged_base_pagamentos_teste.isnull().sum())\n",
    "merged_base_pagamentos_teste.head(2)"
   ]
  },
  {
   "cell_type": "markdown",
   "id": "4b2e4083",
   "metadata": {},
   "source": [
    "##### Merge com o dataframe `base_info` para enriquecer a `base_pagamentos`"
   ]
  },
  {
   "cell_type": "code",
   "execution_count": 51,
   "id": "874bd49f",
   "metadata": {},
   "outputs": [
    {
     "name": "stdout",
     "output_type": "stream",
     "text": [
      "(12275, 13)\n",
      "ID_CLIENTE                  0\n",
      "SAFRA_REF                   0\n",
      "DATA_EMISSAO_DOCUMENTO      0\n",
      "DATA_VENCIMENTO             0\n",
      "VALOR_A_PAGAR             131\n",
      "TAXA                        0\n",
      "PRAZO                       0\n",
      "SEGMENTO_INDUSTRIAL        38\n",
      "DOMINIO_EMAIL              38\n",
      "PORTE                      38\n",
      "FLAG_PF                    38\n",
      "NO_FUNCIONARIOS             7\n",
      "RENDA_MES_ANTERIOR          7\n",
      "dtype: int64\n"
     ]
    },
    {
     "data": {
      "text/html": [
       "<div>\n",
       "<style scoped>\n",
       "    .dataframe tbody tr th:only-of-type {\n",
       "        vertical-align: middle;\n",
       "    }\n",
       "\n",
       "    .dataframe tbody tr th {\n",
       "        vertical-align: top;\n",
       "    }\n",
       "\n",
       "    .dataframe thead th {\n",
       "        text-align: right;\n",
       "    }\n",
       "</style>\n",
       "<table border=\"1\" class=\"dataframe\">\n",
       "  <thead>\n",
       "    <tr style=\"text-align: right;\">\n",
       "      <th></th>\n",
       "      <th>ID_CLIENTE</th>\n",
       "      <th>SAFRA_REF</th>\n",
       "      <th>DATA_EMISSAO_DOCUMENTO</th>\n",
       "      <th>DATA_VENCIMENTO</th>\n",
       "      <th>VALOR_A_PAGAR</th>\n",
       "      <th>TAXA</th>\n",
       "      <th>PRAZO</th>\n",
       "      <th>SEGMENTO_INDUSTRIAL</th>\n",
       "      <th>DOMINIO_EMAIL</th>\n",
       "      <th>PORTE</th>\n",
       "      <th>FLAG_PF</th>\n",
       "      <th>NO_FUNCIONARIOS</th>\n",
       "      <th>RENDA_MES_ANTERIOR</th>\n",
       "    </tr>\n",
       "  </thead>\n",
       "  <tbody>\n",
       "    <tr>\n",
       "      <th>0</th>\n",
       "      <td>5058298901476893676</td>\n",
       "      <td>2021-07</td>\n",
       "      <td>2021-07-14</td>\n",
       "      <td>2021-08-04</td>\n",
       "      <td>11204.75</td>\n",
       "      <td>4.99</td>\n",
       "      <td>21</td>\n",
       "      <td>Serviços</td>\n",
       "      <td>GMAIL</td>\n",
       "      <td>MEDIO</td>\n",
       "      <td>0.0</td>\n",
       "      <td>143.862069</td>\n",
       "      <td>467430.0</td>\n",
       "    </tr>\n",
       "    <tr>\n",
       "      <th>1</th>\n",
       "      <td>274692171162531764</td>\n",
       "      <td>2021-07</td>\n",
       "      <td>2021-07-08</td>\n",
       "      <td>2021-08-23</td>\n",
       "      <td>60718.50</td>\n",
       "      <td>5.99</td>\n",
       "      <td>46</td>\n",
       "      <td>Serviços</td>\n",
       "      <td>GMAIL</td>\n",
       "      <td>PEQUENO</td>\n",
       "      <td>0.0</td>\n",
       "      <td>104.000000</td>\n",
       "      <td>417192.0</td>\n",
       "    </tr>\n",
       "  </tbody>\n",
       "</table>\n",
       "</div>"
      ],
      "text/plain": [
       "            ID_CLIENTE SAFRA_REF DATA_EMISSAO_DOCUMENTO DATA_VENCIMENTO  \\\n",
       "0  5058298901476893676   2021-07             2021-07-14      2021-08-04   \n",
       "1   274692171162531764   2021-07             2021-07-08      2021-08-23   \n",
       "\n",
       "   VALOR_A_PAGAR  TAXA  PRAZO SEGMENTO_INDUSTRIAL DOMINIO_EMAIL    PORTE  \\\n",
       "0       11204.75  4.99     21            Serviços         GMAIL    MEDIO   \n",
       "1       60718.50  5.99     46            Serviços         GMAIL  PEQUENO   \n",
       "\n",
       "   FLAG_PF  NO_FUNCIONARIOS  RENDA_MES_ANTERIOR  \n",
       "0      0.0       143.862069            467430.0  \n",
       "1      0.0       104.000000            417192.0  "
      ]
     },
     "execution_count": 51,
     "metadata": {},
     "output_type": "execute_result"
    }
   ],
   "source": [
    "merged_base_pagamentos_teste_full = merged_base_pagamentos_teste.merge(\n",
    "    base_info[['ID_CLIENTE','SAFRA_REF','NO_FUNCIONARIOS','RENDA_MES_ANTERIOR']],\n",
    "    how='left',\n",
    "    on=['ID_CLIENTE','SAFRA_REF']\n",
    ")\n",
    "\n",
    "colunas = ['RENDA_MES_ANTERIOR', 'NO_FUNCIONARIOS']\n",
    "\n",
    "# preenchendo nulos com a média do grupo PORTE\n",
    "for coluna in colunas:\n",
    "    medias = merged_base_pagamentos_teste_full.groupby('PORTE')[coluna].transform('mean')\n",
    "    merged_base_pagamentos_teste_full[coluna] = merged_base_pagamentos_teste_full[coluna].fillna(medias)\n",
    "\n",
    "\n",
    "print(merged_base_pagamentos_teste_full.shape)\n",
    "print(merged_base_pagamentos_teste_full.isnull().sum())\n",
    "merged_base_pagamentos_teste_full.head(2)"
   ]
  },
  {
   "cell_type": "code",
   "execution_count": 52,
   "id": "10b0bcfb",
   "metadata": {},
   "outputs": [],
   "source": [
    "moda_porte = merged_base_pagamentos_teste_full['PORTE'].mode()[0]\n",
    "moda_email = merged_base_pagamentos_teste_full.loc[merged_base_pagamentos_teste_full['PORTE']==moda_porte, 'DOMINIO_EMAIL'].mode()[0]\n",
    "moda_segmento = merged_base_pagamentos_teste_full.loc[merged_base_pagamentos_teste_full['PORTE']==moda_porte, 'SEGMENTO_INDUSTRIAL'].mode()[0]\n",
    "moda_flag_pf = merged_base_pagamentos_teste_full.loc[merged_base_pagamentos_teste_full['PORTE']==moda_porte, 'FLAG_PF'].mode()[0]\n",
    "media_funcionarios= merged_base_pagamentos_teste_full.loc[merged_base_pagamentos_teste_full['PORTE']==moda_porte, 'NO_FUNCIONARIOS'].mean()\n",
    "media_renda= merged_base_pagamentos_teste_full.loc[merged_base_pagamentos_teste_full['PORTE']==moda_porte, 'RENDA_MES_ANTERIOR'].mean()"
   ]
  },
  {
   "cell_type": "code",
   "execution_count": 53,
   "id": "491a2a15",
   "metadata": {},
   "outputs": [
    {
     "name": "stdout",
     "output_type": "stream",
     "text": [
      "ID_CLIENTE                  0\n",
      "SAFRA_REF                   0\n",
      "DATA_EMISSAO_DOCUMENTO      0\n",
      "DATA_VENCIMENTO             0\n",
      "VALOR_A_PAGAR             131\n",
      "TAXA                        0\n",
      "PRAZO                       0\n",
      "SEGMENTO_INDUSTRIAL         0\n",
      "DOMINIO_EMAIL               0\n",
      "PORTE                       0\n",
      "FLAG_PF                     0\n",
      "NO_FUNCIONARIOS             0\n",
      "RENDA_MES_ANTERIOR          0\n",
      "dtype: int64\n"
     ]
    }
   ],
   "source": [
    "merged_base_pagamentos_teste_full['PORTE'] = merged_base_pagamentos_teste_full['PORTE'].fillna(moda_porte)\n",
    "merged_base_pagamentos_teste_full['DOMINIO_EMAIL'] = merged_base_pagamentos_teste_full['DOMINIO_EMAIL'].fillna(moda_email)\n",
    "merged_base_pagamentos_teste_full['SEGMENTO_INDUSTRIAL'] = merged_base_pagamentos_teste_full['SEGMENTO_INDUSTRIAL'].fillna(moda_segmento)\n",
    "merged_base_pagamentos_teste_full['FLAG_PF'] = merged_base_pagamentos_teste_full['FLAG_PF'].fillna(moda_flag_pf)\n",
    "merged_base_pagamentos_teste_full['NO_FUNCIONARIOS'] = merged_base_pagamentos_teste_full['NO_FUNCIONARIOS'].fillna(media_funcionarios)\n",
    "merged_base_pagamentos_teste_full['RENDA_MES_ANTERIOR'] = merged_base_pagamentos_teste_full['RENDA_MES_ANTERIOR'].fillna(media_funcionarios)\n",
    "\n",
    "print(merged_base_pagamentos_teste_full.isnull().sum())"
   ]
  },
  {
   "cell_type": "code",
   "execution_count": 54,
   "id": "87ac890f",
   "metadata": {},
   "outputs": [],
   "source": [
    "merged_base_pagamentos_teste_full['HISTORICO_ATRASO'] = merged_base_pagamentos_teste_full['ID_CLIENTE'].map(historico_atraso['ATRASADO'])\n",
    "merged_base_pagamentos_teste_full.loc[merged_base_pagamentos_teste_full['HISTORICO_ATRASO'].isna(), 'HISTORICO_ATRASO'] = 0"
   ]
  },
  {
   "cell_type": "markdown",
   "id": "cecc373f",
   "metadata": {},
   "source": [
    "##### Substituindo os valores nulos da coluna `VALOR_A_PAGAR` pela média de cada porte "
   ]
  },
  {
   "cell_type": "code",
   "execution_count": 55,
   "id": "40571104",
   "metadata": {},
   "outputs": [
    {
     "name": "stdout",
     "output_type": "stream",
     "text": [
      "(12275, 14)\n",
      "ID_CLIENTE                0\n",
      "SAFRA_REF                 0\n",
      "DATA_EMISSAO_DOCUMENTO    0\n",
      "DATA_VENCIMENTO           0\n",
      "VALOR_A_PAGAR             0\n",
      "TAXA                      0\n",
      "PRAZO                     0\n",
      "SEGMENTO_INDUSTRIAL       0\n",
      "DOMINIO_EMAIL             0\n",
      "PORTE                     0\n",
      "FLAG_PF                   0\n",
      "NO_FUNCIONARIOS           0\n",
      "RENDA_MES_ANTERIOR        0\n",
      "HISTORICO_ATRASO          0\n",
      "dtype: int64\n"
     ]
    }
   ],
   "source": [
    "merged_base_pagamentos_teste_full.loc[(merged_base_pagamentos_teste_full['VALOR_A_PAGAR'].isna()) & (merged_base_pagamentos_teste_full['PORTE'] == 'GRANDE'), 'VALOR_A_PAGAR'] = merged_base_pagamentos_teste_full.loc[merged_base_pagamentos_teste_full['PORTE'] == 'GRANDE', 'VALOR_A_PAGAR'].mean()\n",
    "merged_base_pagamentos_teste_full.loc[(merged_base_pagamentos_teste_full['VALOR_A_PAGAR'].isna()) & (merged_base_pagamentos_teste_full['PORTE'] == 'MEDIO'), 'VALOR_A_PAGAR'] = merged_base_pagamentos_teste_full.loc[merged_base_pagamentos_teste_full['PORTE'] == 'MEDIO', 'VALOR_A_PAGAR'].mean()\n",
    "merged_base_pagamentos_teste_full.loc[(merged_base_pagamentos_teste_full['VALOR_A_PAGAR'].isna()) & (merged_base_pagamentos_teste_full['PORTE'] == 'PEQUENO'), 'VALOR_A_PAGAR'] = merged_base_pagamentos_teste_full.loc[merged_base_pagamentos_teste_full['PORTE'] == 'PEQUENO', 'VALOR_A_PAGAR'].mean()\n",
    "\n",
    "print(merged_base_pagamentos_teste_full.shape)\n",
    "print(merged_base_pagamentos_teste_full.isnull().sum())"
   ]
  },
  {
   "cell_type": "markdown",
   "id": "373f3ca1",
   "metadata": {},
   "source": [
    "##### Tranformandos as variaveis categoricas em numericas"
   ]
  },
  {
   "cell_type": "markdown",
   "id": "c80a5aa0",
   "metadata": {},
   "source": [
    "Na coluna `PORTE` coloquei em sequencia, pois acredito que quanto maior o porte da empresa melhor.<br>\n",
    "Nas colunas `SEGMENTO_INDUSTRIAL` e `DOMINIO_EMAIL` apliquei o one-hot encoded de simples com o próprio pandas."
   ]
  },
  {
   "cell_type": "code",
   "execution_count": 56,
   "id": "0ea16f09",
   "metadata": {},
   "outputs": [],
   "source": [
    "merged_base_pagamentos_teste_full.loc[merged_base_pagamentos_teste_full['PORTE']=='PEQUENO','PORTE'] = 0\n",
    "merged_base_pagamentos_teste_full.loc[merged_base_pagamentos_teste_full['PORTE']=='MEDIO','PORTE'] = 1\n",
    "merged_base_pagamentos_teste_full.loc[merged_base_pagamentos_teste_full['PORTE']=='GRANDE','PORTE'] = 2\n",
    "merged_base_pagamentos_teste_full[['Comércio','Indústria','Serviços']] = pd.get_dummies(merged_base_pagamentos_teste_full['SEGMENTO_INDUSTRIAL']).astype(int)\n",
    "merged_base_pagamentos_teste_full[['AOL','BOL','GMAIL','HOTMAIL','OUTLOOK','YAHOO']] = pd.get_dummies(merged_base_pagamentos_teste_full['DOMINIO_EMAIL']).astype(int)"
   ]
  },
  {
   "cell_type": "markdown",
   "id": "209362ec",
   "metadata": {},
   "source": [
    "# Criando o indicador de probabilidade de inadimplência"
   ]
  },
  {
   "cell_type": "markdown",
   "id": "efe364b3",
   "metadata": {},
   "source": [
    "##### Aplicando o Scaler"
   ]
  },
  {
   "cell_type": "code",
   "execution_count": 57,
   "id": "07894cf9",
   "metadata": {},
   "outputs": [
    {
     "data": {
      "text/html": [
       "<div>\n",
       "<style scoped>\n",
       "    .dataframe tbody tr th:only-of-type {\n",
       "        vertical-align: middle;\n",
       "    }\n",
       "\n",
       "    .dataframe tbody tr th {\n",
       "        vertical-align: top;\n",
       "    }\n",
       "\n",
       "    .dataframe thead th {\n",
       "        text-align: right;\n",
       "    }\n",
       "</style>\n",
       "<table border=\"1\" class=\"dataframe\">\n",
       "  <thead>\n",
       "    <tr style=\"text-align: right;\">\n",
       "      <th></th>\n",
       "      <th>PORTE</th>\n",
       "      <th>Comércio</th>\n",
       "      <th>Indústria</th>\n",
       "      <th>Serviços</th>\n",
       "      <th>AOL</th>\n",
       "      <th>BOL</th>\n",
       "      <th>GMAIL</th>\n",
       "      <th>HOTMAIL</th>\n",
       "      <th>OUTLOOK</th>\n",
       "      <th>YAHOO</th>\n",
       "      <th>RENDA_MES_ANTERIOR</th>\n",
       "      <th>NO_FUNCIONARIOS</th>\n",
       "      <th>TAXA</th>\n",
       "      <th>VALOR_A_PAGAR</th>\n",
       "      <th>PRAZO</th>\n",
       "      <th>FLAG_PF</th>\n",
       "      <th>HISTORICO_ATRASO</th>\n",
       "    </tr>\n",
       "  </thead>\n",
       "  <tbody>\n",
       "    <tr>\n",
       "      <th>0</th>\n",
       "      <td>1</td>\n",
       "      <td>0</td>\n",
       "      <td>0</td>\n",
       "      <td>1</td>\n",
       "      <td>0</td>\n",
       "      <td>0</td>\n",
       "      <td>1</td>\n",
       "      <td>0</td>\n",
       "      <td>0</td>\n",
       "      <td>0</td>\n",
       "      <td>467430.0</td>\n",
       "      <td>143.862069</td>\n",
       "      <td>4.99</td>\n",
       "      <td>11204.75</td>\n",
       "      <td>21</td>\n",
       "      <td>0.0</td>\n",
       "      <td>0.0</td>\n",
       "    </tr>\n",
       "    <tr>\n",
       "      <th>1</th>\n",
       "      <td>0</td>\n",
       "      <td>0</td>\n",
       "      <td>0</td>\n",
       "      <td>1</td>\n",
       "      <td>0</td>\n",
       "      <td>0</td>\n",
       "      <td>1</td>\n",
       "      <td>0</td>\n",
       "      <td>0</td>\n",
       "      <td>0</td>\n",
       "      <td>417192.0</td>\n",
       "      <td>104.000000</td>\n",
       "      <td>5.99</td>\n",
       "      <td>60718.50</td>\n",
       "      <td>46</td>\n",
       "      <td>0.0</td>\n",
       "      <td>1.0</td>\n",
       "    </tr>\n",
       "    <tr>\n",
       "      <th>2</th>\n",
       "      <td>0</td>\n",
       "      <td>0</td>\n",
       "      <td>0</td>\n",
       "      <td>1</td>\n",
       "      <td>0</td>\n",
       "      <td>0</td>\n",
       "      <td>1</td>\n",
       "      <td>0</td>\n",
       "      <td>0</td>\n",
       "      <td>0</td>\n",
       "      <td>417192.0</td>\n",
       "      <td>104.000000</td>\n",
       "      <td>5.99</td>\n",
       "      <td>60718.50</td>\n",
       "      <td>45</td>\n",
       "      <td>0.0</td>\n",
       "      <td>1.0</td>\n",
       "    </tr>\n",
       "  </tbody>\n",
       "</table>\n",
       "</div>"
      ],
      "text/plain": [
       "  PORTE  Comércio  Indústria  Serviços  AOL  BOL  GMAIL  HOTMAIL  OUTLOOK  \\\n",
       "0     1         0          0         1    0    0      1        0        0   \n",
       "1     0         0          0         1    0    0      1        0        0   \n",
       "2     0         0          0         1    0    0      1        0        0   \n",
       "\n",
       "   YAHOO  RENDA_MES_ANTERIOR  NO_FUNCIONARIOS  TAXA  VALOR_A_PAGAR  PRAZO  \\\n",
       "0      0            467430.0       143.862069  4.99       11204.75     21   \n",
       "1      0            417192.0       104.000000  5.99       60718.50     46   \n",
       "2      0            417192.0       104.000000  5.99       60718.50     45   \n",
       "\n",
       "   FLAG_PF  HISTORICO_ATRASO  \n",
       "0      0.0               0.0  \n",
       "1      0.0               1.0  \n",
       "2      0.0               1.0  "
      ]
     },
     "execution_count": 57,
     "metadata": {},
     "output_type": "execute_result"
    }
   ],
   "source": [
    "colunas = ['PORTE','Comércio','Indústria','Serviços','AOL','BOL','GMAIL','HOTMAIL','OUTLOOK','YAHOO','RENDA_MES_ANTERIOR','NO_FUNCIONARIOS','TAXA','VALOR_A_PAGAR','PRAZO','FLAG_PF','HISTORICO_ATRASO']\n",
    "merged_base_pagamentos_teste_full[colunas].head(3)"
   ]
  },
  {
   "cell_type": "code",
   "execution_count": 58,
   "id": "472c1a2a",
   "metadata": {},
   "outputs": [
    {
     "data": {
      "text/plain": [
       "array([[-0.13610736, -0.64394145, -0.55828585,  1.06348622, -0.21059056,\n",
       "        -0.15077931,  1.60872894, -0.62991111, -0.24062035, -0.6825267 ,\n",
       "         0.96576976,  1.32648821, -1.02636029, -0.3623239 , -0.32230826,\n",
       "        -0.08146043, -2.13231534],\n",
       "       [-1.47521497, -0.64394145, -0.55828585,  1.06348622, -0.21059056,\n",
       "        -0.15077931,  1.60872894, -0.62991111, -0.24062035, -0.6825267 ,\n",
       "         0.72073573, -0.66901503, -0.4689589 ,  0.24566672,  0.81654637,\n",
       "        -0.08146043,  0.46897379],\n",
       "       [-1.47521497, -0.64394145, -0.55828585,  1.06348622, -0.21059056,\n",
       "        -0.15077931,  1.60872894, -0.62991111, -0.24062035, -0.6825267 ,\n",
       "         0.72073573, -0.66901503, -0.4689589 ,  0.24566672,  0.77099219,\n",
       "        -0.08146043,  0.46897379]])"
      ]
     },
     "execution_count": 58,
     "metadata": {},
     "output_type": "execute_result"
    }
   ],
   "source": [
    "# reutilizando o scaler treinado com a base de desenvolvimento\n",
    "proba_teste = scaler.transform(merged_base_pagamentos_teste_full[colunas].values)\n",
    "proba_teste[0:3]"
   ]
  },
  {
   "cell_type": "markdown",
   "id": "0f667804",
   "metadata": {},
   "source": [
    "##### Decisão de modelo"
   ]
  },
  {
   "cell_type": "markdown",
   "id": "12dccf63",
   "metadata": {},
   "source": [
    "Eu decidir usar o modelo de floresta aleatória, por ser um modelo whitebox"
   ]
  },
  {
   "cell_type": "code",
   "execution_count": 59,
   "id": "0cd77167",
   "metadata": {},
   "outputs": [],
   "source": [
    "# aplicando a probabilidade de inadimplência\n",
    "previsoes = modelo_rf.predict(proba_teste).flatten()\n",
    "previsoes = np.round(previsoes, 3)\n",
    "merged_base_pagamentos_teste_full[\"PROBABILIDADE_INADIMPLENCIA\"] = previsoes"
   ]
  },
  {
   "cell_type": "markdown",
   "id": "25283110",
   "metadata": {},
   "source": [
    "Confrotando um aspecto da explicabilidade do modelo<br>\n",
    "As variaveis mais importantes para a tomada de decisão do comitê"
   ]
  },
  {
   "cell_type": "code",
   "execution_count": 60,
   "id": "f09aa5c0",
   "metadata": {},
   "outputs": [
    {
     "data": {
      "text/html": [
       "<div>\n",
       "<style scoped>\n",
       "    .dataframe tbody tr th:only-of-type {\n",
       "        vertical-align: middle;\n",
       "    }\n",
       "\n",
       "    .dataframe tbody tr th {\n",
       "        vertical-align: top;\n",
       "    }\n",
       "\n",
       "    .dataframe thead th {\n",
       "        text-align: right;\n",
       "    }\n",
       "</style>\n",
       "<table border=\"1\" class=\"dataframe\">\n",
       "  <thead>\n",
       "    <tr style=\"text-align: right;\">\n",
       "      <th></th>\n",
       "      <th>variavel</th>\n",
       "      <th>importancia</th>\n",
       "    </tr>\n",
       "  </thead>\n",
       "  <tbody>\n",
       "    <tr>\n",
       "      <th>13</th>\n",
       "      <td>VALOR_A_PAGAR</td>\n",
       "      <td>0.243796</td>\n",
       "    </tr>\n",
       "    <tr>\n",
       "      <th>14</th>\n",
       "      <td>PRAZO</td>\n",
       "      <td>0.173366</td>\n",
       "    </tr>\n",
       "    <tr>\n",
       "      <th>16</th>\n",
       "      <td>HISTORICO_ATRASO</td>\n",
       "      <td>0.159376</td>\n",
       "    </tr>\n",
       "    <tr>\n",
       "      <th>10</th>\n",
       "      <td>RENDA_MES_ANTERIOR</td>\n",
       "      <td>0.129224</td>\n",
       "    </tr>\n",
       "    <tr>\n",
       "      <th>11</th>\n",
       "      <td>NO_FUNCIONARIOS</td>\n",
       "      <td>0.126426</td>\n",
       "    </tr>\n",
       "    <tr>\n",
       "      <th>12</th>\n",
       "      <td>TAXA</td>\n",
       "      <td>0.042488</td>\n",
       "    </tr>\n",
       "    <tr>\n",
       "      <th>0</th>\n",
       "      <td>PORTE</td>\n",
       "      <td>0.034928</td>\n",
       "    </tr>\n",
       "    <tr>\n",
       "      <th>6</th>\n",
       "      <td>GMAIL</td>\n",
       "      <td>0.014871</td>\n",
       "    </tr>\n",
       "    <tr>\n",
       "      <th>9</th>\n",
       "      <td>YAHOO</td>\n",
       "      <td>0.012791</td>\n",
       "    </tr>\n",
       "    <tr>\n",
       "      <th>3</th>\n",
       "      <td>Serviços</td>\n",
       "      <td>0.012590</td>\n",
       "    </tr>\n",
       "    <tr>\n",
       "      <th>1</th>\n",
       "      <td>Comércio</td>\n",
       "      <td>0.011955</td>\n",
       "    </tr>\n",
       "    <tr>\n",
       "      <th>7</th>\n",
       "      <td>HOTMAIL</td>\n",
       "      <td>0.011416</td>\n",
       "    </tr>\n",
       "    <tr>\n",
       "      <th>2</th>\n",
       "      <td>Indústria</td>\n",
       "      <td>0.009812</td>\n",
       "    </tr>\n",
       "    <tr>\n",
       "      <th>8</th>\n",
       "      <td>OUTLOOK</td>\n",
       "      <td>0.008041</td>\n",
       "    </tr>\n",
       "    <tr>\n",
       "      <th>4</th>\n",
       "      <td>AOL</td>\n",
       "      <td>0.004542</td>\n",
       "    </tr>\n",
       "    <tr>\n",
       "      <th>5</th>\n",
       "      <td>BOL</td>\n",
       "      <td>0.003208</td>\n",
       "    </tr>\n",
       "    <tr>\n",
       "      <th>15</th>\n",
       "      <td>FLAG_PF</td>\n",
       "      <td>0.001171</td>\n",
       "    </tr>\n",
       "  </tbody>\n",
       "</table>\n",
       "</div>"
      ],
      "text/plain": [
       "              variavel  importancia\n",
       "13       VALOR_A_PAGAR     0.243796\n",
       "14               PRAZO     0.173366\n",
       "16    HISTORICO_ATRASO     0.159376\n",
       "10  RENDA_MES_ANTERIOR     0.129224\n",
       "11     NO_FUNCIONARIOS     0.126426\n",
       "12                TAXA     0.042488\n",
       "0                PORTE     0.034928\n",
       "6                GMAIL     0.014871\n",
       "9                YAHOO     0.012791\n",
       "3             Serviços     0.012590\n",
       "1             Comércio     0.011955\n",
       "7              HOTMAIL     0.011416\n",
       "2            Indústria     0.009812\n",
       "8              OUTLOOK     0.008041\n",
       "4                  AOL     0.004542\n",
       "5                  BOL     0.003208\n",
       "15             FLAG_PF     0.001171"
      ]
     },
     "metadata": {},
     "output_type": "display_data"
    }
   ],
   "source": [
    "# pegando a features mais importando\n",
    "importancias = modelo_rf.feature_importances_\n",
    "\n",
    "# ligando elas com os nomes das colunas\n",
    "df_importancias = pd.DataFrame({\n",
    "    'variavel': colunas, \n",
    "    'importancia': importancias\n",
    "})\n",
    "# ordenando\n",
    "df_importancias = df_importancias.sort_values(by='importancia', ascending=False)\n",
    "\n",
    "display(df_importancias)"
   ]
  },
  {
   "cell_type": "code",
   "execution_count": 61,
   "id": "14cec3cd",
   "metadata": {},
   "outputs": [
    {
     "data": {
      "application/vnd.plotly.v1+json": {
       "config": {
        "plotlyServerURL": "https://plot.ly"
       },
       "data": [
        {
         "coloraxis": "coloraxis",
         "hovertemplate": "x: %{x}<br>y: %{y}<br>color: %{z}<extra></extra>",
         "name": "0",
         "texttemplate": "%{z}",
         "type": "heatmap",
         "x": [
          "PORTE",
          "Comércio",
          "Indústria",
          "Serviços",
          "AOL",
          "BOL",
          "GMAIL",
          "HOTMAIL",
          "OUTLOOK",
          "YAHOO",
          "RENDA_MES_ANTERIOR",
          "NO_FUNCIONARIOS",
          "TAXA",
          "VALOR_A_PAGAR",
          "PRAZO",
          "FLAG_PF",
          "HISTORICO_ATRASO",
          "PROBABILIDADE_INADIMPLENCIA"
         ],
         "xaxis": "x",
         "y": [
          "PORTE",
          "Comércio",
          "Indústria",
          "Serviços",
          "AOL",
          "BOL",
          "GMAIL",
          "HOTMAIL",
          "OUTLOOK",
          "YAHOO",
          "RENDA_MES_ANTERIOR",
          "NO_FUNCIONARIOS",
          "TAXA",
          "VALOR_A_PAGAR",
          "PRAZO",
          "FLAG_PF",
          "HISTORICO_ATRASO",
          "PROBABILIDADE_INADIMPLENCIA"
         ],
         "yaxis": "y",
         "z": [
          [
           1,
           0.05,
           -0.07,
           0,
           -0.03,
           0,
           -0.04,
           -0.02,
           0.02,
           0.06,
           -0.03,
           0.11,
           -0.02,
           -0.05,
           -0.02,
           -0.02,
           -0.02,
           -0.06
          ],
          [
           0.05,
           1,
           -0.42,
           -0.63,
           0.03,
           0.03,
           -0.06,
           -0.05,
           0.01,
           0.07,
           0.01,
           0.07,
           0.01,
           0.02,
           -0.02,
           -0.05,
           0,
           -0.09
          ],
          [
           -0.07,
           -0.42,
           1,
           -0.44,
           -0.02,
           -0.03,
           0.02,
           -0.03,
           0,
           0.03,
           0.01,
           -0.03,
           -0.03,
           0,
           0.01,
           -0.03,
           0.02,
           0.02
          ],
          [
           0,
           -0.63,
           -0.44,
           1,
           -0.02,
           0,
           0.05,
           0.08,
           -0.01,
           -0.09,
           -0.02,
           -0.05,
           0.02,
           -0.02,
           0.01,
           0.08,
           -0.02,
           0.07
          ],
          [
           -0.03,
           0.03,
           -0.02,
           -0.02,
           1,
           -0.04,
           -0.16,
           -0.12,
           -0.06,
           -0.17,
           -0.03,
           0.04,
           -0.03,
           0.01,
           0,
           0,
           -0.05,
           -0.03
          ],
          [
           0,
           0.03,
           -0.03,
           0,
           -0.04,
           1,
           -0.1,
           -0.08,
           -0.04,
           -0.11,
           0.01,
           0.11,
           0.01,
           -0.05,
           -0.01,
           0.01,
           0.01,
           -0.03
          ],
          [
           -0.04,
           -0.06,
           0.02,
           0.05,
           -0.16,
           -0.1,
           1,
           -0.34,
           -0.16,
           -0.49,
           -0.02,
           0,
           0.01,
           0,
           0.02,
           -0.02,
           -0.04,
           0.05
          ],
          [
           -0.02,
           -0.05,
           -0.03,
           0.08,
           -0.12,
           -0.08,
           -0.34,
           1,
           -0.12,
           -0.38,
           -0.01,
           0.01,
           -0.01,
           -0.02,
           -0.01,
           0.04,
           0.03,
           0.08
          ],
          [
           0.02,
           0.01,
           0,
           -0.01,
           -0.06,
           -0.04,
           -0.16,
           -0.12,
           1,
           -0.18,
           0,
           -0.01,
           0.03,
           -0.03,
           0,
           -0.01,
           0,
           -0.02
          ],
          [
           0.06,
           0.07,
           0.03,
           -0.09,
           -0.17,
           -0.11,
           -0.49,
           -0.38,
           -0.18,
           1,
           0.04,
           -0.06,
           -0.01,
           0.05,
           -0.01,
           -0.01,
           0.03,
           -0.09
          ],
          [
           -0.03,
           0.01,
           0.01,
           -0.02,
           -0.03,
           0.01,
           -0.02,
           -0.01,
           0,
           0.04,
           1,
           0.02,
           0.01,
           0,
           0.01,
           -0.06,
           0.02,
           -0.11
          ],
          [
           0.11,
           0.07,
           -0.03,
           -0.05,
           0.04,
           0.11,
           0,
           0.01,
           -0.01,
           -0.06,
           0.02,
           1,
           0.02,
           0.02,
           -0.01,
           -0.31,
           0.02,
           -0.05
          ],
          [
           -0.02,
           0.01,
           -0.03,
           0.02,
           -0.03,
           0.01,
           0.01,
           -0.01,
           0.03,
           -0.01,
           0.01,
           0.02,
           1,
           -0.02,
           0,
           -0.01,
           -0.01,
           0.06
          ],
          [
           -0.05,
           0.02,
           0,
           -0.02,
           0.01,
           -0.05,
           0,
           -0.02,
           -0.03,
           0.05,
           0,
           0.02,
           -0.02,
           1,
           0.05,
           -0.04,
           -0.08,
           -0.18
          ],
          [
           -0.02,
           -0.02,
           0.01,
           0.01,
           0,
           -0.01,
           0.02,
           -0.01,
           0,
           -0.01,
           0.01,
           -0.01,
           0,
           0.05,
           1,
           0.02,
           0.04,
           0.1
          ],
          [
           -0.02,
           -0.05,
           -0.03,
           0.08,
           0,
           0.01,
           -0.02,
           0.04,
           -0.01,
           -0.01,
           -0.06,
           -0.31,
           -0.01,
           -0.04,
           0.02,
           1,
           -0.02,
           0.05
          ],
          [
           -0.02,
           0,
           0.02,
           -0.02,
           -0.05,
           0.01,
           -0.04,
           0.03,
           0,
           0.03,
           0.02,
           0.02,
           -0.01,
           -0.08,
           0.04,
           -0.02,
           1,
           0.32
          ],
          [
           -0.06,
           -0.09,
           0.02,
           0.07,
           -0.03,
           -0.03,
           0.05,
           0.08,
           -0.02,
           -0.09,
           -0.11,
           -0.05,
           0.06,
           -0.18,
           0.1,
           0.05,
           0.32,
           1
          ]
         ]
        }
       ],
       "layout": {
        "coloraxis": {
         "colorscale": [
          [
           0,
           "rgb(5,48,97)"
          ],
          [
           0.1,
           "rgb(33,102,172)"
          ],
          [
           0.2,
           "rgb(67,147,195)"
          ],
          [
           0.3,
           "rgb(146,197,222)"
          ],
          [
           0.4,
           "rgb(209,229,240)"
          ],
          [
           0.5,
           "rgb(247,247,247)"
          ],
          [
           0.6,
           "rgb(253,219,199)"
          ],
          [
           0.7,
           "rgb(244,165,130)"
          ],
          [
           0.8,
           "rgb(214,96,77)"
          ],
          [
           0.9,
           "rgb(178,24,43)"
          ],
          [
           1,
           "rgb(103,0,31)"
          ]
         ]
        },
        "height": 500,
        "margin": {
         "b": 50,
         "l": 50,
         "r": 50,
         "t": 50
        },
        "template": {
         "data": {
          "bar": [
           {
            "error_x": {
             "color": "#2a3f5f"
            },
            "error_y": {
             "color": "#2a3f5f"
            },
            "marker": {
             "line": {
              "color": "#E5ECF6",
              "width": 0.5
             },
             "pattern": {
              "fillmode": "overlay",
              "size": 10,
              "solidity": 0.2
             }
            },
            "type": "bar"
           }
          ],
          "barpolar": [
           {
            "marker": {
             "line": {
              "color": "#E5ECF6",
              "width": 0.5
             },
             "pattern": {
              "fillmode": "overlay",
              "size": 10,
              "solidity": 0.2
             }
            },
            "type": "barpolar"
           }
          ],
          "carpet": [
           {
            "aaxis": {
             "endlinecolor": "#2a3f5f",
             "gridcolor": "white",
             "linecolor": "white",
             "minorgridcolor": "white",
             "startlinecolor": "#2a3f5f"
            },
            "baxis": {
             "endlinecolor": "#2a3f5f",
             "gridcolor": "white",
             "linecolor": "white",
             "minorgridcolor": "white",
             "startlinecolor": "#2a3f5f"
            },
            "type": "carpet"
           }
          ],
          "choropleth": [
           {
            "colorbar": {
             "outlinewidth": 0,
             "ticks": ""
            },
            "type": "choropleth"
           }
          ],
          "contour": [
           {
            "colorbar": {
             "outlinewidth": 0,
             "ticks": ""
            },
            "colorscale": [
             [
              0,
              "#0d0887"
             ],
             [
              0.1111111111111111,
              "#46039f"
             ],
             [
              0.2222222222222222,
              "#7201a8"
             ],
             [
              0.3333333333333333,
              "#9c179e"
             ],
             [
              0.4444444444444444,
              "#bd3786"
             ],
             [
              0.5555555555555556,
              "#d8576b"
             ],
             [
              0.6666666666666666,
              "#ed7953"
             ],
             [
              0.7777777777777778,
              "#fb9f3a"
             ],
             [
              0.8888888888888888,
              "#fdca26"
             ],
             [
              1,
              "#f0f921"
             ]
            ],
            "type": "contour"
           }
          ],
          "contourcarpet": [
           {
            "colorbar": {
             "outlinewidth": 0,
             "ticks": ""
            },
            "type": "contourcarpet"
           }
          ],
          "heatmap": [
           {
            "colorbar": {
             "outlinewidth": 0,
             "ticks": ""
            },
            "colorscale": [
             [
              0,
              "#0d0887"
             ],
             [
              0.1111111111111111,
              "#46039f"
             ],
             [
              0.2222222222222222,
              "#7201a8"
             ],
             [
              0.3333333333333333,
              "#9c179e"
             ],
             [
              0.4444444444444444,
              "#bd3786"
             ],
             [
              0.5555555555555556,
              "#d8576b"
             ],
             [
              0.6666666666666666,
              "#ed7953"
             ],
             [
              0.7777777777777778,
              "#fb9f3a"
             ],
             [
              0.8888888888888888,
              "#fdca26"
             ],
             [
              1,
              "#f0f921"
             ]
            ],
            "type": "heatmap"
           }
          ],
          "heatmapgl": [
           {
            "colorbar": {
             "outlinewidth": 0,
             "ticks": ""
            },
            "colorscale": [
             [
              0,
              "#0d0887"
             ],
             [
              0.1111111111111111,
              "#46039f"
             ],
             [
              0.2222222222222222,
              "#7201a8"
             ],
             [
              0.3333333333333333,
              "#9c179e"
             ],
             [
              0.4444444444444444,
              "#bd3786"
             ],
             [
              0.5555555555555556,
              "#d8576b"
             ],
             [
              0.6666666666666666,
              "#ed7953"
             ],
             [
              0.7777777777777778,
              "#fb9f3a"
             ],
             [
              0.8888888888888888,
              "#fdca26"
             ],
             [
              1,
              "#f0f921"
             ]
            ],
            "type": "heatmapgl"
           }
          ],
          "histogram": [
           {
            "marker": {
             "pattern": {
              "fillmode": "overlay",
              "size": 10,
              "solidity": 0.2
             }
            },
            "type": "histogram"
           }
          ],
          "histogram2d": [
           {
            "colorbar": {
             "outlinewidth": 0,
             "ticks": ""
            },
            "colorscale": [
             [
              0,
              "#0d0887"
             ],
             [
              0.1111111111111111,
              "#46039f"
             ],
             [
              0.2222222222222222,
              "#7201a8"
             ],
             [
              0.3333333333333333,
              "#9c179e"
             ],
             [
              0.4444444444444444,
              "#bd3786"
             ],
             [
              0.5555555555555556,
              "#d8576b"
             ],
             [
              0.6666666666666666,
              "#ed7953"
             ],
             [
              0.7777777777777778,
              "#fb9f3a"
             ],
             [
              0.8888888888888888,
              "#fdca26"
             ],
             [
              1,
              "#f0f921"
             ]
            ],
            "type": "histogram2d"
           }
          ],
          "histogram2dcontour": [
           {
            "colorbar": {
             "outlinewidth": 0,
             "ticks": ""
            },
            "colorscale": [
             [
              0,
              "#0d0887"
             ],
             [
              0.1111111111111111,
              "#46039f"
             ],
             [
              0.2222222222222222,
              "#7201a8"
             ],
             [
              0.3333333333333333,
              "#9c179e"
             ],
             [
              0.4444444444444444,
              "#bd3786"
             ],
             [
              0.5555555555555556,
              "#d8576b"
             ],
             [
              0.6666666666666666,
              "#ed7953"
             ],
             [
              0.7777777777777778,
              "#fb9f3a"
             ],
             [
              0.8888888888888888,
              "#fdca26"
             ],
             [
              1,
              "#f0f921"
             ]
            ],
            "type": "histogram2dcontour"
           }
          ],
          "mesh3d": [
           {
            "colorbar": {
             "outlinewidth": 0,
             "ticks": ""
            },
            "type": "mesh3d"
           }
          ],
          "parcoords": [
           {
            "line": {
             "colorbar": {
              "outlinewidth": 0,
              "ticks": ""
             }
            },
            "type": "parcoords"
           }
          ],
          "pie": [
           {
            "automargin": true,
            "type": "pie"
           }
          ],
          "scatter": [
           {
            "fillpattern": {
             "fillmode": "overlay",
             "size": 10,
             "solidity": 0.2
            },
            "type": "scatter"
           }
          ],
          "scatter3d": [
           {
            "line": {
             "colorbar": {
              "outlinewidth": 0,
              "ticks": ""
             }
            },
            "marker": {
             "colorbar": {
              "outlinewidth": 0,
              "ticks": ""
             }
            },
            "type": "scatter3d"
           }
          ],
          "scattercarpet": [
           {
            "marker": {
             "colorbar": {
              "outlinewidth": 0,
              "ticks": ""
             }
            },
            "type": "scattercarpet"
           }
          ],
          "scattergeo": [
           {
            "marker": {
             "colorbar": {
              "outlinewidth": 0,
              "ticks": ""
             }
            },
            "type": "scattergeo"
           }
          ],
          "scattergl": [
           {
            "marker": {
             "colorbar": {
              "outlinewidth": 0,
              "ticks": ""
             }
            },
            "type": "scattergl"
           }
          ],
          "scattermapbox": [
           {
            "marker": {
             "colorbar": {
              "outlinewidth": 0,
              "ticks": ""
             }
            },
            "type": "scattermapbox"
           }
          ],
          "scatterpolar": [
           {
            "marker": {
             "colorbar": {
              "outlinewidth": 0,
              "ticks": ""
             }
            },
            "type": "scatterpolar"
           }
          ],
          "scatterpolargl": [
           {
            "marker": {
             "colorbar": {
              "outlinewidth": 0,
              "ticks": ""
             }
            },
            "type": "scatterpolargl"
           }
          ],
          "scatterternary": [
           {
            "marker": {
             "colorbar": {
              "outlinewidth": 0,
              "ticks": ""
             }
            },
            "type": "scatterternary"
           }
          ],
          "surface": [
           {
            "colorbar": {
             "outlinewidth": 0,
             "ticks": ""
            },
            "colorscale": [
             [
              0,
              "#0d0887"
             ],
             [
              0.1111111111111111,
              "#46039f"
             ],
             [
              0.2222222222222222,
              "#7201a8"
             ],
             [
              0.3333333333333333,
              "#9c179e"
             ],
             [
              0.4444444444444444,
              "#bd3786"
             ],
             [
              0.5555555555555556,
              "#d8576b"
             ],
             [
              0.6666666666666666,
              "#ed7953"
             ],
             [
              0.7777777777777778,
              "#fb9f3a"
             ],
             [
              0.8888888888888888,
              "#fdca26"
             ],
             [
              1,
              "#f0f921"
             ]
            ],
            "type": "surface"
           }
          ],
          "table": [
           {
            "cells": {
             "fill": {
              "color": "#EBF0F8"
             },
             "line": {
              "color": "white"
             }
            },
            "header": {
             "fill": {
              "color": "#C8D4E3"
             },
             "line": {
              "color": "white"
             }
            },
            "type": "table"
           }
          ]
         },
         "layout": {
          "annotationdefaults": {
           "arrowcolor": "#2a3f5f",
           "arrowhead": 0,
           "arrowwidth": 1
          },
          "autotypenumbers": "strict",
          "coloraxis": {
           "colorbar": {
            "outlinewidth": 0,
            "ticks": ""
           }
          },
          "colorscale": {
           "diverging": [
            [
             0,
             "#8e0152"
            ],
            [
             0.1,
             "#c51b7d"
            ],
            [
             0.2,
             "#de77ae"
            ],
            [
             0.3,
             "#f1b6da"
            ],
            [
             0.4,
             "#fde0ef"
            ],
            [
             0.5,
             "#f7f7f7"
            ],
            [
             0.6,
             "#e6f5d0"
            ],
            [
             0.7,
             "#b8e186"
            ],
            [
             0.8,
             "#7fbc41"
            ],
            [
             0.9,
             "#4d9221"
            ],
            [
             1,
             "#276419"
            ]
           ],
           "sequential": [
            [
             0,
             "#0d0887"
            ],
            [
             0.1111111111111111,
             "#46039f"
            ],
            [
             0.2222222222222222,
             "#7201a8"
            ],
            [
             0.3333333333333333,
             "#9c179e"
            ],
            [
             0.4444444444444444,
             "#bd3786"
            ],
            [
             0.5555555555555556,
             "#d8576b"
            ],
            [
             0.6666666666666666,
             "#ed7953"
            ],
            [
             0.7777777777777778,
             "#fb9f3a"
            ],
            [
             0.8888888888888888,
             "#fdca26"
            ],
            [
             1,
             "#f0f921"
            ]
           ],
           "sequentialminus": [
            [
             0,
             "#0d0887"
            ],
            [
             0.1111111111111111,
             "#46039f"
            ],
            [
             0.2222222222222222,
             "#7201a8"
            ],
            [
             0.3333333333333333,
             "#9c179e"
            ],
            [
             0.4444444444444444,
             "#bd3786"
            ],
            [
             0.5555555555555556,
             "#d8576b"
            ],
            [
             0.6666666666666666,
             "#ed7953"
            ],
            [
             0.7777777777777778,
             "#fb9f3a"
            ],
            [
             0.8888888888888888,
             "#fdca26"
            ],
            [
             1,
             "#f0f921"
            ]
           ]
          },
          "colorway": [
           "#636efa",
           "#EF553B",
           "#00cc96",
           "#ab63fa",
           "#FFA15A",
           "#19d3f3",
           "#FF6692",
           "#B6E880",
           "#FF97FF",
           "#FECB52"
          ],
          "font": {
           "color": "#2a3f5f"
          },
          "geo": {
           "bgcolor": "white",
           "lakecolor": "white",
           "landcolor": "#E5ECF6",
           "showlakes": true,
           "showland": true,
           "subunitcolor": "white"
          },
          "hoverlabel": {
           "align": "left"
          },
          "hovermode": "closest",
          "mapbox": {
           "style": "light"
          },
          "paper_bgcolor": "white",
          "plot_bgcolor": "#E5ECF6",
          "polar": {
           "angularaxis": {
            "gridcolor": "white",
            "linecolor": "white",
            "ticks": ""
           },
           "bgcolor": "#E5ECF6",
           "radialaxis": {
            "gridcolor": "white",
            "linecolor": "white",
            "ticks": ""
           }
          },
          "scene": {
           "xaxis": {
            "backgroundcolor": "#E5ECF6",
            "gridcolor": "white",
            "gridwidth": 2,
            "linecolor": "white",
            "showbackground": true,
            "ticks": "",
            "zerolinecolor": "white"
           },
           "yaxis": {
            "backgroundcolor": "#E5ECF6",
            "gridcolor": "white",
            "gridwidth": 2,
            "linecolor": "white",
            "showbackground": true,
            "ticks": "",
            "zerolinecolor": "white"
           },
           "zaxis": {
            "backgroundcolor": "#E5ECF6",
            "gridcolor": "white",
            "gridwidth": 2,
            "linecolor": "white",
            "showbackground": true,
            "ticks": "",
            "zerolinecolor": "white"
           }
          },
          "shapedefaults": {
           "line": {
            "color": "#2a3f5f"
           }
          },
          "ternary": {
           "aaxis": {
            "gridcolor": "white",
            "linecolor": "white",
            "ticks": ""
           },
           "baxis": {
            "gridcolor": "white",
            "linecolor": "white",
            "ticks": ""
           },
           "bgcolor": "#E5ECF6",
           "caxis": {
            "gridcolor": "white",
            "linecolor": "white",
            "ticks": ""
           }
          },
          "title": {
           "x": 0.05
          },
          "xaxis": {
           "automargin": true,
           "gridcolor": "white",
           "linecolor": "white",
           "ticks": "",
           "title": {
            "standoff": 15
           },
           "zerolinecolor": "white",
           "zerolinewidth": 2
          },
          "yaxis": {
           "automargin": true,
           "gridcolor": "white",
           "linecolor": "white",
           "ticks": "",
           "title": {
            "standoff": 15
           },
           "zerolinecolor": "white",
           "zerolinewidth": 2
          }
         }
        },
        "title": {
         "text": "Correlação entre os indicadores com HISTORICO_ATRASO",
         "x": 0.5,
         "xanchor": "center",
         "y": 0.95,
         "yanchor": "top"
        },
        "width": 1200,
        "xaxis": {
         "anchor": "y",
         "domain": [
          0,
          1
         ]
        },
        "yaxis": {
         "anchor": "x",
         "autorange": "reversed",
         "domain": [
          0,
          1
         ]
        }
       }
      }
     },
     "metadata": {},
     "output_type": "display_data"
    }
   ],
   "source": [
    "\n",
    "colunas.append('PROBABILIDADE_INADIMPLENCIA')\n",
    "\n",
    "import plotly.express as px\n",
    "# Gerando uma matriz de correlação para visualizar as relações entre os indicadores.\n",
    "\n",
    "corr = merged_base_pagamentos_teste_full[colunas].corr()\n",
    "\n",
    "fig = px.imshow(\n",
    "    corr.round(2),\n",
    "    text_auto=True,  \n",
    "    aspect='auto', \n",
    "    \n",
    "    color_continuous_scale='RdBu_r', \n",
    "    width=1200, height=500\n",
    "    )\n",
    "\n",
    "fig.update_layout(margin=dict(l=50, r=50, t=50, b=50),\n",
    "                  title=dict(text='Correlação entre os indicadores com HISTORICO_ATRASO', y=0.95, x=0.5, xanchor='center', yanchor='top')\n",
    "                  )\n",
    "fig.show()"
   ]
  },
  {
   "cell_type": "markdown",
   "id": "e27eeeef",
   "metadata": {},
   "source": [
    "Tenho receio que a variavel `HISTORICO_ATRASO` possa estar enviesando o modelo.<br>\n",
    "Ou pode ser o melhor idicador.<br>\n",
    "O problema é que até o primeiro atraso, o cliente não tem esse indicador ativo."
   ]
  },
  {
   "cell_type": "markdown",
   "id": "75faf1ac",
   "metadata": {},
   "source": [
    "##### Entrega"
   ]
  },
  {
   "cell_type": "code",
   "execution_count": 62,
   "id": "8c00fd47",
   "metadata": {},
   "outputs": [],
   "source": [
    "# conclusão\n",
    "base_resposta = merged_base_pagamentos_teste_full[['ID_CLIENTE', 'SAFRA_REF','PROBABILIDADE_INADIMPLENCIA']].copy()\n",
    "# Fé \n",
    "base_resposta.to_csv('submissao_case.csv', index=False, encoding='utf-8', sep=';')"
   ]
  }
 ],
 "metadata": {
  "colab": {
   "collapsed_sections": [
    "be5d09f1",
    "9817e5d5",
    "3be43ce1",
    "6fedd5f3",
    "970d1bef",
    "bf001dc2",
    "FFw0wfwLoiRf"
   ],
   "provenance": []
  },
  "kernelspec": {
   "display_name": "Python 3",
   "language": "python",
   "name": "python3"
  },
  "language_info": {
   "codemirror_mode": {
    "name": "ipython",
    "version": 3
   },
   "file_extension": ".py",
   "mimetype": "text/x-python",
   "name": "python",
   "nbconvert_exporter": "python",
   "pygments_lexer": "ipython3",
   "version": "3.12.10"
  }
 },
 "nbformat": 4,
 "nbformat_minor": 5
}
